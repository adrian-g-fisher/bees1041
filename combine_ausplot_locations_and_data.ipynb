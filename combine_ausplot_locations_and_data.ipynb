{
 "cells": [
  {
   "cell_type": "code",
   "execution_count": 14,
   "id": "67c9d8e8-8a76-4632-bec4-f9e7af8b3dd8",
   "metadata": {},
   "outputs": [],
   "source": [
    "import numpy as np\n",
    "\n",
    "# Read in locations\n",
    "loc_id = []\n",
    "long = []\n",
    "lat = []\n",
    "with open(\"ausplot_forest_locations.csv\", 'r') as f:\n",
    "    f.readline()\n",
    "    for line in f:\n",
    "        loc_id.append(line.split(',')[0])\n",
    "        long.append(float(line.split(',')[1]))\n",
    "        lat.append(float(line.strip().split(',')[2]))\n",
    "loc_id = np.array(loc_id)\n",
    "long = np.array(long)\n",
    "lat = np.array(lat)\n",
    "\n",
    "aus_id = []\n",
    "data = []\n",
    "with open(\"ausplot_forest_data.csv\", 'r') as f:\n",
    "    header = f.readline()\n",
    "    for line in f:\n",
    "        data.append(line)\n",
    "        aus_id.append(line.split(',')[1])\n",
    "        \n",
    "with open(\"ausplot_data_and_location.csv\", 'w') as f:\n",
    "    f.write('longitude,latitude,%s'%header)\n",
    "    for i in range(len(aus_id)):\n",
    "        longitude = long[loc_id == aus_id[i]]\n",
    "        latitude = lat[loc_id == aus_id[i]]\n",
    "        if len(longitude) == 0:\n",
    "            print(aus_id[i])\n",
    "        \n",
    "        line = '%.6f,%.6f,%s'%(longitude,latitude,data[i])\n",
    "        f.write(line)"
   ]
  },
  {
   "cell_type": "code",
   "execution_count": null,
   "id": "76e07196-0e99-4779-9027-ed9d6ce571a6",
   "metadata": {},
   "outputs": [],
   "source": []
  }
 ],
 "metadata": {
  "kernelspec": {
   "display_name": "Python 3",
   "language": "python",
   "name": "python3"
  },
  "language_info": {
   "codemirror_mode": {
    "name": "ipython",
    "version": 3
   },
   "file_extension": ".py",
   "mimetype": "text/x-python",
   "name": "python",
   "nbconvert_exporter": "python",
   "pygments_lexer": "ipython3",
   "version": "3.8.8"
  }
 },
 "nbformat": 4,
 "nbformat_minor": 5
}
