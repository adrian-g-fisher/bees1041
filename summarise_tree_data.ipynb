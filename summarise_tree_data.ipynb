{
 "cells": [
  {
   "cell_type": "code",
   "execution_count": 1,
   "id": "30d651d0-1782-4670-89bb-5f291cf529f1",
   "metadata": {},
   "outputs": [
    {
     "data": {
      "text/html": [
       "4.12310562692639"
      ],
      "text/latex": [
       "4.12310562692639"
      ],
      "text/markdown": [
       "4.12310562692639"
      ],
      "text/plain": [
       "[1] 4.123106"
      ]
     },
     "metadata": {},
     "output_type": "display_data"
    }
   ],
   "source": [
    "# Read data\n",
    "tree_data <- read.csv('bees1041_tree_data_2023.csv')\n",
    "\n",
    "# Remove trees with incorrect height measurements \n",
    "tree_data$Angle_radians <- tree_data$Angle * (pi/180)\n",
    "tree_data$tree_height_calc <- tree_data$Eye_height_m + (tree_data$Distance_m * tan(tree_data$Angle_radians))\n",
    "tree_data$height_error <- abs(tree_data$Tree_height_m - tree_data$tree_height_calc)\n",
    "tree_data <- subset(tree_data, height_error < 5) # Use a treshold error of 5 m\n",
    "\n",
    "# Remove trees that are not Eucalyptus grandis\n",
    "tree_data <- subset(tree_data, Tree_type == 'Eucalyptus grandis')\n",
    "\n",
    "# Calculate median dbh and remove outliers\n",
    "trees_median_dbh <- aggregate(tree_data$dbh_cm, by = list(tree_data$Name), FUN = median)\n",
    "colnames(trees_median_dbh) <- c(\"Name\", \"median_dbh_cm\")\n",
    "tree_data_merged <- merge(tree_data, trees_median_dbh, by = 'Name')                  # merge the median values into the original data\n",
    "tree_data_merged$dbh_dif <- tree_data_merged$dbh_cm - tree_data_merged$median_dbh_cm # calculate the difference between the values and the medians\n",
    "tree_data_subset <- subset(tree_data_merged, dbh_dif <= 5)                           # only keep data where the difference is less than 5 cm\n",
    "\n",
    "# Calculate median height, latitude and longitude\n",
    "tree_data_median <- aggregate(cbind(tree_data_subset$dbh_cm, tree_data_subset$Tree_height_m, tree_data_subset$Latitude, tree_data_subset$Longitude),\n",
    "                              by = list(tree_data_subset$Name), FUN = median)\n",
    "colnames(tree_data_median) <- c(\"Name\", \"dbh_cm\", \"height_m\", \"latitude\", \"longitude\")\n",
    "\n",
    "# Save data to CSV file\n",
    "write.csv(tree_data_median, \"bees1041_tree_medians_2023.csv\", row.names=FALSE)\n",
    "\n",
    "# Calculate the median distance between the tree locations and the median locations\n",
    "tree_data_merged <- merge(tree_data_subset, tree_data_median, by = 'Name')           # merge the median values into the original data\n",
    "tree_data_merged$loc_diff <- sqrt((tree_data_merged$latitude - tree_data_merged$Latitude)^2 + (tree_data_merged$longitude - tree_data_merged$Longitude)^2)\n",
    "median_degrees_loc_dif <- median(tree_data_merged$loc_diff) # Median difference in location (degrees)\n",
    "median_degrees_loc_dif * 100000                             # Approximate conversion to metres (only works at Sydney's latitude)"
   ]
  },
  {
   "cell_type": "code",
   "execution_count": null,
   "id": "3c8e60a9-5176-411d-abba-d1e4a82bac2a",
   "metadata": {},
   "outputs": [],
   "source": []
  }
 ],
 "metadata": {
  "kernelspec": {
   "display_name": "R",
   "language": "R",
   "name": "ir"
  },
  "language_info": {
   "codemirror_mode": "r",
   "file_extension": ".r",
   "mimetype": "text/x-r-source",
   "name": "R",
   "pygments_lexer": "r",
   "version": "3.6.1"
  }
 },
 "nbformat": 4,
 "nbformat_minor": 5
}
