{
 "cells": [
  {
   "cell_type": "markdown",
   "metadata": {},
   "source": [
    "Read in required libraries and the grass data, and check the column names and number of rows"
   ]
  },
  {
   "cell_type": "code",
   "execution_count": null,
   "metadata": {},
   "outputs": [],
   "source": [
    "library(ggplot2)\n",
    "\n",
    "grass_data <- read.csv('grass_height_biomass.csv')\n",
    "colnames(grass_data)\n",
    "nrow(grass_data)"
   ]
  },
  {
   "cell_type": "markdown",
   "metadata": {},
   "source": [
    "Create a linear regression model to predict biomass from height"
   ]
  },
  {
   "cell_type": "code",
   "execution_count": null,
   "metadata": {},
   "outputs": [],
   "source": [
    "biomass_model <- lm(data = grass_data, dry_biomass_g ~ drone_mean_height_cm)\n",
    "summary(biomass_model)"
   ]
  },
  {
   "cell_type": "markdown",
   "metadata": {},
   "source": [
    "Create a scatter plot of the data including he linear regression model"
   ]
  },
  {
   "cell_type": "code",
   "execution_count": null,
   "metadata": {},
   "outputs": [],
   "source": [
    "grass_data$predicted_biomass <- predict(biomass_model)\n",
    "\n",
    "options(repr.plot.width=6, repr.plot.height=6)\n",
    "\n",
    "ggplot(grass_data, aes(x = drone_mean_height_cm , y = dry_biomass_g)) +\n",
    "       geom_point(size = 3) +\n",
    "       labs(x = \"Drone mean height (cm)\", y = \"Dry biomass (g)\") +\n",
    "       geom_line(aes(y = predicted_biomass), size = 1, color = 'red', linetype = \"dashed\") +\n",
    "       theme_bw(base_size = 18)"
   ]
  },
  {
   "cell_type": "markdown",
   "metadata": {},
   "source": [
    "Include the global biomass model on the scatter plot to compare slopes"
   ]
  },
  {
   "cell_type": "code",
   "execution_count": null,
   "metadata": {},
   "outputs": [],
   "source": [
    "grass_data$global_biomass <- 28.98 * grass_data$drone_mean_height_cm\n",
    "\n",
    "ggplot(grass_data, aes(x = drone_mean_height_cm , y = dry_biomass_g)) +\n",
    "       geom_point(size = 3) +\n",
    "       labs(x = \"Drone mean height (cm)\", y = \"Dry biomass (g)\") +\n",
    "       geom_line(aes(y = predicted_biomass), size = 1, color = 'red', linetype = \"dashed\") +\n",
    "       geom_line(aes(y = global_biomass), size = 1, color = 'blue', linetype = \"dashed\") +\n",
    "       theme_bw(base_size = 18)"
   ]
  },
  {
   "cell_type": "markdown",
   "metadata": {},
   "source": [
    "Look for patterns in the residual plot"
   ]
  },
  {
   "cell_type": "code",
   "execution_count": null,
   "metadata": {},
   "outputs": [],
   "source": [
    "options(repr.plot.width=10, repr.plot.height=6)\n",
    "\n",
    "plot(biomass_model, which = 1)"
   ]
  },
  {
   "cell_type": "markdown",
   "metadata": {},
   "source": [
    "Transform the predictor variable with the logarithm function and create a new linear regression model "
   ]
  },
  {
   "cell_type": "code",
   "execution_count": null,
   "metadata": {},
   "outputs": [],
   "source": [
    "log_model <- lm(data = grass_data, dry_biomass_g ~ log(drone_mean_height_cm))\n",
    "summary(log_model)\n",
    "options(repr.plot.width=10, repr.plot.height=6)\n",
    "plot(log_model, which = 1)"
   ]
  },
  {
   "cell_type": "markdown",
   "metadata": {},
   "source": [
    "Create a scatter plot of the log tranformed data and model"
   ]
  },
  {
   "cell_type": "code",
   "execution_count": null,
   "metadata": {},
   "outputs": [],
   "source": [
    "grass_data$predicted_biomass_log <- predict(log_model)\n",
    "\n",
    "options(repr.plot.width=6, repr.plot.height=6)\n",
    "\n",
    "ggplot(grass_data, aes(x = log(drone_mean_height_cm), y = dry_biomass_g)) +\n",
    "       geom_point(size = 3) +\n",
    "       labs(x = \"Log of drone mean height (cm)\", y = \"Dry biomass (g)\") +\n",
    "       geom_line(aes(y = predicted_biomass_log), size = 1, color = 'red', linetype = \"dashed\") +\n",
    "       theme_bw(base_size = 18)"
   ]
  },
  {
   "cell_type": "markdown",
   "metadata": {},
   "source": [
    "To force the linear model through zero, you specify a zero intercept in the lm() function"
   ]
  },
  {
   "cell_type": "code",
   "execution_count": null,
   "metadata": {},
   "outputs": [],
   "source": [
    "biomass_model <- lm(data = grass_data, dry_biomass_g ~ 0 + drone_mean_height_cm)\n",
    "summary(biomass_model)"
   ]
  },
  {
   "cell_type": "code",
   "execution_count": null,
   "metadata": {},
   "outputs": [],
   "source": []
  }
 ],
 "metadata": {
  "kernelspec": {
   "display_name": "R",
   "language": "R",
   "name": "ir"
  },
  "language_info": {
   "codemirror_mode": "r",
   "file_extension": ".r",
   "mimetype": "text/x-r-source",
   "name": "R",
   "pygments_lexer": "r",
   "version": "4.1.2"
  }
 },
 "nbformat": 4,
 "nbformat_minor": 4
}
