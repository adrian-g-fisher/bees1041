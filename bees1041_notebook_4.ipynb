{
 "cells": [
  {
   "cell_type": "markdown",
   "metadata": {},
   "source": [
    "# BEES1041 Exploring the Natural World #\n",
    "# Week 5 Computer Exercise - Introduction to Python #\n",
    "***\n",
    "This week..."
   ]
  },
  {
   "cell_type": "code",
   "execution_count": null,
   "metadata": {},
   "outputs": [],
   "source": []
  },
  {
   "cell_type": "code",
   "execution_count": null,
   "metadata": {},
   "outputs": [],
   "source": []
  },
  {
   "cell_type": "code",
   "execution_count": null,
   "metadata": {},
   "outputs": [],
   "source": [
    "import matplotlib.pyplot as plt\n",
    "import cartopy.crs as ccrs"
   ]
  },
  {
   "cell_type": "code",
   "execution_count": null,
   "metadata": {},
   "outputs": [],
   "source": [
    "fig = plt.figure(figsize=(10, 5))\n",
    "ax = fig.add_subplot(1, 1, 1, projection=ccrs.Robinson())\n",
    "ax.set_global()\n",
    "ax.stock_img()\n",
    "ax.gridlines()\n",
    "plt.show()"
   ]
  },
  {
   "cell_type": "code",
   "execution_count": null,
   "metadata": {},
   "outputs": [],
   "source": [
    "fig = plt.figure(figsize=(10, 5))\n",
    "ax = fig.add_subplot(1, 1, 1, projection=ccrs.Orthographic(135, -30))\n",
    "ax.set_global()\n",
    "ax.stock_img()\n",
    "ax.gridlines()\n",
    "plt.show()"
   ]
  },
  {
   "cell_type": "markdown",
   "metadata": {},
   "source": [
    "I downloaded the global topography and bathymetry grid from here: https://www.gebco.net/data_and_products/gridded_bathymetry_data/\n",
    "\n",
    "All the data was in a 4 GB zipfile. I unzipped the data, resampled to a coarser pixel size and merged the files into a single global grid.\n",
    "\n",
    "We can add this data to the global map using the following code."
   ]
  },
  {
   "cell_type": "code",
   "execution_count": null,
   "metadata": {},
   "outputs": [],
   "source": [
    "import matplotlib.pyplot as plt\n",
    "import cartopy.crs as ccrs\n",
    "from cartopy.io.shapereader import Reader\n",
    "from cartopy.feature import ShapelyFeature\n",
    "from osgeo import gdal\n",
    "\n",
    "\n",
    "demFile = \"global_gebco.tif\"\n",
    "ds = gdal.Open(demFile)\n",
    "img = ds.ReadAsArray()\n",
    "gt = ds.GetGeoTransform()\n",
    "extent = (gt[0], gt[0] + ds.RasterXSize * gt[1],\n",
    "          gt[3] + ds.RasterYSize * gt[5], gt[3])\n",
    "\n",
    "shapefile = \"world-coastline.shp\"\n",
    "shape_feature = ShapelyFeature(Reader(shapefile).geometries(), ccrs.PlateCarree(), facecolor='none', edgecolor='black', linewidth=0.5)\n",
    "\n",
    "fig = plt.figure(figsize=(10, 5))\n",
    "ax = fig.add_subplot(1, 1, 1, projection=ccrs.Orthographic(135, -30))\n",
    "ax.set_global()\n",
    "im = ax.imshow(img, cmap='jet', origin='upper', extent=extent, transform=ccrs.PlateCarree(), vmin=-6000, vmax=4000)\n",
    "ax.add_feature(shape_feature)\n",
    "ax.gridlines()\n",
    "cbaxes = fig.add_axes([0.6, 0.1, 0.1, 0.01])\n",
    "cbar = plt.colorbar(im, orientation='horizontal', cax=cbaxes, ticks=[-6000, 0, 4000])\n",
    "cbar.set_label('Elevation (m)')\n",
    "plt.savefig(\"globe_jet.png\", dpi=300)\n",
    "plt.show()"
   ]
  },
  {
   "cell_type": "markdown",
   "metadata": {},
   "source": [
    "This is the end of the exercise...\n",
    "\n",
    "***\n",
    "# Final instructions #\n",
    "There are a few things you need to do:\n",
    "- Dont forget to answer the Moodle quiz questions for this exercise.\n",
    "- If you have any problems, or questions, please post on the Moodle forum.\n",
    "- Save the completed notebook and download it to your computer, as SWAN scratch directories get emptied. Or you can move the files into your Cloustor directory.\n",
    "\n",
    "***\n",
    "# Further exercises #\n",
    "..."
   ]
  }
 ],
 "metadata": {
  "kernelspec": {
   "display_name": "Python 3",
   "language": "python",
   "name": "python3"
  },
  "language_info": {
   "codemirror_mode": {
    "name": "ipython",
    "version": 3
   },
   "file_extension": ".py",
   "mimetype": "text/x-python",
   "name": "python",
   "nbconvert_exporter": "python",
   "pygments_lexer": "ipython3",
   "version": "3.7.6"
  }
 },
 "nbformat": 4,
 "nbformat_minor": 4
}
