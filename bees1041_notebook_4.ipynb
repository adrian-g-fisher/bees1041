{
 "cells": [
  {
   "cell_type": "markdown",
   "metadata": {
    "id": "TlR-2UGEhmly"
   },
   "source": [
    "# BEES1041 Exploring the Natural World #\n",
    "# Week 4 Computer Exercise - Tree locations #\n",
    "***\n",
    "Last week, you looked at the diameter (DBH) and height data from the trees measured in Centennial Park. This week you will look at the locations of the trees that you recorded using your phones. Firstly, you need to remove the repeated measurements from the data, and summarise the tree locations. You can do this by calculating the median value of latitude and longitude for each tree name. The median is less influenced by outliers than the mean, so wont be as affected by incorrect locations.\n",
    "\n",
    "***\n",
    "\n",
    "The first section of code repeats what you did last week to remove outliers and create a dataframe with a subset of the measurements."
   ]
  },
  {
   "cell_type": "code",
   "execution_count": null,
   "metadata": {
    "id": "ZLEQewVrhml0"
   },
   "outputs": [],
   "source": [
    "library(dplyr)\n",
    "\n",
    "# Read in the data \n",
    "tree_data <- read.csv('bees1041_tree_data_2024.csv')\n",
    "\n",
    "# Remove the DBH outliers\n",
    "trees_median_dbh <- aggregate(tree_data$dbh_cm, by = list(tree_data$Name), FUN = median)\n",
    "colnames(trees_median_dbh) <- c(\"Name\", \"median_dbh_cm\")\n",
    "tree_data_merged <- merge(tree_data, trees_median_dbh, by = 'Name')\n",
    "tree_data_merged$dbh_dif <- abs(tree_data_merged$dbh_cm - tree_data_merged$median_dbh_cm) # calculate the difference between the values and the medians\n",
    "tree_data_subset <- subset(tree_data_merged, dbh_dif <= 5) # only keep data where the difference is less than 5 cm\n",
    "\n",
    "# Remove the height outliers\n",
    "trees_median_height <- aggregate(tree_data_subset$Tree_height_m, by = list(tree_data_subset$Name), FUN = median)\n",
    "colnames(trees_median_height) <- c(\"Name\", \"median_tree_height_m\")\n",
    "tree_data_subset <- merge(tree_data_subset, trees_median_height, by = 'Name')\n",
    "tree_data_subset$height_dif <- abs(tree_data_subset$Tree_height_m - tree_data_subset$median_tree_height_m) # calculate the difference between the values and the medians\n",
    "tree_data_subset <- subset(tree_data_subset, height_dif <= 10) # only keep data where the difference is less than 10 m\n",
    "\n",
    "# Remove trees that were only measured once\n",
    "tree_count <- aggregate(tree_data_subset$dbh_cm, by = list(tree_data_subset$Name), FUN = NROW)\n",
    "colnames(tree_count) <- c(\"Name\", \"times_measured\")\n",
    "tree_data_subset <- merge(tree_data_subset, tree_count, by = 'Name')\n",
    "tree_data_subset <- subset(tree_data_subset, times_measured > 1)"
   ]
  },
  {
   "cell_type": "markdown",
   "metadata": {},
   "source": [
    "Now we should check the latitude and longitude values. These should all be within the bounding box of the site, which is:\n",
    "* Latitude should be between -33.893244 and -33.891966 \n",
    "* Longitude should be between 151.235847 and 151.237977\n",
    "\n",
    "We can remove values outside the bounding box by setting them to `NA`."
   ]
  },
  {
   "cell_type": "code",
   "execution_count": null,
   "metadata": {},
   "outputs": [],
   "source": [
    "tree_data_subset$Latitude[tree_data_subset$Latitude <  -33.893244] <- NA\n",
    "tree_data_subset$Latitude[tree_data_subset$Latitude >  -33.891966] <- NA\n",
    "tree_data_subset$Longitude[tree_data_subset$Longitude < 151.235847] <- NA\n",
    "tree_data_subset$Longitude[tree_data_subset$Longitude > 151.237977] <- NA"
   ]
  },
  {
   "cell_type": "markdown",
   "metadata": {},
   "source": [
    "Now we can create a dataframe calculating the median value for DBH, height, latitude and longitude and save it as a CSV file."
   ]
  },
  {
   "cell_type": "code",
   "execution_count": null,
   "metadata": {},
   "outputs": [],
   "source": [
    "tree_data_median <- aggregate(cbind(tree_data_subset$dbh_cm, tree_data_subset$Tree_height_m, tree_data_subset$Latitude, tree_data_subset$Longitude),\n",
    "                              by = list(tree_data_subset$Name), FUN = median, na.rm=TRUE, na.action = na.pass)\n",
    "colnames(tree_data_median) <- c(\"Name\", \"median_dbh_cm\", \"median_height_m\", \"median_latitude\", \"median_longitude\")\n",
    "write.csv(tree_data_median, \"bees1041_tree_medians_2024.csv\", row.names=FALSE)"
   ]
  },
  {
   "cell_type": "markdown",
   "metadata": {},
   "source": [
    "Lastly, we can calculate the median difference between the tree locations and the median locations."
   ]
  },
  {
   "cell_type": "code",
   "execution_count": null,
   "metadata": {},
   "outputs": [],
   "source": [
    "# Merge the median values into the original data\n",
    "tree_data_merged <- merge(tree_data_subset, tree_data_median, by = 'Name')     \n",
    "\n",
    "# Caluclate the difference in location\n",
    "tree_data_merged$loc_diff <- sqrt((tree_data_merged$median_latitude - tree_data_merged$Latitude)^2 +\n",
    "                                  (tree_data_merged$median_longitude - tree_data_merged$Longitude)^2)\n",
    "\n",
    "# Calculate the median difference in location (degrees)\n",
    "median_degrees_loc_dif <- median(tree_data_merged$loc_diff, na.rm=TRUE)\n",
    "\n",
    "# Approximate conversion to metres (only works at Sydney's latitude)\n",
    "median_degrees_loc_dif * 100000                             "
   ]
  }
 ],
 "metadata": {
  "colab": {
   "provenance": []
  },
  "kernelspec": {
   "display_name": "R",
   "language": "R",
   "name": "ir"
  },
  "language_info": {
   "codemirror_mode": "r",
   "file_extension": ".r",
   "mimetype": "text/x-r-source",
   "name": "R",
   "pygments_lexer": "r",
   "version": "4.4.1"
  }
 },
 "nbformat": 4,
 "nbformat_minor": 4
}
