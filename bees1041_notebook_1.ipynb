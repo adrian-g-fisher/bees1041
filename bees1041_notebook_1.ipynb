{
 "cells": [
  {
   "cell_type": "markdown",
   "id": "c8212870-4c4e-48c4-81ef-8fac307ce29f",
   "metadata": {
    "id": "c8212870-4c4e-48c4-81ef-8fac307ce29f"
   },
   "source": [
    "# BEES1041 Exploring the Natural World #\n",
    "# Week 1 Computer Exercise - Introduction to R #\n",
    "***\n",
    "This is a Jupyter notebook, which organises code and text into cells. This first cell is a text cell, which is formatted using a simple language called markdown. If you double click in this cell, you can edit it. You can also include formulas in markdown, like this one that relates the area (<em>a</em>) and radius (<em>r</em>) of a circle:\n",
    "\n",
    "$a = \\pi{r}^2$.\n",
    "\n",
    "As this is the first computer exercise, it is a basic introduction to using R in a Jupyter Notebook on SWAN. The following text cells explain several important conponents of the R language, while the code cells demonstrate each component with an example. The next cell is a code cell, with a single line of code. Click on the cell to highlight it, and then click on the run button to see what the code does. When code is running the cell has `[*]` next to it, and when it is finished it has a number `[1]`, which is the number of times it has been run."
   ]
  },
  {
   "cell_type": "code",
   "execution_count": null,
   "id": "31152e42-d307-4009-a356-e1b2aefed2d1",
   "metadata": {
    "id": "31152e42-d307-4009-a356-e1b2aefed2d1"
   },
   "outputs": [],
   "source": [
    "head(iris)"
   ]
  },
  {
   "cell_type": "markdown",
   "id": "88e2cff0-b206-4d7d-8b1e-b53e13f57dd8",
   "metadata": {
    "id": "88e2cff0-b206-4d7d-8b1e-b53e13f57dd8"
   },
   "source": [
    "The above cell uses the `head()` function to display the first six rows of a data set. Functions are bits of code that are stored in the code library, which take arguments inside their brackets. If you want to know more about how a function works, or what arguments it will accept, you can get a description by using the `help()` function. For example, you can run `help(head)` to see how the `head()` function works.\n",
    "\n",
    "The `iris` data set is one of several that are built-in to the R language. They are included to make it easy to get started learning the language, and are convenient to test bits of code. The `iris` data set contains the measurements in centimeters of different flower components (sepal length and width, and petal length and width), for 50 flowers from each of 3 species of iris plant. To read more on the data set you can run `help(iris)`.\n",
    "\n",
    "The `iris` data set is stored as an R data frame, which is like a table, with data arranged in rows and columns. The top line of the table, called the header, contains the column names, and each line afterward is a data row. Each column of a data frame can contain different types of data, such as numbers, text, or dates. A column of data can be accessed directly by using the dollar sign, such as in the code below, which uses the `min()` and `max()` functions to show the range of values for the `iris$Petal.Length` column. Click on the cell and run the two lines of code."
   ]
  },
  {
   "cell_type": "code",
   "execution_count": null,
   "id": "1e95064f-9465-4b12-9c7d-12dbd14ab644",
   "metadata": {
    "id": "1e95064f-9465-4b12-9c7d-12dbd14ab644"
   },
   "outputs": [],
   "source": [
    "min(iris$Petal.Length)\n",
    "max(iris$Petal.Length)"
   ]
  },
  {
   "cell_type": "markdown",
   "id": "96e8246f-4f8d-4532-8cae-30386c95919b",
   "metadata": {
    "id": "96e8246f-4f8d-4532-8cae-30386c95919b"
   },
   "source": [
    "When a code cell has more than one line, it executes line-by-line, from top to bottom. This is similar to running a script, which is a just a file that runs all the code it contains.\n",
    "\n",
    "You can access values of a data frame using their row and column numbers inside a set of square brackets. To see the value in the first row of the second column, run the following cell."
   ]
  },
  {
   "cell_type": "code",
   "execution_count": null,
   "id": "921c57fd-8baa-4f30-93df-9490cde71543",
   "metadata": {
    "id": "921c57fd-8baa-4f30-93df-9490cde71543"
   },
   "outputs": [],
   "source": [
    "iris[1,2]"
   ]
  },
  {
   "cell_type": "markdown",
   "id": "34b3dbfd-b42d-4b9a-b254-e58ae14d1d6f",
   "metadata": {
    "id": "34b3dbfd-b42d-4b9a-b254-e58ae14d1d6f"
   },
   "source": [
    "You can access a particular row of the data frame by leaving out the column number. For example, to see the third row, run the following cell."
   ]
  },
  {
   "cell_type": "code",
   "execution_count": null,
   "id": "13c2fbda-c247-4fd0-953e-d6f97633a94d",
   "metadata": {
    "id": "13c2fbda-c247-4fd0-953e-d6f97633a94d"
   },
   "outputs": [],
   "source": [
    "iris[3,]"
   ]
  },
  {
   "cell_type": "markdown",
   "id": "7e9fbdcd-d883-4e18-9d2f-f983e3d089a7",
   "metadata": {
    "id": "7e9fbdcd-d883-4e18-9d2f-f983e3d089a7"
   },
   "source": [
    "You can access a column in the same way. If you want a range of rows for a particular column you can access them using a range of numbers separated by a `:`. To see the values for the fourth column, that are between the 49th and 52nd rows, run the following cell."
   ]
  },
  {
   "cell_type": "code",
   "execution_count": null,
   "id": "267502e0-9bb0-4c3f-bae1-781830c9b26f",
   "metadata": {
    "id": "267502e0-9bb0-4c3f-bae1-781830c9b26f"
   },
   "outputs": [],
   "source": [
    "iris[49:52, 4]"
   ]
  },
  {
   "cell_type": "markdown",
   "id": "3b875c17-7c00-4c24-822f-d5fe90318306",
   "metadata": {
    "id": "3b875c17-7c00-4c24-822f-d5fe90318306"
   },
   "source": [
    "You can get other information about the data frame using lots of differnt functions. For example, the `nrow()` function gives you the numbr of rows, while `ncol()` gives the number of columns."
   ]
  },
  {
   "cell_type": "code",
   "execution_count": null,
   "id": "a152db92-f0ce-4061-8c1f-8e30470956d4",
   "metadata": {
    "id": "a152db92-f0ce-4061-8c1f-8e30470956d4"
   },
   "outputs": [],
   "source": [
    "nrow(iris)\n",
    "ncol(iris)"
   ]
  },
  {
   "cell_type": "markdown",
   "id": "dcd4f712-3e65-454e-988e-d59ec935529c",
   "metadata": {
    "id": "dcd4f712-3e65-454e-988e-d59ec935529c"
   },
   "source": [
    "You can assign the output from a function to a new object using the `<-` symbol, which is just a `<` followed by a `-`. You can make up the object name, but they can't have spaces, and its best to keep them simple and descriptive. The following code uses the `colnames()` function to create an object called `column_names`. This object is a vector, or list, of the column names. You can access particular elements of vectors using the square brackets, like you did with the data frame. The following creates the column_names vector and prints the third value."
   ]
  },
  {
   "cell_type": "code",
   "execution_count": null,
   "id": "b1542190-4d2e-4530-b376-a2595166d832",
   "metadata": {
    "id": "b1542190-4d2e-4530-b376-a2595166d832"
   },
   "outputs": [],
   "source": [
    "column_names <- colnames(iris)\n",
    "column_names[3]"
   ]
  },
  {
   "cell_type": "markdown",
   "id": "74eca417-31d8-4cff-b682-1e8cd4d022fc",
   "metadata": {
    "id": "74eca417-31d8-4cff-b682-1e8cd4d022fc"
   },
   "source": [
    "You can change values of a vector or data frame by using the `<-` symbol to assign the new value. For example, the following code changes the third element of the column_names vector to `petal_length`. As this is a text element, you need to enclose the text with quotation marks. You can use single quotes `'petal_length'` or double quotes `\"petal_length\"`, R treats them both the same."
   ]
  },
  {
   "cell_type": "code",
   "execution_count": null,
   "id": "61884009-0ead-4512-ab60-6a437ab4e20d",
   "metadata": {
    "id": "61884009-0ead-4512-ab60-6a437ab4e20d"
   },
   "outputs": [],
   "source": [
    "column_names[3] <- 'petal_length'\n",
    "column_names"
   ]
  },
  {
   "cell_type": "markdown",
   "id": "819cdeb4-6850-407a-a75a-d0b2e03e7cf0",
   "metadata": {
    "id": "819cdeb4-6850-407a-a75a-d0b2e03e7cf0"
   },
   "source": [
    "It is possible to create new data frames that are subsets of existing data frames. For example, say you only want to examine the data on the `virginica` species of iris, you can select those rows using the `subset()` function. Note that the condition used in `subset()` is `Species == 'virginica'`, which uses a double equal sign `==` to define where a condition is true. The `summary()` function is useful to display statistics."
   ]
  },
  {
   "cell_type": "code",
   "execution_count": null,
   "id": "e8e65526-7658-4a46-ac7a-b82ca40d80ff",
   "metadata": {
    "id": "e8e65526-7658-4a46-ac7a-b82ca40d80ff"
   },
   "outputs": [],
   "source": [
    "virginica_data <- subset(iris, Species == 'virginica')\n",
    "summary(virginica_data)"
   ]
  },
  {
   "cell_type": "markdown",
   "id": "781d58f2-206d-4cea-9c10-f865274f01df",
   "metadata": {
    "id": "781d58f2-206d-4cea-9c10-f865274f01df"
   },
   "source": [
    "Other conditional statements like 'not equal to' `!=`, 'greater than' `>`, 'less than' `<`, 'greater than or equal to `>=`, and 'less than or equal to' `<=` can also be used to select subsets. For example, we can select only those rows in the iris data where `Petal.Length` is greater than or equal to 4."
   ]
  },
  {
   "cell_type": "code",
   "execution_count": null,
   "id": "e11d258e-dcf4-4300-9d73-cbabd4f0e172",
   "metadata": {
    "id": "e11d258e-dcf4-4300-9d73-cbabd4f0e172"
   },
   "outputs": [],
   "source": [
    "long_petal_data <- subset(iris, Petal.Length >= 4)\n",
    "nrow(long_petal_data)\n",
    "min(long_petal_data$Petal.Length)"
   ]
  },
  {
   "cell_type": "markdown",
   "id": "631f29e3-29db-441a-a945-746d0f4a8be4",
   "metadata": {
    "id": "631f29e3-29db-441a-a945-746d0f4a8be4"
   },
   "source": [
    "Sometimes, a single line of code goes over more than one line. This is necessary when the line is too long to display, and/or to make the code more readable. For example, you can combine multiple conditions to select a subset using the `&` operator. As long as the conditions are encolsed in brackets, R will ignore the three seperate lines, and read the following call of the `subset()` function as a single line.  "
   ]
  },
  {
   "cell_type": "code",
   "execution_count": null,
   "id": "d7394922-b676-49de-a7e9-e2624fb303b3",
   "metadata": {
    "id": "d7394922-b676-49de-a7e9-e2624fb303b3"
   },
   "outputs": [],
   "source": [
    "long_skinny_virginica <- subset(iris, Species == 'virginica' &\n",
    "                                      Petal.Length >= 5 &\n",
    "                                      Petal.Width <= 2)\n",
    "nrow(long_skinny_virginica)"
   ]
  },
  {
   "cell_type": "markdown",
   "id": "ff768c49-ed05-42e9-98cb-c2f944203201",
   "metadata": {
    "id": "ff768c49-ed05-42e9-98cb-c2f944203201"
   },
   "source": [
    "R lets you do mathematical calculations on whole columns of data, just by using the `+` plus, `-` minus, `/` divide and `*` multiply symbols. It also has many functions for statistical caluclations, such as `mean()` to calculate the mean or average, and `sd()` to calculate the standard deviation. The following code calculates an area column as the length column multiplied by the width column. Then it calculates the mean and standard deviation of this new area column."
   ]
  },
  {
   "cell_type": "code",
   "execution_count": null,
   "id": "4472bfcb-a44a-4acd-8132-102c42cd3de4",
   "metadata": {
    "id": "4472bfcb-a44a-4acd-8132-102c42cd3de4"
   },
   "outputs": [],
   "source": [
    "long_skinny_virginica$Petal.Area <- long_skinny_virginica$Petal.Length * long_skinny_virginica$Petal.Width\n",
    "mean(long_skinny_virginica$Petal.Area)\n",
    "sd(long_skinny_virginica$Petal.Area)"
   ]
  },
  {
   "cell_type": "markdown",
   "id": "a9187e6c-9d40-4595-84e4-e6e806229c5d",
   "metadata": {
    "id": "a9187e6c-9d40-4595-84e4-e6e806229c5d"
   },
   "source": [
    "This is the end of the exercise. If you were already familiar with R it should have been very simple, but for those who are new to programming, I hope you followed the important concepts. You can always come back to this notebook to refresh your memory, if you forget how to do something. In next weeks exercise, you will analyse some real data to produce some graphs and invetigate a real research question.\n",
    "\n",
    "***\n",
    "# Final instructions #\n",
    "There are a few things you need to do:\n",
    "- Dont forget to answer the Moodle quiz questions for this exercise.\n",
    "- If you have any problems, or questions, please post on the Moodle forum.\n",
    "- Save the completed notebook and download it to your computer, as Colab directories get emptied. Or you can save the files into your Google Drive.\n",
    "\n",
    "***\n",
    "# Further exercises #\n",
    "- Write a new cell that prints out infomation on the `trees` dataset, including the column names, the number of rows, the number of columns, and the minimum, maximum, mean and standard deviation of the trees `Height`.\n",
    "- Write a markdown cell that explains how the circumferance of each tree can be calculated from the diameter or girth measurement."
   ]
  },
  {
   "cell_type": "code",
   "execution_count": null,
   "id": "f19a09e2-2fa5-4cb6-96ad-51891d3655fc",
   "metadata": {},
   "outputs": [],
   "source": []
  }
 ],
 "metadata": {
  "colab": {
   "provenance": []
  },
  "kernelspec": {
   "display_name": "R",
   "language": "R",
   "name": "ir"
  },
  "language_info": {
   "codemirror_mode": "r",
   "file_extension": ".r",
   "mimetype": "text/x-r-source",
   "name": "R",
   "pygments_lexer": "r",
   "version": "4.4.1"
  }
 },
 "nbformat": 4,
 "nbformat_minor": 5
}
