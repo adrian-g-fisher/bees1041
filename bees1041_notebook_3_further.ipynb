{
  "cells": [
    {
      "cell_type": "markdown",
      "id": "be96cb91-4f23-450b-ac8d-0fdef8e0bac7",
      "metadata": {
        "id": "be96cb91-4f23-450b-ac8d-0fdef8e0bac7"
      },
      "source": [
        "First, I will load the Ausplots Forests data and create the same subset of Eucalypt species we had in the exercise.\n",
        "\n",
        "The last line of code prints out the number of trees for six species that were measured the most."
      ]
    },
    {
      "cell_type": "code",
      "execution_count": null,
      "id": "86ddf5dc-e87c-40d2-bdc4-f53bc8ed981c",
      "metadata": {
        "id": "86ddf5dc-e87c-40d2-bdc4-f53bc8ed981c"
      },
      "outputs": [],
      "source": [
        "library(tidyverse)\n",
        "\n",
        "ausplots_data <- read.csv('ausplot_forest_data.csv')\n",
        "\n",
        "ausplots_subset <- subset(ausplots_data,\n",
        "                          (Point_Of_Measurement == 1.3) &\n",
        "                          (Diameter > 0) &\n",
        "                          (Height > 0) &\n",
        "                          (Tree_Status == 'A'))\n",
        "\n",
        "ausplots_subset <- separate(ausplots_subset, Genus_Species, c(\"Genus\", \"Species\"),\n",
        "                            sep = \" \", extra = \"drop\",\n",
        "                            remove = FALSE, fill = \"right\")\n",
        "\n",
        "ausplots_subset <- subset(ausplots_subset,\n",
        "                          (Genus == \"Eucalyptus\") |\n",
        "                          (Genus == \"Angophora\") |\n",
        "                          (Genus == \"Corymbia\"))\n",
        "\n",
        "ausplot_model <- lm(Height ~ Diameter, data = ausplots_subset)\n",
        "ausplots_subset$predicted_height <- predict(ausplot_model)\n",
        "\n",
        "tree_counts <- table(ausplots_subset$Genus_Species)\n",
        "head(tree_counts[order(tree_counts, decreasing = TRUE)])"
      ]
    },
    {
      "cell_type": "markdown",
      "id": "8565e43f-ccd8-4401-8915-94148ffba61e",
      "metadata": {
        "id": "8565e43f-ccd8-4401-8915-94148ffba61e"
      },
      "source": [
        "Now I will make plots for each of these species, adding a line for the regression model, and including the $R^2$ value. I also add a dashed line for the regression model we created from the whole dataset. Once I had a good plot for the first species I copied and pasted for the other graphs, just changing the species name."
      ]
    },
    {
      "cell_type": "code",
      "execution_count": null,
      "id": "fbdd33ce-9aeb-449d-99d1-e29fb76c239e",
      "metadata": {
        "id": "fbdd33ce-9aeb-449d-99d1-e29fb76c239e"
      },
      "outputs": [],
      "source": [
        "options(repr.plot.width=3, repr.plot.height=3)\n",
        "\n",
        "species <- \"Eucalyptus diversicolor\"\n",
        "euc_subset <- subset(ausplots_subset, Genus_Species == species)\n",
        "model <- lm(Height ~ Diameter, data = euc_subset)\n",
        "rsquared <- summary(model)$r.squared\n",
        "euc_subset$predicted_height <- predict(model)\n",
        "print(ggplot(euc_subset, aes(x = Diameter, y = Height)) +\n",
        "       geom_point() +\n",
        "       labs(x = \"Diameter (cm)\", y = \"Height (m)\", title = species) +\n",
        "       geom_line(aes(y = predicted_height), linewidth = 1, color = 'red') +\n",
        "       geom_line(data = ausplots_subset, aes(x = Diameter, y = predicted_height), linewidth = 1, color = 'red', linetype = 2) +\n",
        "       theme_bw() +\n",
        "       annotate(\"text\", x = 25, y = 80, label= format(rsquared, digits = 2)) +\n",
        "       coord_cartesian(xlim=c(min(ausplots_subset$Diameter), 1.02*max(ausplots_subset$Diameter)),\n",
        "                       ylim=c(min(ausplots_subset$Height), 1.02*max(ausplots_subset$Height))))\n",
        "\n",
        "species <- \"Eucalyptus obliqua\"\n",
        "euc_subset <- subset(ausplots_subset, Genus_Species == species)\n",
        "model <- lm(Height ~ Diameter, data = euc_subset)\n",
        "rsquared <- summary(model)$r.squared\n",
        "euc_subset$predicted_height <- predict(model)\n",
        "print(ggplot(euc_subset, aes(x = Diameter, y = Height)) +\n",
        "       geom_point() +\n",
        "       labs(x = \"Diameter (cm)\", y = \"Height (m)\", title = species) +\n",
        "       geom_line(aes(y = predicted_height), linewidth = 1, color = 'red') +\n",
        "       geom_line(data = ausplots_subset, aes(x = Diameter, y = predicted_height), linewidth = 1, color = 'red', linetype = 2) +\n",
        "       theme_bw() +\n",
        "       annotate(\"text\", x = 25, y = 80, label= format(rsquared, digits = 2)) +\n",
        "       coord_cartesian(xlim=c(min(ausplots_subset$Diameter), 1.02*max(ausplots_subset$Diameter)),\n",
        "                       ylim=c(min(ausplots_subset$Height), 1.02*max(ausplots_subset$Height))))\n",
        "\n",
        "species <- \"Eucalyptus grandis\"\n",
        "euc_subset <- subset(ausplots_subset, Genus_Species == species)\n",
        "model <- lm(Height ~ Diameter, data = euc_subset)\n",
        "rsquared <- summary(model)$r.squared\n",
        "euc_subset$predicted_height <- predict(model)\n",
        "print(ggplot(euc_subset, aes(x = Diameter, y = Height)) +\n",
        "       geom_point() +\n",
        "       labs(x = \"Diameter (cm)\", y = \"Height (m)\", title = species) +\n",
        "       geom_line(aes(y = predicted_height), linewidth = 1, color = 'red') +\n",
        "       geom_line(data = ausplots_subset, aes(x = Diameter, y = predicted_height), linewidth = 1, color = 'red', linetype = 2) +\n",
        "       theme_bw() +\n",
        "       annotate(\"text\", x = 25, y = 80, label= format(rsquared, digits = 2)) +\n",
        "       coord_cartesian(xlim=c(min(ausplots_subset$Diameter), 1.02*max(ausplots_subset$Diameter)),\n",
        "                       ylim=c(min(ausplots_subset$Height), 1.02*max(ausplots_subset$Height))))\n",
        "\n",
        "species <- \"Eucalyptus regnans\"\n",
        "euc_subset <- subset(ausplots_subset, Genus_Species == species)\n",
        "model <- lm(Height ~ Diameter, data = euc_subset)\n",
        "rsquared <- summary(model)$r.squared\n",
        "euc_subset$predicted_height <- predict(model)\n",
        "print(ggplot(euc_subset, aes(x = Diameter, y = Height)) +\n",
        "       geom_point() +\n",
        "       labs(x = \"Diameter (cm)\", y = \"Height (m)\", title = species) +\n",
        "       geom_line(aes(y = predicted_height), linewidth = 1, color = 'red') +\n",
        "       geom_line(data = ausplots_subset, aes(x = Diameter, y = predicted_height), linewidth = 1, color = 'red', linetype = 2) +\n",
        "       theme_bw() +\n",
        "       annotate(\"text\", x = 25, y = 80, label= format(rsquared, digits = 2)) +\n",
        "       coord_cartesian(xlim=c(min(ausplots_subset$Diameter), 1.02*max(ausplots_subset$Diameter)),\n",
        "                       ylim=c(min(ausplots_subset$Height), 1.02*max(ausplots_subset$Height))))\n",
        "\n",
        "species <- \"Eucalyptus delegatensis\"\n",
        "euc_subset <- subset(ausplots_subset, Genus_Species == species)\n",
        "model <- lm(Height ~ Diameter, data = euc_subset)\n",
        "rsquared <- summary(model)$r.squared\n",
        "euc_subset$predicted_height <- predict(model)\n",
        "print(ggplot(euc_subset, aes(x = Diameter, y = Height)) +\n",
        "       geom_point() +\n",
        "       labs(x = \"Diameter (cm)\", y = \"Height (m)\", title = species) +\n",
        "       geom_line(aes(y = predicted_height), linewidth = 1, color = 'red') +\n",
        "       geom_line(data = ausplots_subset, aes(x = Diameter, y = predicted_height), linewidth = 1, color = 'red', linetype = 2) +\n",
        "       theme_bw() +\n",
        "       annotate(\"text\", x = 25, y = 80, label= format(rsquared, digits = 2)) +\n",
        "       coord_cartesian(xlim=c(min(ausplots_subset$Diameter), 1.02*max(ausplots_subset$Diameter)),\n",
        "                       ylim=c(min(ausplots_subset$Height), 1.02*max(ausplots_subset$Height))))\n",
        "\n",
        "species <- \"Eucalyptus fastigata\"\n",
        "euc_subset <- subset(ausplots_subset, Genus_Species == species)\n",
        "model <- lm(Height ~ Diameter, data = euc_subset)\n",
        "rsquared <- summary(model)$r.squared\n",
        "euc_subset$predicted_height <- predict(model)\n",
        "print(ggplot(euc_subset, aes(x = Diameter, y = Height)) +\n",
        "       geom_point() +\n",
        "       labs(x = \"Diameter (cm)\", y = \"Height (m)\", title = species) +\n",
        "       geom_line(aes(y = predicted_height), linewidth = 1, color = 'red') +\n",
        "       geom_line(data = ausplots_subset, aes(x = Diameter, y = predicted_height), linewidth = 1, color = 'red', linetype = 2) +\n",
        "       theme_bw() +\n",
        "       annotate(\"text\", x = 25, y = 80, label= format(rsquared, digits = 2)) +\n",
        "       coord_cartesian(xlim=c(min(ausplots_subset$Diameter), 1.02*max(ausplots_subset$Diameter)),\n",
        "                       ylim=c(min(ausplots_subset$Height), 1.02*max(ausplots_subset$Height))))"
      ]
    },
    {
      "cell_type": "code",
      "execution_count": null,
      "id": "25151d88-eea9-42d0-b595-40ce8e6422d8",
      "metadata": {
        "id": "25151d88-eea9-42d0-b595-40ce8e6422d8"
      },
      "outputs": [],
      "source": []
    }
  ],
  "metadata": {
    "kernelspec": {
      "display_name": "R",
      "language": "R",
      "name": "ir"
    },
    "language_info": {
      "codemirror_mode": "r",
      "file_extension": ".r",
      "mimetype": "text/x-r-source",
      "name": "R",
      "pygments_lexer": "r",
      "version": "3.6.1"
    },
    "colab": {
      "provenance": []
    }
  },
  "nbformat": 4,
  "nbformat_minor": 5
}