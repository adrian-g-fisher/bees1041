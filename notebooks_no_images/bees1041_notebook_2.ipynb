{
 "cells": [
  {
   "cell_type": "markdown",
   "metadata": {},
   "source": [
    "# BEES1041 Exploring the Natural World #\n",
    "# Week 2 Computer Exercise - Drought in Goulburn #\n",
    "***\n",
    "In this Jupyter notebook you will continue to explore the drought in Goulburn, and how Pejar Dam became empty. You will use the same easily accessible data as last week, but this week you will analyse the data using R code instead of Excel. The objective of this weeks exercise is to demonstrate how to conduct exploratory data analyses in R, and to show some of the benefits of coding:\n",
    "* customising analyses with functions from code libraries\n",
    "* combining analyses of two different datasets\n",
    "* once code cells are written, they can be run over any input data of the same form\n",
    "\n",
    "Last week you saw how several towns in NSW have experienced water shortages, highlighted in this article from [ABC News](https://www.abc.net.au/news/2019-07-14/day-zero-approaching-as-towns-run-out-of-water/11271430?nw=0) in 2019. Goulburn was one of the towns in the story, and is around 150 km southwest of Sydney. Its water supply comes from Pejar Dam, around 20 km northwest of Goulburn, which became dry in 2006.<br><br>\n",
    "\n",
    "***\n",
    "### Part 1. Rainfall data ###\n",
    "The CSV file that you downloaded from Moodle, called bom70069_monthlyrainfall.csv, is monthly rainfall from the Bureau of Meterology (BOM) site 70069, which is in the catchment of Pejar Dam. It was downloaded from [BOM Climate Data Online](http://www.bom.gov.au/climate/data/). It is the same data you downloaded last week to analyse in Excel. The first part of this notebook will explore how to analyse and graph this data using R, to help answer the research question.<br><br>\n",
    "The next cell is a code cell, and if you click on it and run the cell with the triange play button, it will execute each line of code in the cell. The first line of code reads in the data from the CSV file with the `read.csv()` function and saves it in a data frame called `rainfall_data`. The second line uses the `colnames()` function to print the column names from the data frame."
   ]
  },
  {
   "cell_type": "code",
   "execution_count": 1,
   "metadata": {},
   "outputs": [
    {
     "data": {
      "text/html": [
       "<ol class=list-inline>\n",
       "\t<li>'Product.code'</li>\n",
       "\t<li>'Station.number'</li>\n",
       "\t<li>'Year'</li>\n",
       "\t<li>'Month'</li>\n",
       "\t<li>'Precipitation'</li>\n",
       "\t<li>'Quality'</li>\n",
       "\t<li>'Date'</li>\n",
       "</ol>\n"
      ],
      "text/latex": [
       "\\begin{enumerate*}\n",
       "\\item 'Product.code'\n",
       "\\item 'Station.number'\n",
       "\\item 'Year'\n",
       "\\item 'Month'\n",
       "\\item 'Precipitation'\n",
       "\\item 'Quality'\n",
       "\\item 'Date'\n",
       "\\end{enumerate*}\n"
      ],
      "text/markdown": [
       "1. 'Product.code'\n",
       "2. 'Station.number'\n",
       "3. 'Year'\n",
       "4. 'Month'\n",
       "5. 'Precipitation'\n",
       "6. 'Quality'\n",
       "7. 'Date'\n",
       "\n",
       "\n"
      ],
      "text/plain": [
       "[1] \"Product.code\"   \"Station.number\" \"Year\"           \"Month\"         \n",
       "[5] \"Precipitation\"  \"Quality\"        \"Date\"          "
      ]
     },
     "metadata": {},
     "output_type": "display_data"
    }
   ],
   "source": [
    "rainfall_data <- read.csv('bom70069_monthlyrainfall.csv')\n",
    "colnames(rainfall_data)"
   ]
  },
  {
   "cell_type": "markdown",
   "metadata": {},
   "source": [
    "If we want to graph the rainfall data as a time series, we need to combine the year and month columns into a new date column. We can access the individual columns of the data frame using the `$` sign. For example, `rainfall_data$Year` accesses the data in the Year column. The `paste()` function lets us combine the year and month into a text string that looks like a date, as long as we also add a number 1 for the day, and separate each number wiith a `-`. Then we can use the `as.Date()` function to convert these text strings into a date, and we assign these values to a new date column. The `head()` function can be used to look at the top 6 rows of the data frame, to check that the date column has been added."
   ]
  },
  {
   "cell_type": "code",
   "execution_count": 2,
   "metadata": {},
   "outputs": [
    {
     "data": {
      "text/html": [
       "<table>\n",
       "<thead><tr><th scope=col>Product.code</th><th scope=col>Station.number</th><th scope=col>Year</th><th scope=col>Month</th><th scope=col>Precipitation</th><th scope=col>Quality</th><th scope=col>Date</th><th scope=col>date</th></tr></thead>\n",
       "<tbody>\n",
       "\t<tr><td>IDCJAC0001</td><td>70069     </td><td>1945      </td><td>1         </td><td> 42.9     </td><td>Y         </td><td>1945-01-1 </td><td>1945-01-01</td></tr>\n",
       "\t<tr><td>IDCJAC0001</td><td>70069     </td><td>1945      </td><td>2         </td><td> 59.8     </td><td>Y         </td><td>1945-02-1 </td><td>1945-02-01</td></tr>\n",
       "\t<tr><td>IDCJAC0001</td><td>70069     </td><td>1945      </td><td>3         </td><td> 30.8     </td><td>Y         </td><td>1945-03-1 </td><td>1945-03-01</td></tr>\n",
       "\t<tr><td>IDCJAC0001</td><td>70069     </td><td>1945      </td><td>4         </td><td> 76.8     </td><td>Y         </td><td>1945-04-1 </td><td>1945-04-01</td></tr>\n",
       "\t<tr><td>IDCJAC0001</td><td>70069     </td><td>1945      </td><td>5         </td><td> 39.9     </td><td>Y         </td><td>1945-05-1 </td><td>1945-05-01</td></tr>\n",
       "\t<tr><td>IDCJAC0001</td><td>70069     </td><td>1945      </td><td>6         </td><td>127.7     </td><td>Y         </td><td>1945-06-1 </td><td>1945-06-01</td></tr>\n",
       "</tbody>\n",
       "</table>\n"
      ],
      "text/latex": [
       "\\begin{tabular}{r|llllllll}\n",
       " Product.code & Station.number & Year & Month & Precipitation & Quality & Date & date\\\\\n",
       "\\hline\n",
       "\t IDCJAC0001 & 70069      & 1945       & 1          &  42.9      & Y          & 1945-01-1  & 1945-01-01\\\\\n",
       "\t IDCJAC0001 & 70069      & 1945       & 2          &  59.8      & Y          & 1945-02-1  & 1945-02-01\\\\\n",
       "\t IDCJAC0001 & 70069      & 1945       & 3          &  30.8      & Y          & 1945-03-1  & 1945-03-01\\\\\n",
       "\t IDCJAC0001 & 70069      & 1945       & 4          &  76.8      & Y          & 1945-04-1  & 1945-04-01\\\\\n",
       "\t IDCJAC0001 & 70069      & 1945       & 5          &  39.9      & Y          & 1945-05-1  & 1945-05-01\\\\\n",
       "\t IDCJAC0001 & 70069      & 1945       & 6          & 127.7      & Y          & 1945-06-1  & 1945-06-01\\\\\n",
       "\\end{tabular}\n"
      ],
      "text/markdown": [
       "\n",
       "| Product.code | Station.number | Year | Month | Precipitation | Quality | Date | date |\n",
       "|---|---|---|---|---|---|---|---|\n",
       "| IDCJAC0001 | 70069      | 1945       | 1          |  42.9      | Y          | 1945-01-1  | 1945-01-01 |\n",
       "| IDCJAC0001 | 70069      | 1945       | 2          |  59.8      | Y          | 1945-02-1  | 1945-02-01 |\n",
       "| IDCJAC0001 | 70069      | 1945       | 3          |  30.8      | Y          | 1945-03-1  | 1945-03-01 |\n",
       "| IDCJAC0001 | 70069      | 1945       | 4          |  76.8      | Y          | 1945-04-1  | 1945-04-01 |\n",
       "| IDCJAC0001 | 70069      | 1945       | 5          |  39.9      | Y          | 1945-05-1  | 1945-05-01 |\n",
       "| IDCJAC0001 | 70069      | 1945       | 6          | 127.7      | Y          | 1945-06-1  | 1945-06-01 |\n",
       "\n"
      ],
      "text/plain": [
       "  Product.code Station.number Year Month Precipitation Quality Date     \n",
       "1 IDCJAC0001   70069          1945 1      42.9         Y       1945-01-1\n",
       "2 IDCJAC0001   70069          1945 2      59.8         Y       1945-02-1\n",
       "3 IDCJAC0001   70069          1945 3      30.8         Y       1945-03-1\n",
       "4 IDCJAC0001   70069          1945 4      76.8         Y       1945-04-1\n",
       "5 IDCJAC0001   70069          1945 5      39.9         Y       1945-05-1\n",
       "6 IDCJAC0001   70069          1945 6     127.7         Y       1945-06-1\n",
       "  date      \n",
       "1 1945-01-01\n",
       "2 1945-02-01\n",
       "3 1945-03-01\n",
       "4 1945-04-01\n",
       "5 1945-05-01\n",
       "6 1945-06-01"
      ]
     },
     "metadata": {},
     "output_type": "display_data"
    }
   ],
   "source": [
    "rainfall_data$date <- as.Date(paste(rainfall_data$Year, rainfall_data$Month, 1, sep = \"-\"))\n",
    "head(rainfall_data)"
   ]
  },
  {
   "cell_type": "markdown",
   "metadata": {},
   "source": [
    "Now we have manipulated the data into something that makes sense, we can create a plot of rainfall over time. There are many ways of plotting in R, but one common approach is to use the ggplot2 library. First you need to load that library, then you can create the plot, and then you can add data to the plot, and format it to look nice. The code might look strange, but each line is just helping to create the plot. Note how these additional functions like `geom_col` can be added to the `ggplot()` function using the `+` symbol at the end of the line."
   ]
  },
  {
   "cell_type": "code",
   "execution_count": 3,
   "metadata": {},
   "outputs": [
    {
     "name": "stderr",
     "output_type": "stream",
     "text": [
      "Registered S3 methods overwritten by 'ggplot2':\n",
      "  method         from \n",
      "  [.quosures     rlang\n",
      "  c.quosures     rlang\n",
      "  print.quosures rlang\n"
     ]
    },
    {
     "data": {
      "image/png": "[encoded data removed]",
      "text/plain": [
       "plot without title"
      ]
     },
     "metadata": {},
     "output_type": "display_data"
    }
   ],
   "source": [
    "library(ggplot2)\n",
    "ggplot(rainfall_data, aes(x = date, y = Precipitation)) +\n",
    "       geom_col(color = \"skyblue\", width = 0.5) +\n",
    "       labs(x = \"Date\", y = \"Rainfall (mm)\") +\n",
    "       theme_bw()"
   ]
  },
  {
   "cell_type": "markdown",
   "metadata": {},
   "source": [
    "The plot above lets us see how rainfall fluctuates over time, but it is hard to see any patterns. Lets add a line for the average monthly rainfall, so that we can see when it rained more or less than average. First we need to calculate the average or mean. We can see this value by typing the variable name `mean_monthly_rainfall` on the second line."
   ]
  },
  {
   "cell_type": "code",
   "execution_count": 4,
   "metadata": {},
   "outputs": [
    {
     "data": {
      "text/html": [
       "61.232855567806"
      ],
      "text/latex": [
       "61.232855567806"
      ],
      "text/markdown": [
       "61.232855567806"
      ],
      "text/plain": [
       "[1] 61.23286"
      ]
     },
     "metadata": {},
     "output_type": "display_data"
    }
   ],
   "source": [
    "mean_monthly_rainfall <- mean(rainfall_data$Precipitation)\n",
    "mean_monthly_rainfall"
   ]
  },
  {
   "cell_type": "markdown",
   "metadata": {},
   "source": [
    "Now we can recreate the plot and add a horizontal line at the average value using the `geom_hline()` function."
   ]
  },
  {
   "cell_type": "code",
   "execution_count": 5,
   "metadata": {},
   "outputs": [
    {
     "data": {
      "image/png": "[encoded data removed]",
      "text/plain": [
       "plot without title"
      ]
     },
     "metadata": {},
     "output_type": "display_data"
    }
   ],
   "source": [
    "ggplot(rainfall_data, aes(x = date, y = Precipitation)) +\n",
    "       geom_col(color = \"skyblue\", width = 0.5) +\n",
    "       geom_hline(yintercept = mean_monthly_rainfall, color = \"red\") +\n",
    "       labs(x = \"Date\", y = \"Rainfall (mm)\") +\n",
    "       theme_bw()"
   ]
  },
  {
   "cell_type": "markdown",
   "metadata": {},
   "source": [
    "Adding the average rainfall line helps a bit, as we can now see areas where rainfall is below the average. But it is still not clear, and it might be better to smooth the data by using annual, rather than monthly rainfall. We can create a new annual rainfall data frame using the `aggregate()` function, before assigning some sensible column names."
   ]
  },
  {
   "cell_type": "code",
   "execution_count": 6,
   "metadata": {},
   "outputs": [
    {
     "data": {
      "text/html": [
       "<table>\n",
       "<thead><tr><th scope=col>year</th><th scope=col>rainfall</th></tr></thead>\n",
       "<tbody>\n",
       "\t<tr><td>1945  </td><td> 640.4</td></tr>\n",
       "\t<tr><td>1946  </td><td> 585.4</td></tr>\n",
       "\t<tr><td>1947  </td><td> 742.9</td></tr>\n",
       "\t<tr><td>1948  </td><td> 743.3</td></tr>\n",
       "\t<tr><td>1949  </td><td> 841.0</td></tr>\n",
       "\t<tr><td>1950  </td><td>1399.1</td></tr>\n",
       "</tbody>\n",
       "</table>\n"
      ],
      "text/latex": [
       "\\begin{tabular}{r|ll}\n",
       " year & rainfall\\\\\n",
       "\\hline\n",
       "\t 1945   &  640.4\\\\\n",
       "\t 1946   &  585.4\\\\\n",
       "\t 1947   &  742.9\\\\\n",
       "\t 1948   &  743.3\\\\\n",
       "\t 1949   &  841.0\\\\\n",
       "\t 1950   & 1399.1\\\\\n",
       "\\end{tabular}\n"
      ],
      "text/markdown": [
       "\n",
       "| year | rainfall |\n",
       "|---|---|\n",
       "| 1945   |  640.4 |\n",
       "| 1946   |  585.4 |\n",
       "| 1947   |  742.9 |\n",
       "| 1948   |  743.3 |\n",
       "| 1949   |  841.0 |\n",
       "| 1950   | 1399.1 |\n",
       "\n"
      ],
      "text/plain": [
       "  year rainfall\n",
       "1 1945  640.4  \n",
       "2 1946  585.4  \n",
       "3 1947  742.9  \n",
       "4 1948  743.3  \n",
       "5 1949  841.0  \n",
       "6 1950 1399.1  "
      ]
     },
     "metadata": {},
     "output_type": "display_data"
    }
   ],
   "source": [
    "annual_data <- aggregate(rainfall_data$Precipitation, by = list(rainfall_data$Year), FUN = sum)\n",
    "colnames(annual_data) <- c(\"year\", \"rainfall\")\n",
    "head(annual_data)"
   ]
  },
  {
   "cell_type": "markdown",
   "metadata": {},
   "source": [
    "Now we can calculate the average annual rainfall, and see what the value is."
   ]
  },
  {
   "cell_type": "code",
   "execution_count": 7,
   "metadata": {},
   "outputs": [
    {
     "data": {
      "text/html": [
       "721.275324675325"
      ],
      "text/latex": [
       "721.275324675325"
      ],
      "text/markdown": [
       "721.275324675325"
      ],
      "text/plain": [
       "[1] 721.2753"
      ]
     },
     "metadata": {},
     "output_type": "display_data"
    },
    {
     "data": {
      "text/html": [
       "1945"
      ],
      "text/latex": [
       "1945"
      ],
      "text/markdown": [
       "1945"
      ],
      "text/plain": [
       "[1] 1945"
      ]
     },
     "metadata": {},
     "output_type": "display_data"
    },
    {
     "data": {
      "text/html": [
       "2021"
      ],
      "text/latex": [
       "2021"
      ],
      "text/markdown": [
       "2021"
      ],
      "text/plain": [
       "[1] 2021"
      ]
     },
     "metadata": {},
     "output_type": "display_data"
    }
   ],
   "source": [
    "mean_annual_rainfall <- mean(annual_data$rainfall)\n",
    "mean_annual_rainfall\n",
    "min(annual_data$year)\n",
    "max(annual_data$year)"
   ]
  },
  {
   "cell_type": "markdown",
   "metadata": {},
   "source": [
    "Now we can create a new graph of annual rainfall, this time as a line graph."
   ]
  },
  {
   "cell_type": "code",
   "execution_count": 8,
   "metadata": {},
   "outputs": [
    {
     "data": {
      "image/png": "[encoded data removed]",
      "text/plain": [
       "plot without title"
      ]
     },
     "metadata": {},
     "output_type": "display_data"
    }
   ],
   "source": [
    "ggplot(annual_data, aes(x = year, y = rainfall)) +\n",
    "       geom_line() +\n",
    "       geom_hline(yintercept = mean_annual_rainfall, color = \"red\") +\n",
    "       labs(x = \"Year\", y = \"Rainfall (mm)\") +\n",
    "       theme_bw()"
   ]
  },
  {
   "cell_type": "markdown",
   "metadata": {},
   "source": [
    "The above graph does a pretty good job of showing wet and dry years that are above and below the average. But it will look better if we colour these different parts of the graph to emphasise this. First we need to define new columns for the wet and dry periods, by using the `mutate()` function from the `dplyr` library. Then we can make a plot where we colour the wet periods blue and the dry periods red, using the `geom_ribbon()` function. Note how we can leave blank lines between the code lines, to make it easier to read."
   ]
  },
  {
   "cell_type": "code",
   "execution_count": 9,
   "metadata": {},
   "outputs": [
    {
     "name": "stderr",
     "output_type": "stream",
     "text": [
      "\n",
      "Attaching package: 'dplyr'\n",
      "\n",
      "The following objects are masked from 'package:stats':\n",
      "\n",
      "    filter, lag\n",
      "\n",
      "The following objects are masked from 'package:base':\n",
      "\n",
      "    intersect, setdiff, setequal, union\n",
      "\n"
     ]
    },
    {
     "data": {
      "image/png": "[encoded data removed]",
      "text/plain": [
       "plot without title"
      ]
     },
     "metadata": {},
     "output_type": "display_data"
    }
   ],
   "source": [
    "library(dplyr)\n",
    "\n",
    "annual_data <- mutate(annual_data, \n",
    "                      dry = pmin(rainfall, mean_annual_rainfall),\n",
    "                      wet = pmax(rainfall, mean_annual_rainfall))\n",
    "\n",
    "ggplot(annual_data, aes(x = year, y = rainfall)) +\n",
    "       geom_ribbon(aes(ymin = mean_annual_rainfall, ymax = wet), fill = \"skyblue\") +\n",
    "       geom_ribbon(aes(ymin = dry, ymax = mean_annual_rainfall), fill = \"tomato\") +\n",
    "       geom_line() +\n",
    "       geom_hline(yintercept = mean_annual_rainfall) +\n",
    "       labs(x = \"Year\", y = \"Rainfall (mm)\") +\n",
    "       theme_bw()"
   ]
  },
  {
   "cell_type": "markdown",
   "metadata": {},
   "source": [
    "While the graph above is pretty good, climate scientists will tell you that it is better to calculate an index, such as the [standardized precipition index (SPI)](https://climatedataguide.ucar.edu/climate-data/standardized-precipitation-index-spi). The SPI quantifies observed precipitation as a standardized departure from a probability distribution function that models the precipitation data. The values can be interpreted as the number of standard deviations by which the observed anomaly deviates from the long-term mean. Although it is complicated to understand, it is fairly simple to calculate in R using the Standardized Climate Indices (SCI) library. First you need to import th library using the following code cell. "
   ]
  },
  {
   "cell_type": "code",
   "execution_count": 10,
   "metadata": {},
   "outputs": [
    {
     "name": "stderr",
     "output_type": "stream",
     "text": [
      "Warning message:\n",
      "\"package 'SCI' was built under R version 3.6.3\"Loading required package: fitdistrplus\n",
      "Loading required package: MASS\n",
      "\n",
      "Attaching package: 'MASS'\n",
      "\n",
      "The following object is masked from 'package:dplyr':\n",
      "\n",
      "    select\n",
      "\n",
      "Loading required package: survival\n",
      "Loading required package: lmomco\n"
     ]
    }
   ],
   "source": [
    "library(SCI)"
   ]
  },
  {
   "cell_type": "markdown",
   "metadata": {},
   "source": [
    "Now we can create a model using the `fitSCI()` function, before calculating the SPI using the `transformSCI()` function, both from the SCI library. Note that you can set the time scale for the SPI model to any number of months. I have set it to 12 months, which should be similar to the annual rainfall data graphed previously, but you can change it to shorter or longer periods. Then we need to remove the NA values that a created at the start and end of the time series using the `na.omit()` function. Then we can define wet and dry periods where the SPI is above and below zero, before creating a new plot. Also note that at the top of cell we read in the data fresh. If we dont do this, and you run the cell several times, the SPI will change because you are omitting data each time."
   ]
  },
  {
   "cell_type": "code",
   "execution_count": 11,
   "metadata": {},
   "outputs": [
    {
     "data": {
      "image/png": "[encoded data removed]",
      "text/plain": [
       "plot without title"
      ]
     },
     "metadata": {},
     "output_type": "display_data"
    }
   ],
   "source": [
    "rainfall_data <- read.csv('bom70069_monthlyrainfall.csv')\n",
    "rainfall_data$date <- as.Date(paste(rainfall_data$Year, rainfall_data$Month, 1, sep = \"-\"))\n",
    "\n",
    "time_scale <- 12\n",
    "spi_transform <- fitSCI(rainfall_data$Precipitation, first.mon = 1, time.scale = time_scale, distr = \"gamma\", p0 = TRUE)\n",
    "rainfall_data$spi <- transformSCI(rainfall_data$Precipitation, first.mon = 1, obj = spi_transform)\n",
    "rainfall_data <- na.omit(rainfall_data)\n",
    "\n",
    "rainfall_data <- mutate(rainfall_data, \n",
    "                        dry = pmin(spi, 0),\n",
    "                        wet = pmax(spi, 0))\n",
    "\n",
    "ggplot(rainfall_data, aes(x = date, y = spi)) +\n",
    "       geom_ribbon(aes(ymin = 0, ymax = wet), fill = \"skyblue\") +\n",
    "       geom_ribbon(aes(ymin = dry, ymax = 0), fill = \"tomato\") +\n",
    "       geom_line() +\n",
    "       geom_hline(yintercept = 0) +\n",
    "       labs(x = \"Date\", y = \"SPI\") +\n",
    "       theme_bw()"
   ]
  },
  {
   "cell_type": "markdown",
   "metadata": {},
   "source": [
    "There are some differences between the annual rainfall graph and the SPI graph, but they are very similar. You can clearly see the millenium drought in both, which was the long dry peirod where SPI was less than zero, which occued soon after the year 2000. This is when the Pejar Dam that supplies Goulburn with water dried out. You can also see that the SPI reached a minimum value in this period. To get the value and date of the minimum we can use the following code."
   ]
  },
  {
   "cell_type": "code",
   "execution_count": 12,
   "metadata": {},
   "outputs": [
    {
     "data": {
      "text/html": [
       "-2.7505529426539"
      ],
      "text/latex": [
       "-2.7505529426539"
      ],
      "text/markdown": [
       "-2.7505529426539"
      ],
      "text/plain": [
       "[1] -2.750553"
      ]
     },
     "metadata": {},
     "output_type": "display_data"
    },
    {
     "data": {
      "text/html": [
       "<time datetime=\"2007-01-01\">2007-01-01</time>"
      ],
      "text/latex": [
       "2007-01-01"
      ],
      "text/markdown": [
       "2007-01-01"
      ],
      "text/plain": [
       "[1] \"2007-01-01\""
      ]
     },
     "metadata": {},
     "output_type": "display_data"
    }
   ],
   "source": [
    "min(rainfall_data$spi)\n",
    "rainfall_data$date[rainfall_data$spi == min(rainfall_data$spi)]"
   ]
  },
  {
   "cell_type": "markdown",
   "metadata": {},
   "source": [
    "***\n",
    "### Part 2. Water area data ###\n",
    "We can get data on how the water in Pejar Dam has changed over time from the [DEA Waterbodies dataset](https://www.ga.gov.au/dea/products/dea-waterbodies). This website provides information about the extent of surface water present in waterbodies over time, as estimated from satellites. It does not show depth, volume, the purpose of the waterbody, nor the source of the water, but it is still very useful. It uses the archive of over 30 years of Landsat satellite imagery to identify where almost 300,000 waterbodies are in the Australian landscape and tells us the wet surface area within those waterbodies. You can search for data from [DEA Maps](https://maps.dea.ga.gov.au/).<br><br>\n",
    "If you know the code name for the water body of interest, you can download the CSV file directly from a website that contains all the data. As I know the code for Pejar Dam is r3f77cx2t, we can use R to read the data directly from the website. The following code will read the data from the website into a data frame called pejar_data."
   ]
  },
  {
   "cell_type": "code",
   "execution_count": 13,
   "metadata": {},
   "outputs": [
    {
     "data": {
      "text/html": [
       "<table>\n",
       "<thead><tr><th scope=col>Observation.Date</th><th scope=col>Wet.pixel.percentage</th><th scope=col>Wet.pixel.count..n...2392.</th></tr></thead>\n",
       "<tbody>\n",
       "\t<tr><td>1987-05-29T23:14:29Z</td><td>  NA                </td><td>  NA                </td></tr>\n",
       "\t<tr><td>1987-07-16T23:15:29Z</td><td>80.5                </td><td>1926                </td></tr>\n",
       "\t<tr><td>1987-09-02T23:16:50Z</td><td>  NA                </td><td>  NA                </td></tr>\n",
       "\t<tr><td>1987-09-18T23:17:13Z</td><td>90.8                </td><td>2173                </td></tr>\n",
       "\t<tr><td>1987-10-04T23:17:34Z</td><td>  NA                </td><td>  NA                </td></tr>\n",
       "\t<tr><td>1987-10-20T23:17:50Z</td><td>  NA                </td><td>  NA                </td></tr>\n",
       "</tbody>\n",
       "</table>\n"
      ],
      "text/latex": [
       "\\begin{tabular}{r|lll}\n",
       " Observation.Date & Wet.pixel.percentage & Wet.pixel.count..n...2392.\\\\\n",
       "\\hline\n",
       "\t 1987-05-29T23:14:29Z &   NA                 &   NA                \\\\\n",
       "\t 1987-07-16T23:15:29Z & 80.5                 & 1926                \\\\\n",
       "\t 1987-09-02T23:16:50Z &   NA                 &   NA                \\\\\n",
       "\t 1987-09-18T23:17:13Z & 90.8                 & 2173                \\\\\n",
       "\t 1987-10-04T23:17:34Z &   NA                 &   NA                \\\\\n",
       "\t 1987-10-20T23:17:50Z &   NA                 &   NA                \\\\\n",
       "\\end{tabular}\n"
      ],
      "text/markdown": [
       "\n",
       "| Observation.Date | Wet.pixel.percentage | Wet.pixel.count..n...2392. |\n",
       "|---|---|---|\n",
       "| 1987-05-29T23:14:29Z |   NA                 |   NA                 |\n",
       "| 1987-07-16T23:15:29Z | 80.5                 | 1926                 |\n",
       "| 1987-09-02T23:16:50Z |   NA                 |   NA                 |\n",
       "| 1987-09-18T23:17:13Z | 90.8                 | 2173                 |\n",
       "| 1987-10-04T23:17:34Z |   NA                 |   NA                 |\n",
       "| 1987-10-20T23:17:50Z |   NA                 |   NA                 |\n",
       "\n"
      ],
      "text/plain": [
       "  Observation.Date     Wet.pixel.percentage Wet.pixel.count..n...2392.\n",
       "1 1987-05-29T23:14:29Z   NA                   NA                      \n",
       "2 1987-07-16T23:15:29Z 80.5                 1926                      \n",
       "3 1987-09-02T23:16:50Z   NA                   NA                      \n",
       "4 1987-09-18T23:17:13Z 90.8                 2173                      \n",
       "5 1987-10-04T23:17:34Z   NA                   NA                      \n",
       "6 1987-10-20T23:17:50Z   NA                   NA                      "
      ]
     },
     "metadata": {},
     "output_type": "display_data"
    }
   ],
   "source": [
    "pejar_data <- read.csv(url('https://data.dea.ga.gov.au/projects/WaterBodies/timeseries/r3f7/r3f77cx2t.csv'))\n",
    "head(pejar_data)"
   ]
  },
  {
   "cell_type": "markdown",
   "metadata": {},
   "source": [
    "From looking at the data, it is clear there are null values (NA), which might cause a problem with the analyses. These values are known as missing data, or null data. In this case they are present whenever the satellite did not see the water body, due to clouds or shadows getting in the way. Often when analysing data, you need to be careful to handle these null values correctly, as they are different to zero values. The following code uses the `na.omit()` function to remove the NA values and create a new \"clean\" data frame."
   ]
  },
  {
   "cell_type": "code",
   "execution_count": 14,
   "metadata": {},
   "outputs": [
    {
     "data": {
      "text/html": [
       "<table>\n",
       "<thead><tr><th></th><th scope=col>Observation.Date</th><th scope=col>Wet.pixel.percentage</th><th scope=col>Wet.pixel.count..n...2392.</th></tr></thead>\n",
       "<tbody>\n",
       "\t<tr><th scope=row>2</th><td>1987-07-16T23:15:29Z</td><td>80.5                </td><td>1926                </td></tr>\n",
       "\t<tr><th scope=row>4</th><td>1987-09-18T23:17:13Z</td><td>90.8                </td><td>2173                </td></tr>\n",
       "\t<tr><th scope=row>8</th><td>1987-11-21T23:18:29Z</td><td>92.7                </td><td>2218                </td></tr>\n",
       "\t<tr><th scope=row>9</th><td>1987-12-07T23:18:42Z</td><td>81.6                </td><td>1953                </td></tr>\n",
       "\t<tr><th scope=row>10</th><td>1987-12-23T23:18:58Z</td><td>93.3                </td><td>2231                </td></tr>\n",
       "\t<tr><th scope=row>11</th><td>1988-01-08T23:19:14Z</td><td>87.1                </td><td>2084                </td></tr>\n",
       "</tbody>\n",
       "</table>\n"
      ],
      "text/latex": [
       "\\begin{tabular}{r|lll}\n",
       "  & Observation.Date & Wet.pixel.percentage & Wet.pixel.count..n...2392.\\\\\n",
       "\\hline\n",
       "\t2 & 1987-07-16T23:15:29Z & 80.5                 & 1926                \\\\\n",
       "\t4 & 1987-09-18T23:17:13Z & 90.8                 & 2173                \\\\\n",
       "\t8 & 1987-11-21T23:18:29Z & 92.7                 & 2218                \\\\\n",
       "\t9 & 1987-12-07T23:18:42Z & 81.6                 & 1953                \\\\\n",
       "\t10 & 1987-12-23T23:18:58Z & 93.3                 & 2231                \\\\\n",
       "\t11 & 1988-01-08T23:19:14Z & 87.1                 & 2084                \\\\\n",
       "\\end{tabular}\n"
      ],
      "text/markdown": [
       "\n",
       "| <!--/--> | Observation.Date | Wet.pixel.percentage | Wet.pixel.count..n...2392. |\n",
       "|---|---|---|---|\n",
       "| 2 | 1987-07-16T23:15:29Z | 80.5                 | 1926                 |\n",
       "| 4 | 1987-09-18T23:17:13Z | 90.8                 | 2173                 |\n",
       "| 8 | 1987-11-21T23:18:29Z | 92.7                 | 2218                 |\n",
       "| 9 | 1987-12-07T23:18:42Z | 81.6                 | 1953                 |\n",
       "| 10 | 1987-12-23T23:18:58Z | 93.3                 | 2231                 |\n",
       "| 11 | 1988-01-08T23:19:14Z | 87.1                 | 2084                 |\n",
       "\n"
      ],
      "text/plain": [
       "   Observation.Date     Wet.pixel.percentage Wet.pixel.count..n...2392.\n",
       "2  1987-07-16T23:15:29Z 80.5                 1926                      \n",
       "4  1987-09-18T23:17:13Z 90.8                 2173                      \n",
       "8  1987-11-21T23:18:29Z 92.7                 2218                      \n",
       "9  1987-12-07T23:18:42Z 81.6                 1953                      \n",
       "10 1987-12-23T23:18:58Z 93.3                 2231                      \n",
       "11 1988-01-08T23:19:14Z 87.1                 2084                      "
      ]
     },
     "metadata": {},
     "output_type": "display_data"
    }
   ],
   "source": [
    "pejar_clean <- na.omit(pejar_data)\n",
    "head(pejar_clean)"
   ]
  },
  {
   "cell_type": "markdown",
   "metadata": {},
   "source": [
    "The date column also contains the time, and was read in by R as a datatype called 'Factor'. You can see the `<fct>` at the top of the column above. We need to change the format to be a date, just as you would need to do in Excel. In R this is easy, using the `as.Date()` function."
   ]
  },
  {
   "cell_type": "code",
   "execution_count": 15,
   "metadata": {},
   "outputs": [
    {
     "data": {
      "text/html": [
       "<table>\n",
       "<thead><tr><th></th><th scope=col>Observation.Date</th><th scope=col>Wet.pixel.percentage</th><th scope=col>Wet.pixel.count..n...2392.</th></tr></thead>\n",
       "<tbody>\n",
       "\t<tr><th scope=row>2</th><td>1987-07-16</td><td>80.5      </td><td>1926      </td></tr>\n",
       "\t<tr><th scope=row>4</th><td>1987-09-18</td><td>90.8      </td><td>2173      </td></tr>\n",
       "\t<tr><th scope=row>8</th><td>1987-11-21</td><td>92.7      </td><td>2218      </td></tr>\n",
       "\t<tr><th scope=row>9</th><td>1987-12-07</td><td>81.6      </td><td>1953      </td></tr>\n",
       "\t<tr><th scope=row>10</th><td>1987-12-23</td><td>93.3      </td><td>2231      </td></tr>\n",
       "\t<tr><th scope=row>11</th><td>1988-01-08</td><td>87.1      </td><td>2084      </td></tr>\n",
       "</tbody>\n",
       "</table>\n"
      ],
      "text/latex": [
       "\\begin{tabular}{r|lll}\n",
       "  & Observation.Date & Wet.pixel.percentage & Wet.pixel.count..n...2392.\\\\\n",
       "\\hline\n",
       "\t2 & 1987-07-16 & 80.5       & 1926      \\\\\n",
       "\t4 & 1987-09-18 & 90.8       & 2173      \\\\\n",
       "\t8 & 1987-11-21 & 92.7       & 2218      \\\\\n",
       "\t9 & 1987-12-07 & 81.6       & 1953      \\\\\n",
       "\t10 & 1987-12-23 & 93.3       & 2231      \\\\\n",
       "\t11 & 1988-01-08 & 87.1       & 2084      \\\\\n",
       "\\end{tabular}\n"
      ],
      "text/markdown": [
       "\n",
       "| <!--/--> | Observation.Date | Wet.pixel.percentage | Wet.pixel.count..n...2392. |\n",
       "|---|---|---|---|\n",
       "| 2 | 1987-07-16 | 80.5       | 1926       |\n",
       "| 4 | 1987-09-18 | 90.8       | 2173       |\n",
       "| 8 | 1987-11-21 | 92.7       | 2218       |\n",
       "| 9 | 1987-12-07 | 81.6       | 1953       |\n",
       "| 10 | 1987-12-23 | 93.3       | 2231       |\n",
       "| 11 | 1988-01-08 | 87.1       | 2084       |\n",
       "\n"
      ],
      "text/plain": [
       "   Observation.Date Wet.pixel.percentage Wet.pixel.count..n...2392.\n",
       "2  1987-07-16       80.5                 1926                      \n",
       "4  1987-09-18       90.8                 2173                      \n",
       "8  1987-11-21       92.7                 2218                      \n",
       "9  1987-12-07       81.6                 1953                      \n",
       "10 1987-12-23       93.3                 2231                      \n",
       "11 1988-01-08       87.1                 2084                      "
      ]
     },
     "metadata": {},
     "output_type": "display_data"
    }
   ],
   "source": [
    "pejar_clean$Observation.Date <- as.Date(pejar_clean$Observation.Date)\n",
    "head(pejar_clean)"
   ]
  },
  {
   "cell_type": "markdown",
   "metadata": {},
   "source": [
    "Now we can create a plot showing how the surface water area of the dam has changed over time. "
   ]
  },
  {
   "cell_type": "code",
   "execution_count": 16,
   "metadata": {},
   "outputs": [
    {
     "data": {
      "image/png": "[encoded data removed]",
      "text/plain": [
       "plot without title"
      ]
     },
     "metadata": {},
     "output_type": "display_data"
    }
   ],
   "source": [
    "ggplot(pejar_clean, aes(x = Observation.Date, y = Wet.pixel.percentage)) +\n",
    "       geom_line(colour = 'darkblue') +\n",
    "       labs(x = \"Date\", y = \"Dam water area (%)\") +\n",
    "       theme_bw()"
   ]
  },
  {
   "cell_type": "markdown",
   "metadata": {},
   "source": [
    "The graph clearly shows the reduction in water area during the Millenium drought, and the subsequent filling of the dam. There is one obvious problem data point that should be removed from the data, where the water area drops from 77% to 0% and then jumps to 90%. This must be due to an error with the satellite image water classification algorithm, as it is not possible for a large dam to empty and fill so rapidly. The following code removes this data from the data frame, using the `subset()` function, using a set of conditions. The conditions are to filter any points where the date is greater than 2015-01-01 and the wet pixel percentage is lower than 10%. The `!` means that the subset of the dataframe is where the conditions are not met, so all rows except the problem row are in the subset. Now when we plot the data the problem value has gone."
   ]
  },
  {
   "cell_type": "code",
   "execution_count": 17,
   "metadata": {},
   "outputs": [
    {
     "data": {
      "image/png": "[encoded data removed]",
      "text/plain": [
       "plot without title"
      ]
     },
     "metadata": {},
     "output_type": "display_data"
    }
   ],
   "source": [
    "pejar_clean <- subset(pejar_clean, !(Observation.Date > as.Date('2015-01-01') & Wet.pixel.percentage < 10))\n",
    "\n",
    "ggplot(pejar_clean, aes(x = Observation.Date, y = Wet.pixel.percentage)) +\n",
    "       geom_line(colour = 'darkblue') +\n",
    "       labs(x = \"Date\", y = \"Dam water area (%)\") +\n",
    "       theme_bw()"
   ]
  },
  {
   "cell_type": "markdown",
   "metadata": {},
   "source": [
    "Now, lets combine the rainfall data and the water area data into one figure, so we can see how they correspond. One easy way to combine two plots is to use the [cowplot](https://cran.r-project.org/web/packages/cowplot/vignettes/introduction.html) library, named after its creator Claus O Wilke. You can import this package with the following code."
   ]
  },
  {
   "cell_type": "code",
   "execution_count": 18,
   "metadata": {},
   "outputs": [
    {
     "name": "stderr",
     "output_type": "stream",
     "text": [
      "Warning message:\n",
      "\"package 'cowplot' was built under R version 3.6.3\""
     ]
    }
   ],
   "source": [
    "library(cowplot)"
   ]
  },
  {
   "cell_type": "markdown",
   "metadata": {},
   "source": [
    "Now we can create each plot, assigning them to variables, which we can then combine using the `plot_grid()` function from the cowplot library. To make the graphs comparable, we need to make sure the x-axes have the same range, so we use the `xlim` argument in the `coord_cartesian()` function."
   ]
  },
  {
   "cell_type": "code",
   "execution_count": 19,
   "metadata": {},
   "outputs": [
    {
     "data": {
      "image/png": "[encoded data removed]",
      "text/plain": [
       "plot without title"
      ]
     },
     "metadata": {},
     "output_type": "display_data"
    }
   ],
   "source": [
    "spi_graph <- ggplot(rainfall_data, aes(x = date, y = spi)) +\n",
    "                    geom_ribbon(aes(ymin = 0, ymax = wet), fill = \"skyblue\") +\n",
    "                    geom_ribbon(aes(ymin = dry, ymax = 0), fill = \"tomato\") +\n",
    "                    geom_line() +\n",
    "                    geom_hline(yintercept = 0) +\n",
    "                    labs(x = \"\", y = \"SPI\") +\n",
    "                    theme_bw() +\n",
    "                    coord_cartesian(xlim=c(min(pejar_clean$Observation.Date), max(pejar_clean$Observation.Date)))\n",
    "\n",
    "dam_graph <- ggplot(pejar_clean, aes(x = Observation.Date, y = Wet.pixel.percentage)) +\n",
    "                    geom_line(colour = 'darkblue') +\n",
    "                    labs(x = \"\", y = \"Dam water area (%)\") +\n",
    "                    theme_bw() +\n",
    "                    coord_cartesian(xlim=c(min(pejar_clean$Observation.Date), max(pejar_clean$Observation.Date)))\n",
    "\n",
    "plot_grid(spi_graph, dam_graph, ncol = 1, align = \"v\")"
   ]
  },
  {
   "cell_type": "markdown",
   "metadata": {},
   "source": [
    " We can also save this graph as a PNG file using the `ggsave()` function."
   ]
  },
  {
   "cell_type": "code",
   "execution_count": 20,
   "metadata": {},
   "outputs": [
    {
     "name": "stderr",
     "output_type": "stream",
     "text": [
      "Saving 6.67 x 6.67 in image\n"
     ]
    }
   ],
   "source": [
    "combined_graphs <- plot_grid(spi_graph, dam_graph, ncol = 1, align = \"v\")\n",
    "ggsave(\"pejar_timeseries.png\", combined_graphs)"
   ]
  },
  {
   "cell_type": "markdown",
   "metadata": {},
   "source": [
    "This is the end of the exercise. You have explored two different datasets to investigate a research question. During the millenium drought, the minimum SPI was reached and the dam became empty. All the other droughts that occured were not as extreme, or as long, and they did not result in major reductions in water area. The millenium drought really was an extreme event, during the last 30 years that Landsat satellites have been recording data, and also going back to 1950s as the rainfall data show.\n",
    "\n",
    "***\n",
    "# Final instructions #\n",
    "There are a few things you need to do:\n",
    "- Dont forget to answer the Moodle quiz questions for this lab.\n",
    "- If you have any problems, or questions, please post on the Moodle forum.\n",
    "- Save the completed notebook and download it to your computer, as SWAN scratch directories get emptied. Or you can move the files into your Cloustor directory. You can also download the graph.\n",
    "\n",
    "***\n",
    "\n",
    "# Further exercise #\n",
    "Identify the water body names for other dams in the area, and add new code cells to create graphs and identify when the water bodies were at their lowest levels. Did all the water bodies empty at a similar time to Pejar Dam?"
   ]
  }
 ],
 "metadata": {
  "kernelspec": {
   "display_name": "R",
   "language": "R",
   "name": "ir"
  },
  "language_info": {
   "codemirror_mode": "r",
   "file_extension": ".r",
   "mimetype": "text/x-r-source",
   "name": "R",
   "pygments_lexer": "r",
   "version": "3.6.1"
  }
 },
 "nbformat": 4,
 "nbformat_minor": 4
}
