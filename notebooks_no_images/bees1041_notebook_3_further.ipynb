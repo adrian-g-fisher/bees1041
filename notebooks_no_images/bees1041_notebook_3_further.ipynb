{
 "cells": [
  {
   "cell_type": "markdown",
   "id": "332149b9-c653-414a-a940-71883df33925",
   "metadata": {},
   "source": [
    "# Class data #\n",
    "\n",
    "First we will create separate subsets for Monday and Tuesday, then develop separate linear regression models to compare. "
   ]
  },
  {
   "cell_type": "code",
   "execution_count": 1,
   "id": "b99fc87d-84f9-474a-81a1-d3a77cbd6462",
   "metadata": {},
   "outputs": [
    {
     "name": "stderr",
     "output_type": "stream",
     "text": [
      "Registered S3 methods overwritten by 'ggplot2':\n",
      "  method         from \n",
      "  [.quosures     rlang\n",
      "  c.quosures     rlang\n",
      "  print.quosures rlang\n",
      "Warning message:\n",
      "\"package 'cowplot' was built under R version 3.6.3\""
     ]
    },
    {
     "data": {
      "text/plain": [
       "\n",
       "Call:\n",
       "lm(formula = Tree_height_m ~ dbh_cm, data = tree_mon)\n",
       "\n",
       "Residuals:\n",
       "    Min      1Q  Median      3Q     Max \n",
       "-49.381  -9.886  -4.098   7.474  60.189 \n",
       "\n",
       "Coefficients:\n",
       "            Estimate Std. Error t value Pr(>|t|)    \n",
       "(Intercept) 20.33583    1.33458  15.238  < 2e-16 ***\n",
       "dbh_cm       0.13134    0.02028   6.477 4.93e-10 ***\n",
       "---\n",
       "Signif. codes:  0 '***' 0.001 '**' 0.01 '*' 0.05 '.' 0.1 ' ' 1\n",
       "\n",
       "Residual standard error: 14.95 on 250 degrees of freedom\n",
       "Multiple R-squared:  0.1437,\tAdjusted R-squared:  0.1403 \n",
       "F-statistic: 41.95 on 1 and 250 DF,  p-value: 4.93e-10\n"
      ]
     },
     "metadata": {},
     "output_type": "display_data"
    },
    {
     "data": {
      "text/plain": [
       "\n",
       "Call:\n",
       "lm(formula = Tree_height_m ~ dbh_cm, data = tree_tues)\n",
       "\n",
       "Residuals:\n",
       "    Min      1Q  Median      3Q     Max \n",
       "-23.761  -5.882  -1.924   4.218  27.703 \n",
       "\n",
       "Coefficients:\n",
       "            Estimate Std. Error t value Pr(>|t|)    \n",
       "(Intercept) 12.97878    0.97955  13.250  < 2e-16 ***\n",
       "dbh_cm       0.20161    0.02348   8.586 4.04e-15 ***\n",
       "---\n",
       "Signif. codes:  0 '***' 0.001 '**' 0.01 '*' 0.05 '.' 0.1 ' ' 1\n",
       "\n",
       "Residual standard error: 8.477 on 181 degrees of freedom\n",
       "Multiple R-squared:  0.2894,\tAdjusted R-squared:  0.2855 \n",
       "F-statistic: 73.73 on 1 and 181 DF,  p-value: 4.038e-15\n"
      ]
     },
     "metadata": {},
     "output_type": "display_data"
    },
    {
     "data": {
      "image/png": "[encoded data removed]",
      "text/plain": [
       "plot without title"
      ]
     },
     "metadata": {},
     "output_type": "display_data"
    }
   ],
   "source": [
    "library(ggplot2)\n",
    "library(cowplot)\n",
    "\n",
    "tree_data <- read.csv('bees1041_tree_data_2023.csv')\n",
    "\n",
    "tree_data$dbh_calc <- tree_data$Circumference_cm / pi\n",
    "tree_data$dbh_error <- abs(tree_data$dbh_cm - tree_data$dbh_calc)\n",
    "tree_data <- subset(tree_data, dbh_error < 10) # Use a threshold error of 10 cm\n",
    "\n",
    "tree_data$Angle_radians <- tree_data$Angle * (pi/180)\n",
    "tree_data$tree_height_calc <- tree_data$Eye_height_m + (tree_data$Distance_m * tan(tree_data$Angle_radians))\n",
    "tree_data$height_error <- abs(tree_data$Tree_height_m - tree_data$tree_height_calc)\n",
    "tree_data <- subset(tree_data, height_error < 5) # Use a treshold error of 10 m\n",
    "\n",
    "tree_data <- subset(tree_data, Tree_type == 'Eucalyptus grandis')\n",
    "\n",
    "# Add a column for day using the with() and ifelse() functions\n",
    "tree_data$Day <- with(tree_data, ifelse(Class == 'Monday AM' | Class == 'Monday PM', \"Monday\", \"Tuesday\"))\n",
    "\n",
    "tree_mon <- subset(tree_data, Day == 'Monday')\n",
    "\n",
    "tree_tues <- subset(tree_data, Day == 'Tuesday')\n",
    "\n",
    "mon_model <- lm(data = tree_mon, Tree_height_m ~ dbh_cm)\n",
    "summary(mon_model)\n",
    "tree_mon$predicted_height <- predict(mon_model)\n",
    "\n",
    "tues_model <- lm(data = tree_tues, Tree_height_m ~ dbh_cm)\n",
    "summary(tues_model)\n",
    "tree_tues$predicted_height <- predict(tues_model)\n",
    "\n",
    "monday <- ggplot(tree_mon, aes(x = dbh_cm, y = Tree_height_m)) +\n",
    "                    geom_point() +\n",
    "                    labs(x = \"Diameter (cm)\", y = \"Height (m)\", title = \"(A) Monday\") +\n",
    "                    theme_bw() +\n",
    "                    geom_line(aes(y = predicted_height), size = 1, color = 'red') +\n",
    "                    coord_cartesian(xlim=c(min(tree_mon$dbh_cm), 1.02*max(tree_tues$dbh_cm)),\n",
    "                                    ylim=c(min(tree_mon$Tree_height_m), 1.02*max(tree_tues$Tree_height_m)))\n",
    "\n",
    "tuesday <- ggplot(tree_tues, aes(x = dbh_cm, y = Tree_height_m)) +\n",
    "                   geom_point() +\n",
    "                   labs(x = \"Diameter (cm)\", y = \"Height (m)\", title = \"(B) Tuesday\") +\n",
    "                   theme_bw() +\n",
    "                   geom_line(aes(y = predicted_height), size = 1, color = 'red') +\n",
    "                   coord_cartesian(xlim=c(min(tree_mon$dbh_cm), 1.02*max(tree_tues$dbh_cm)),\n",
    "                                   ylim=c(min(tree_mon$Tree_height_m), 1.02*max(tree_tues$Tree_height_m)))\n",
    "\n",
    "options(repr.plot.width=5.5, repr.plot.height=3)\n",
    "plot_grid(monday, tuesday, ncol = 2, align = \"h\")\n"
   ]
  },
  {
   "cell_type": "markdown",
   "id": "be96cb91-4f23-450b-ac8d-0fdef8e0bac7",
   "metadata": {},
   "source": [
    "# Ausplot forests data #\n",
    "\n",
    "First, I will load the Ausplots Forests data and create the same subset of Eucalypt species we had in the exercise.\n",
    "\n",
    "The last line of code prints out the number of trees for six species that were measured the most."
   ]
  },
  {
   "cell_type": "code",
   "execution_count": 2,
   "id": "86ddf5dc-e87c-40d2-bdc4-f53bc8ed981c",
   "metadata": {},
   "outputs": [
    {
     "name": "stderr",
     "output_type": "stream",
     "text": [
      "Registered S3 method overwritten by 'rvest':\n",
      "  method            from\n",
      "  read_xml.response xml2\n",
      "-- Attaching packages --------------------------------------- tidyverse 1.2.1 --\n",
      "v tibble  2.1.1       v purrr   0.3.2  \n",
      "v tidyr   0.8.3       v dplyr   0.8.0.1\n",
      "v readr   1.3.1       v stringr 1.4.0  \n",
      "v tibble  2.1.1       v forcats 0.4.0  \n",
      "-- Conflicts ------------------------------------------ tidyverse_conflicts() --\n",
      "x dplyr::filter() masks stats::filter()\n",
      "x dplyr::lag()    masks stats::lag()\n"
     ]
    },
    {
     "data": {
      "text/plain": [
       "\n",
       "Eucalyptus diversicolor      Eucalyptus obliqua      Eucalyptus grandis \n",
       "                    391                     331                     236 \n",
       "     Eucalyptus regnans Eucalyptus delegatensis    Eucalyptus fastigata \n",
       "                    204                     128                     103 "
      ]
     },
     "metadata": {},
     "output_type": "display_data"
    }
   ],
   "source": [
    "library(tidyverse)\n",
    "\n",
    "ausplots_data <- read.csv('ausplot_forest_data.csv')\n",
    "\n",
    "ausplots_subset <- subset(ausplots_data,\n",
    "                          (Point_Of_Measurement == 1.3) &\n",
    "                          (Diameter > 0) &\n",
    "                          (Height > 0) &\n",
    "                          (Tree_Status == 'A'))\n",
    "\n",
    "ausplots_subset <- separate(ausplots_subset, Genus_Species, c(\"Genus\", \"Species\"),\n",
    "                            sep = \" \", extra = \"drop\",\n",
    "                            remove = FALSE, fill = \"right\")\n",
    "\n",
    "ausplots_subset <- subset(ausplots_subset,\n",
    "                          (Genus == \"Eucalyptus\") |\n",
    "                          (Genus == \"Angophora\") |\n",
    "                          (Genus == \"Corymbia\"))\n",
    "\n",
    "ausplot_model <- lm(Height ~ Diameter, data = ausplots_subset)\n",
    "ausplots_subset$predicted_height <- predict(ausplot_model)\n",
    "\n",
    "tree_counts <- table(ausplots_subset$Genus_Species)\n",
    "head(tree_counts[order(tree_counts, decreasing = TRUE)])"
   ]
  },
  {
   "cell_type": "markdown",
   "id": "8565e43f-ccd8-4401-8915-94148ffba61e",
   "metadata": {},
   "source": [
    "Now I will make plots for each of these species, adding a line for the regression model, and including the $R^2$ value. I also add a dashed line for the regression model we created from the whole dataset. Once I had a good plot for the first species I copied and pasted for the other graphs, just changing the species name."
   ]
  },
  {
   "cell_type": "code",
   "execution_count": 3,
   "id": "fbdd33ce-9aeb-449d-99d1-e29fb76c239e",
   "metadata": {},
   "outputs": [
    {
     "data": {
      "image/png": "[encoded data removed]",
      "text/plain": [
       "plot without title"
      ]
     },
     "metadata": {},
     "output_type": "display_data"
    },
    {
     "data": {
      "image/png": "[encoded data removed]",
      "text/plain": [
       "plot without title"
      ]
     },
     "metadata": {},
     "output_type": "display_data"
    },
    {
     "data": {
      "image/png": "[encoded data removed]",
      "text/plain": [
       "plot without title"
      ]
     },
     "metadata": {},
     "output_type": "display_data"
    },
    {
     "data": {
      "image/png": "[encoded data removed]",
      "text/plain": [
       "plot without title"
      ]
     },
     "metadata": {},
     "output_type": "display_data"
    },
    {
     "data": {
      "image/png": "[encoded data removed]",
      "text/plain": [
       "plot without title"
      ]
     },
     "metadata": {},
     "output_type": "display_data"
    },
    {
     "data": {
      "image/png": "[encoded data removed]",
      "text/plain": [
       "plot without title"
      ]
     },
     "metadata": {},
     "output_type": "display_data"
    }
   ],
   "source": [
    "options(repr.plot.width=3, repr.plot.height=3)\n",
    "\n",
    "species <- \"Eucalyptus diversicolor\"\n",
    "euc_subset <- subset(ausplots_subset, Genus_Species == species)\n",
    "model <- lm(Height ~ Diameter, data = euc_subset)\n",
    "rsquared <- summary(model)$r.squared\n",
    "euc_subset$predicted_height <- predict(model)\n",
    "print(ggplot(euc_subset, aes(x = Diameter, y = Height)) +\n",
    "       geom_point() +\n",
    "       labs(x = \"Diameter (cm)\", y = \"Height (m)\", title = species) +\n",
    "       geom_line(aes(y = predicted_height), size = 1, color = 'red') +\n",
    "       geom_line(data = ausplots_subset, aes(x = Diameter, y = predicted_height), size = 1, color = 'red', linetype = 2) +\n",
    "       theme_bw() +\n",
    "       geom_text(x = 25, y = 80, aes(label = format(rsquared, digits = 2), family = 'mono')) +\n",
    "       coord_cartesian(xlim=c(min(ausplots_subset$Diameter), 1.02*max(ausplots_subset$Diameter)),\n",
    "                       ylim=c(min(ausplots_subset$Height), 1.02*max(ausplots_subset$Height))))\n",
    "\n",
    "species <- \"Eucalyptus obliqua\"\n",
    "euc_subset <- subset(ausplots_subset, Genus_Species == species)\n",
    "model <- lm(Height ~ Diameter, data = euc_subset)\n",
    "rsquared <- summary(model)$r.squared\n",
    "euc_subset$predicted_height <- predict(model)\n",
    "print(ggplot(euc_subset, aes(x = Diameter, y = Height)) +\n",
    "       geom_point() +\n",
    "       labs(x = \"Diameter (cm)\", y = \"Height (m)\", title = species) +\n",
    "       geom_line(aes(y = predicted_height), size = 1, color = 'red') +\n",
    "       geom_line(data = ausplots_subset, aes(x = Diameter, y = predicted_height), size = 1, color = 'red', linetype = 2) +\n",
    "       theme_bw() +\n",
    "       geom_text(x = 25, y = 80, aes(label = format(rsquared, digits = 2), family = 'mono')) +\n",
    "       coord_cartesian(xlim=c(min(ausplots_subset$Diameter), 1.02*max(ausplots_subset$Diameter)),\n",
    "                       ylim=c(min(ausplots_subset$Height), 1.02*max(ausplots_subset$Height))))\n",
    "\n",
    "species <- \"Eucalyptus grandis\"\n",
    "euc_subset <- subset(ausplots_subset, Genus_Species == species)\n",
    "model <- lm(Height ~ Diameter, data = euc_subset)\n",
    "rsquared <- summary(model)$r.squared\n",
    "euc_subset$predicted_height <- predict(model)\n",
    "print(ggplot(euc_subset, aes(x = Diameter, y = Height)) +\n",
    "       geom_point() +\n",
    "       labs(x = \"Diameter (cm)\", y = \"Height (m)\", title = species) +\n",
    "       geom_line(aes(y = predicted_height), size = 1, color = 'red') +\n",
    "       geom_line(data = ausplots_subset, aes(x = Diameter, y = predicted_height), size = 1, color = 'red', linetype = 2) +\n",
    "       theme_bw() +\n",
    "       geom_text(x = 25, y = 80, aes(label = format(rsquared, digits = 2), family = 'mono')) +\n",
    "       coord_cartesian(xlim=c(min(ausplots_subset$Diameter), 1.02*max(ausplots_subset$Diameter)),\n",
    "                       ylim=c(min(ausplots_subset$Height), 1.02*max(ausplots_subset$Height))))\n",
    "\n",
    "species <- \"Eucalyptus regnans\"\n",
    "euc_subset <- subset(ausplots_subset, Genus_Species == species)\n",
    "model <- lm(Height ~ Diameter, data = euc_subset)\n",
    "rsquared <- summary(model)$r.squared\n",
    "euc_subset$predicted_height <- predict(model)\n",
    "print(ggplot(euc_subset, aes(x = Diameter, y = Height)) +\n",
    "       geom_point() +\n",
    "       labs(x = \"Diameter (cm)\", y = \"Height (m)\", title = species) +\n",
    "       geom_line(aes(y = predicted_height), size = 1, color = 'red') +\n",
    "       geom_line(data = ausplots_subset, aes(x = Diameter, y = predicted_height), size = 1, color = 'red', linetype = 2) +\n",
    "       theme_bw() +\n",
    "       geom_text(x = 25, y = 80, aes(label = format(rsquared, digits = 2), family = 'mono')) +\n",
    "       coord_cartesian(xlim=c(min(ausplots_subset$Diameter), 1.02*max(ausplots_subset$Diameter)),\n",
    "                       ylim=c(min(ausplots_subset$Height), 1.02*max(ausplots_subset$Height))))\n",
    "\n",
    "species <- \"Eucalyptus delegatensis\"\n",
    "euc_subset <- subset(ausplots_subset, Genus_Species == species)\n",
    "model <- lm(Height ~ Diameter, data = euc_subset)\n",
    "rsquared <- summary(model)$r.squared\n",
    "euc_subset$predicted_height <- predict(model)\n",
    "print(ggplot(euc_subset, aes(x = Diameter, y = Height)) +\n",
    "       geom_point() +\n",
    "       labs(x = \"Diameter (cm)\", y = \"Height (m)\", title = species) +\n",
    "       geom_line(aes(y = predicted_height), size = 1, color = 'red') +\n",
    "       geom_line(data = ausplots_subset, aes(x = Diameter, y = predicted_height), size = 1, color = 'red', linetype = 2) +\n",
    "       theme_bw() +\n",
    "       geom_text(x = 25, y = 80, aes(label = format(rsquared, digits = 2), family = 'mono')) +\n",
    "       coord_cartesian(xlim=c(min(ausplots_subset$Diameter), 1.02*max(ausplots_subset$Diameter)),\n",
    "                       ylim=c(min(ausplots_subset$Height), 1.02*max(ausplots_subset$Height))))\n",
    "\n",
    "\n",
    "species <- \"Eucalyptus fastigata\"\n",
    "euc_subset <- subset(ausplots_subset, Genus_Species == species)\n",
    "model <- lm(Height ~ Diameter, data = euc_subset)\n",
    "rsquared <- summary(model)$r.squared\n",
    "euc_subset$predicted_height <- predict(model)\n",
    "print(ggplot(euc_subset, aes(x = Diameter, y = Height)) +\n",
    "       geom_point() +\n",
    "       labs(x = \"Diameter (cm)\", y = \"Height (m)\", title = species) +\n",
    "       geom_line(aes(y = predicted_height), size = 1, color = 'red') +\n",
    "       geom_line(data = ausplots_subset, aes(x = Diameter, y = predicted_height), size = 1, color = 'red', linetype = 2) +\n",
    "       theme_bw() +\n",
    "       geom_text(x = 25, y = 80, aes(label = format(rsquared, digits = 2), family = 'mono')) +\n",
    "       coord_cartesian(xlim=c(min(ausplots_subset$Diameter), 1.02*max(ausplots_subset$Diameter)),\n",
    "                       ylim=c(min(ausplots_subset$Height), 1.02*max(ausplots_subset$Height))))"
   ]
  },
  {
   "cell_type": "code",
   "execution_count": null,
   "id": "25151d88-eea9-42d0-b595-40ce8e6422d8",
   "metadata": {},
   "outputs": [],
   "source": []
  }
 ],
 "metadata": {
  "kernelspec": {
   "display_name": "R",
   "language": "R",
   "name": "ir"
  },
  "language_info": {
   "codemirror_mode": "r",
   "file_extension": ".r",
   "mimetype": "text/x-r-source",
   "name": "R",
   "pygments_lexer": "r",
   "version": "3.6.1"
  }
 },
 "nbformat": 4,
 "nbformat_minor": 5
}
