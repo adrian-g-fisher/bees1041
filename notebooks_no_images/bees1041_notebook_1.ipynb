{
 "cells": [
  {
   "cell_type": "markdown",
   "id": "c8212870-4c4e-48c4-81ef-8fac307ce29f",
   "metadata": {},
   "source": [
    "# BEES1041 Exploring the Natural World #\n",
    "# Week 1 Computer Exercise - Introduction to R #\n",
    "***\n",
    "This is a Jupyter notebook, which organises code and text into cells. This first cell is a text cell, which is formatted using a simple language called markdown. If you select the cell (click on it and a blue line will appear on the left of the cell), and look at the top of the notebook, you will see the cell type is defined from a drop down menu, which says Markdown. You can also see in the top right that the notebook will run R code. If you double click in this cell, you can edit it, and if you click the triange play button to run the selected cell it will apply the Markdown and make it look nice. You can also include formulas in markdown, like this one that relates the area (<em>a</em>) and radius (<em>r</em>) of a circle: $a = \\pi{r}^2$.\n",
    "\n",
    "As this is the first computer exercise, it is a basic introduction to using R in a Jupyter Notebook on SWAN. The following text cells explain several important conponents of the R language, while the code cells demonstrate each component with an example. The next cell is a code cell, with a single line of code. Click on the cell to highlight it, and then click on the run button to see what the code does. When code is running the cell has `[*]` next to it, and when it is finished it has a number `[1]`, which is the number of times it has been run."
   ]
  },
  {
   "cell_type": "code",
   "execution_count": 1,
   "id": "31152e42-d307-4009-a356-e1b2aefed2d1",
   "metadata": {},
   "outputs": [
    {
     "data": {
      "text/html": [
       "<table>\n",
       "<thead><tr><th scope=col>Sepal.Length</th><th scope=col>Sepal.Width</th><th scope=col>Petal.Length</th><th scope=col>Petal.Width</th><th scope=col>Species</th></tr></thead>\n",
       "<tbody>\n",
       "\t<tr><td>5.1   </td><td>3.5   </td><td>1.4   </td><td>0.2   </td><td>setosa</td></tr>\n",
       "\t<tr><td>4.9   </td><td>3.0   </td><td>1.4   </td><td>0.2   </td><td>setosa</td></tr>\n",
       "\t<tr><td>4.7   </td><td>3.2   </td><td>1.3   </td><td>0.2   </td><td>setosa</td></tr>\n",
       "\t<tr><td>4.6   </td><td>3.1   </td><td>1.5   </td><td>0.2   </td><td>setosa</td></tr>\n",
       "\t<tr><td>5.0   </td><td>3.6   </td><td>1.4   </td><td>0.2   </td><td>setosa</td></tr>\n",
       "\t<tr><td>5.4   </td><td>3.9   </td><td>1.7   </td><td>0.4   </td><td>setosa</td></tr>\n",
       "</tbody>\n",
       "</table>\n"
      ],
      "text/latex": [
       "\\begin{tabular}{r|lllll}\n",
       " Sepal.Length & Sepal.Width & Petal.Length & Petal.Width & Species\\\\\n",
       "\\hline\n",
       "\t 5.1    & 3.5    & 1.4    & 0.2    & setosa\\\\\n",
       "\t 4.9    & 3.0    & 1.4    & 0.2    & setosa\\\\\n",
       "\t 4.7    & 3.2    & 1.3    & 0.2    & setosa\\\\\n",
       "\t 4.6    & 3.1    & 1.5    & 0.2    & setosa\\\\\n",
       "\t 5.0    & 3.6    & 1.4    & 0.2    & setosa\\\\\n",
       "\t 5.4    & 3.9    & 1.7    & 0.4    & setosa\\\\\n",
       "\\end{tabular}\n"
      ],
      "text/markdown": [
       "\n",
       "| Sepal.Length | Sepal.Width | Petal.Length | Petal.Width | Species |\n",
       "|---|---|---|---|---|\n",
       "| 5.1    | 3.5    | 1.4    | 0.2    | setosa |\n",
       "| 4.9    | 3.0    | 1.4    | 0.2    | setosa |\n",
       "| 4.7    | 3.2    | 1.3    | 0.2    | setosa |\n",
       "| 4.6    | 3.1    | 1.5    | 0.2    | setosa |\n",
       "| 5.0    | 3.6    | 1.4    | 0.2    | setosa |\n",
       "| 5.4    | 3.9    | 1.7    | 0.4    | setosa |\n",
       "\n"
      ],
      "text/plain": [
       "  Sepal.Length Sepal.Width Petal.Length Petal.Width Species\n",
       "1 5.1          3.5         1.4          0.2         setosa \n",
       "2 4.9          3.0         1.4          0.2         setosa \n",
       "3 4.7          3.2         1.3          0.2         setosa \n",
       "4 4.6          3.1         1.5          0.2         setosa \n",
       "5 5.0          3.6         1.4          0.2         setosa \n",
       "6 5.4          3.9         1.7          0.4         setosa "
      ]
     },
     "metadata": {},
     "output_type": "display_data"
    }
   ],
   "source": [
    "head(iris)"
   ]
  },
  {
   "cell_type": "markdown",
   "id": "88e2cff0-b206-4d7d-8b1e-b53e13f57dd8",
   "metadata": {},
   "source": [
    "The above cell uses the `head()` function to display the first six rows of a data set. Functions are bits of code that are stored in the code library, which take arguments inside their brackets. If you want to know more about how a function works, or what arguments it will accept, you can get a description by using the `help()` function. For example, you can run `help(head)` to see how the `head()` function works.\n",
    "\n",
    "The `iris` data set is one of several that are built-in to the R language. They are included to make it easy to get started learning the language, and are convenient to test bits of code. The `iris` data set contains the measurements in centimeters of different flower components (sepal length and width, and petal length and width), for 50 flowers from each of 3 species of iris plant. To read more on the data set you can run `help(iris)`.\n",
    "\n",
    "The `iris` data set is stored as an R data frame, which is like a table, with data arranged in rows and columns. The top line of the table, called the header, contains the column names, and each line afterward is a data row. Each column of a data frame can contain different types of data, such as numbers, text, or dates. A column of data can be accessed directly by using the dollar sign, such as in the code below, which uses the `min()` and `max()` functions to show the range of values for the `iris$Petal.Length` column. Click on the cell and run the two lines of code."
   ]
  },
  {
   "cell_type": "code",
   "execution_count": 2,
   "id": "1e95064f-9465-4b12-9c7d-12dbd14ab644",
   "metadata": {},
   "outputs": [
    {
     "data": {
      "text/html": [
       "1"
      ],
      "text/latex": [
       "1"
      ],
      "text/markdown": [
       "1"
      ],
      "text/plain": [
       "[1] 1"
      ]
     },
     "metadata": {},
     "output_type": "display_data"
    },
    {
     "data": {
      "text/html": [
       "6.9"
      ],
      "text/latex": [
       "6.9"
      ],
      "text/markdown": [
       "6.9"
      ],
      "text/plain": [
       "[1] 6.9"
      ]
     },
     "metadata": {},
     "output_type": "display_data"
    }
   ],
   "source": [
    "min(iris$Petal.Length)\n",
    "max(iris$Petal.Length)"
   ]
  },
  {
   "cell_type": "markdown",
   "id": "96e8246f-4f8d-4532-8cae-30386c95919b",
   "metadata": {},
   "source": [
    "When a code cell has more than one line, it executes line-by-line, from top to bottom. This is similar to running a script, which is a just a file that runs all the code it contains.\n",
    "\n",
    "You can access values of a data frame using their row and column numbers inside a set of square brackets. To see the value in the first row of the second column, run the following cell."
   ]
  },
  {
   "cell_type": "code",
   "execution_count": 3,
   "id": "921c57fd-8baa-4f30-93df-9490cde71543",
   "metadata": {},
   "outputs": [
    {
     "data": {
      "text/html": [
       "3.5"
      ],
      "text/latex": [
       "3.5"
      ],
      "text/markdown": [
       "3.5"
      ],
      "text/plain": [
       "[1] 3.5"
      ]
     },
     "metadata": {},
     "output_type": "display_data"
    }
   ],
   "source": [
    "iris[1,2]"
   ]
  },
  {
   "cell_type": "markdown",
   "id": "34b3dbfd-b42d-4b9a-b254-e58ae14d1d6f",
   "metadata": {},
   "source": [
    "You can access a particular row of the data frame by leaving out the column number. For example, to see the third row, run the following cell."
   ]
  },
  {
   "cell_type": "code",
   "execution_count": 4,
   "id": "13c2fbda-c247-4fd0-953e-d6f97633a94d",
   "metadata": {},
   "outputs": [
    {
     "data": {
      "text/html": [
       "<table>\n",
       "<thead><tr><th></th><th scope=col>Sepal.Length</th><th scope=col>Sepal.Width</th><th scope=col>Petal.Length</th><th scope=col>Petal.Width</th><th scope=col>Species</th></tr></thead>\n",
       "<tbody>\n",
       "\t<tr><th scope=row>3</th><td>4.7   </td><td>3.2   </td><td>1.3   </td><td>0.2   </td><td>setosa</td></tr>\n",
       "</tbody>\n",
       "</table>\n"
      ],
      "text/latex": [
       "\\begin{tabular}{r|lllll}\n",
       "  & Sepal.Length & Sepal.Width & Petal.Length & Petal.Width & Species\\\\\n",
       "\\hline\n",
       "\t3 & 4.7    & 3.2    & 1.3    & 0.2    & setosa\\\\\n",
       "\\end{tabular}\n"
      ],
      "text/markdown": [
       "\n",
       "| <!--/--> | Sepal.Length | Sepal.Width | Petal.Length | Petal.Width | Species |\n",
       "|---|---|---|---|---|---|\n",
       "| 3 | 4.7    | 3.2    | 1.3    | 0.2    | setosa |\n",
       "\n"
      ],
      "text/plain": [
       "  Sepal.Length Sepal.Width Petal.Length Petal.Width Species\n",
       "3 4.7          3.2         1.3          0.2         setosa "
      ]
     },
     "metadata": {},
     "output_type": "display_data"
    }
   ],
   "source": [
    "iris[3,]"
   ]
  },
  {
   "cell_type": "markdown",
   "id": "7e9fbdcd-d883-4e18-9d2f-f983e3d089a7",
   "metadata": {},
   "source": [
    "You can access a column in the same way. If you want a range of rows for a particular column you can access them using a range of numbers separated by a `:`. To see the values for the fourth column, that are between the 49th and 52nd rows, run the following cell."
   ]
  },
  {
   "cell_type": "code",
   "execution_count": 5,
   "id": "267502e0-9bb0-4c3f-bae1-781830c9b26f",
   "metadata": {},
   "outputs": [
    {
     "data": {
      "text/html": [
       "<ol class=list-inline>\n",
       "\t<li>0.2</li>\n",
       "\t<li>0.2</li>\n",
       "\t<li>1.4</li>\n",
       "\t<li>1.5</li>\n",
       "</ol>\n"
      ],
      "text/latex": [
       "\\begin{enumerate*}\n",
       "\\item 0.2\n",
       "\\item 0.2\n",
       "\\item 1.4\n",
       "\\item 1.5\n",
       "\\end{enumerate*}\n"
      ],
      "text/markdown": [
       "1. 0.2\n",
       "2. 0.2\n",
       "3. 1.4\n",
       "4. 1.5\n",
       "\n",
       "\n"
      ],
      "text/plain": [
       "[1] 0.2 0.2 1.4 1.5"
      ]
     },
     "metadata": {},
     "output_type": "display_data"
    }
   ],
   "source": [
    "iris[49:52, 4]"
   ]
  },
  {
   "cell_type": "markdown",
   "id": "3b875c17-7c00-4c24-822f-d5fe90318306",
   "metadata": {},
   "source": [
    "You can get other information about the data frame using lots of differnt functions. For example, the `nrow()` function gives you the numbr of rows, while `ncol()` gives the number of columns. "
   ]
  },
  {
   "cell_type": "code",
   "execution_count": 6,
   "id": "a152db92-f0ce-4061-8c1f-8e30470956d4",
   "metadata": {},
   "outputs": [
    {
     "data": {
      "text/html": [
       "150"
      ],
      "text/latex": [
       "150"
      ],
      "text/markdown": [
       "150"
      ],
      "text/plain": [
       "[1] 150"
      ]
     },
     "metadata": {},
     "output_type": "display_data"
    },
    {
     "data": {
      "text/html": [
       "5"
      ],
      "text/latex": [
       "5"
      ],
      "text/markdown": [
       "5"
      ],
      "text/plain": [
       "[1] 5"
      ]
     },
     "metadata": {},
     "output_type": "display_data"
    }
   ],
   "source": [
    "nrow(iris)\n",
    "ncol(iris)"
   ]
  },
  {
   "cell_type": "markdown",
   "id": "dcd4f712-3e65-454e-988e-d59ec935529c",
   "metadata": {},
   "source": [
    "You can assign the output from a function to a new object using the `<-` symbol, which is just a `<` followed by a `-`. You can make up the object name, but they can't have spaces, and its best to keep them simple and descriptive. The following code uses the `colnames()` function to create an object called `column_names`. This object is a vector, or list, of the column names. You can access particular elements of vectors using the square brackets, like you did with the data frame. The following creates the column_names vector and prints the third value."
   ]
  },
  {
   "cell_type": "code",
   "execution_count": 7,
   "id": "b1542190-4d2e-4530-b376-a2595166d832",
   "metadata": {},
   "outputs": [
    {
     "data": {
      "text/html": [
       "'Petal.Length'"
      ],
      "text/latex": [
       "'Petal.Length'"
      ],
      "text/markdown": [
       "'Petal.Length'"
      ],
      "text/plain": [
       "[1] \"Petal.Length\""
      ]
     },
     "metadata": {},
     "output_type": "display_data"
    }
   ],
   "source": [
    "column_names <- colnames(iris)\n",
    "column_names[3]"
   ]
  },
  {
   "cell_type": "markdown",
   "id": "74eca417-31d8-4cff-b682-1e8cd4d022fc",
   "metadata": {},
   "source": [
    "You can change values of a vector or data frame by using the `<-` symbol to assign the new value. For example, the following code changes the third element of the column_names vector to `petal_length`. As this is a text element, you need to enclose the text with quotation marks. You can use single quotes `'petal_length'` or double quotes `\"petal_length\"`, R treats them both the same."
   ]
  },
  {
   "cell_type": "code",
   "execution_count": 8,
   "id": "61884009-0ead-4512-ab60-6a437ab4e20d",
   "metadata": {},
   "outputs": [
    {
     "data": {
      "text/html": [
       "<ol class=list-inline>\n",
       "\t<li>'Sepal.Length'</li>\n",
       "\t<li>'Sepal.Width'</li>\n",
       "\t<li>'petal_length'</li>\n",
       "\t<li>'Petal.Width'</li>\n",
       "\t<li>'Species'</li>\n",
       "</ol>\n"
      ],
      "text/latex": [
       "\\begin{enumerate*}\n",
       "\\item 'Sepal.Length'\n",
       "\\item 'Sepal.Width'\n",
       "\\item 'petal\\_length'\n",
       "\\item 'Petal.Width'\n",
       "\\item 'Species'\n",
       "\\end{enumerate*}\n"
      ],
      "text/markdown": [
       "1. 'Sepal.Length'\n",
       "2. 'Sepal.Width'\n",
       "3. 'petal_length'\n",
       "4. 'Petal.Width'\n",
       "5. 'Species'\n",
       "\n",
       "\n"
      ],
      "text/plain": [
       "[1] \"Sepal.Length\" \"Sepal.Width\"  \"petal_length\" \"Petal.Width\"  \"Species\"     "
      ]
     },
     "metadata": {},
     "output_type": "display_data"
    }
   ],
   "source": [
    "column_names[3] <- 'petal_length'\n",
    "column_names"
   ]
  },
  {
   "cell_type": "markdown",
   "id": "819cdeb4-6850-407a-a75a-d0b2e03e7cf0",
   "metadata": {},
   "source": [
    "It is possible to create new data frames that are subsets of existing data frames. For example, say you only want to examine the data on the `virginica` species of iris, you can select those rows using the `subset()` function. Note that the condition used in `subset()` is `Species == 'virginica'`, which uses a double equal sign `==` to define where a condition is true. The `summary()` function is useful to display statistics."
   ]
  },
  {
   "cell_type": "code",
   "execution_count": 9,
   "id": "e8e65526-7658-4a46-ac7a-b82ca40d80ff",
   "metadata": {},
   "outputs": [
    {
     "data": {
      "text/plain": [
       "  Sepal.Length    Sepal.Width     Petal.Length    Petal.Width   \n",
       " Min.   :4.900   Min.   :2.200   Min.   :4.500   Min.   :1.400  \n",
       " 1st Qu.:6.225   1st Qu.:2.800   1st Qu.:5.100   1st Qu.:1.800  \n",
       " Median :6.500   Median :3.000   Median :5.550   Median :2.000  \n",
       " Mean   :6.588   Mean   :2.974   Mean   :5.552   Mean   :2.026  \n",
       " 3rd Qu.:6.900   3rd Qu.:3.175   3rd Qu.:5.875   3rd Qu.:2.300  \n",
       " Max.   :7.900   Max.   :3.800   Max.   :6.900   Max.   :2.500  \n",
       "       Species  \n",
       " setosa    : 0  \n",
       " versicolor: 0  \n",
       " virginica :50  \n",
       "                \n",
       "                \n",
       "                "
      ]
     },
     "metadata": {},
     "output_type": "display_data"
    }
   ],
   "source": [
    "virginica_data <- subset(iris, Species == 'virginica')\n",
    "summary(virginica_data)"
   ]
  },
  {
   "cell_type": "markdown",
   "id": "781d58f2-206d-4cea-9c10-f865274f01df",
   "metadata": {},
   "source": [
    "Other conditional statements like 'not equal to' `!=`, 'greater than' `>`, 'less than' `<`, 'greater than or equal to `>=`, and 'less than or equal to' `<=` can also be used to select subsets. For example, we can select only those rows in the iris data where `Petal.Length` is greater than or equal to 4."
   ]
  },
  {
   "cell_type": "code",
   "execution_count": 10,
   "id": "e11d258e-dcf4-4300-9d73-cbabd4f0e172",
   "metadata": {},
   "outputs": [
    {
     "data": {
      "text/html": [
       "89"
      ],
      "text/latex": [
       "89"
      ],
      "text/markdown": [
       "89"
      ],
      "text/plain": [
       "[1] 89"
      ]
     },
     "metadata": {},
     "output_type": "display_data"
    },
    {
     "data": {
      "text/html": [
       "4"
      ],
      "text/latex": [
       "4"
      ],
      "text/markdown": [
       "4"
      ],
      "text/plain": [
       "[1] 4"
      ]
     },
     "metadata": {},
     "output_type": "display_data"
    }
   ],
   "source": [
    "long_petal_data <- subset(iris, Petal.Length >= 4)\n",
    "nrow(long_petal_data)\n",
    "min(long_petal_data$Petal.Length)"
   ]
  },
  {
   "cell_type": "markdown",
   "id": "631f29e3-29db-441a-a945-746d0f4a8be4",
   "metadata": {},
   "source": [
    "Sometimes, a single line of code goes over more than one line. This is necessary when the line is too long to display, and/or to make the code more readable. For example, you can combine multiple conditions to select a subset using the `&` operator. As long as the conditions are encolsed in brackets, R will ignore the three seperate lines, and read the following call of the `subset()` function as a single line.  "
   ]
  },
  {
   "cell_type": "code",
   "execution_count": 11,
   "id": "d7394922-b676-49de-a7e9-e2624fb303b3",
   "metadata": {},
   "outputs": [
    {
     "data": {
      "text/html": [
       "21"
      ],
      "text/latex": [
       "21"
      ],
      "text/markdown": [
       "21"
      ],
      "text/plain": [
       "[1] 21"
      ]
     },
     "metadata": {},
     "output_type": "display_data"
    }
   ],
   "source": [
    "long_skinny_virginica <- subset(iris, Species == 'virginica' &\n",
    "                                      Petal.Length >= 5 &\n",
    "                                      Petal.Width <= 2)\n",
    "nrow(long_skinny_virginica)"
   ]
  },
  {
   "cell_type": "markdown",
   "id": "ff768c49-ed05-42e9-98cb-c2f944203201",
   "metadata": {},
   "source": [
    "R lets you do mathematical calculations on whole columns of data, just by using the `+` plus, `-` minus, `/` divide and `*` multiply symbols. It also has many functions for statistical caluclations, such as `mean()` to calculate the mean or average, and `sd()` to calculate the standard deviation. The following code calculates an area column as the length column multiplied by the width column. Then it calculates the mean and standard deviation of this new area column."
   ]
  },
  {
   "cell_type": "code",
   "execution_count": 12,
   "id": "4472bfcb-a44a-4acd-8132-102c42cd3de4",
   "metadata": {},
   "outputs": [
    {
     "data": {
      "text/html": [
       "10.0595238095238"
      ],
      "text/latex": [
       "10.0595238095238"
      ],
      "text/markdown": [
       "10.0595238095238"
      ],
      "text/plain": [
       "[1] 10.05952"
      ]
     },
     "metadata": {},
     "output_type": "display_data"
    },
    {
     "data": {
      "text/html": [
       "1.46262256303694"
      ],
      "text/latex": [
       "1.46262256303694"
      ],
      "text/markdown": [
       "1.46262256303694"
      ],
      "text/plain": [
       "[1] 1.462623"
      ]
     },
     "metadata": {},
     "output_type": "display_data"
    }
   ],
   "source": [
    "long_skinny_virginica$Petal.Area <- long_skinny_virginica$Petal.Length * long_skinny_virginica$Petal.Width\n",
    "mean(long_skinny_virginica$Petal.Area)\n",
    "sd(long_skinny_virginica$Petal.Area)"
   ]
  },
  {
   "cell_type": "markdown",
   "id": "a9187e6c-9d40-4595-84e4-e6e806229c5d",
   "metadata": {},
   "source": [
    "This is the end of the exercise. If you were already familiar with R it should have been very simple, but for those who are new to programming, I hope you followed the important concepts. You can always come back to this notebook to refresh your memory, if you forget how to do something. In next weeks exercise, you will analyse some real data to produce some graphs and invetigate a real research question.\n",
    "\n",
    "***\n",
    "# Final instructions #\n",
    "There are a few things you need to do:\n",
    "- Dont forget to answer the Moodle quiz questions for this exercise.\n",
    "- If you have any problems, or questions, please post on the Moodle forum.\n",
    "- Save the completed notebook and download it to your computer, as SWAN scratch directories get emptied. Or you can move the files into your Cloustor directory.\n",
    "\n",
    "***\n",
    "# Further exercises #\n",
    "- Write a new cell that prints out infomation on the `trees` dataset, including the column names, the number of rows, the number of columns, and the minimum, maximum, mean and standard deviation of the trees `Height`.\n",
    "- Write a markdown cell that explains how the circumferance of each tree can be calculated from the diameter or girth measurement."
   ]
  },
  {
   "cell_type": "code",
   "execution_count": null,
   "id": "588d6196-40f6-42b1-ac34-7956222f8768",
   "metadata": {},
   "outputs": [],
   "source": []
  }
 ],
 "metadata": {
  "kernelspec": {
   "display_name": "R",
   "language": "R",
   "name": "ir"
  },
  "language_info": {
   "codemirror_mode": "r",
   "file_extension": ".r",
   "mimetype": "text/x-r-source",
   "name": "R",
   "pygments_lexer": "r",
   "version": "3.6.1"
  }
 },
 "nbformat": 4,
 "nbformat_minor": 5
}
