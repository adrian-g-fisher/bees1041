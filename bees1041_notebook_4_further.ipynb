{
 "cells": [
  {
   "cell_type": "code",
   "execution_count": null,
   "id": "ab9194ad-f486-4a21-b8d7-caafaf5079b2",
   "metadata": {},
   "outputs": [],
   "source": [
    "# Load all the required modules\n",
    "import matplotlib.pyplot as plt\n",
    "import cartopy.crs as ccrs\n",
    "from osgeo import gdal\n",
    "from cartopy.io.shapereader import Reader\n",
    "from cartopy.feature import ShapelyFeature\n",
    "\n",
    "# Read in the GEBCO data and define the extent\n",
    "demFile = \"global_gebco.tif\"\n",
    "ds = gdal.Open(demFile)\n",
    "demArray = ds.ReadAsArray()\n",
    "gt = ds.GetGeoTransform()\n",
    "extent = (gt[0], gt[0] + ds.RasterXSize * gt[1],\n",
    "          gt[3] + ds.RasterYSize * gt[5], gt[3])\n",
    "\n",
    "# Read in the coastline shapefile\n",
    "shapefile = \"world-coastline.shp\"\n",
    "shape_feature = ShapelyFeature(Reader(shapefile).geometries(), ccrs.PlateCarree(),\n",
    "                               facecolor='none', edgecolor='black', linewidth=0.5)\n",
    "\n",
    "# Create a map of Australia\n",
    "fig = plt.figure(figsize=(8, 8))\n",
    "ax = fig.add_subplot(1, 1, 1, projection=ccrs.Orthographic(central_longitude=135, central_latitude=-30))\n",
    "ax.set_extent([110, 155, -5, -45], crs=ccrs.PlateCarree())\n",
    "im = ax.imshow(demArray, cmap='jet', origin='upper', extent=extent, transform=ccrs.PlateCarree(), vmin=-6000, vmax=2000)\n",
    "ax.add_feature(shape_feature)\n",
    "ax.gridlines(draw_labels=True)\n",
    "cbaxes = fig.add_axes([0.7, 0.1, 0.2, 0.01])\n",
    "cbar = plt.colorbar(im, orientation='horizontal', cax=cbaxes, ticks=[-6000, 0, 2000])\n",
    "cbar.set_label('Elevation (m)')\n",
    "plt.savefig(\"sydney.png\", dpi=300)\n",
    "plt.show()"
   ]
  },
  {
   "cell_type": "code",
   "execution_count": null,
   "id": "b799ff46-33f9-403c-b292-e53b80289864",
   "metadata": {},
   "outputs": [],
   "source": []
  }
 ],
 "metadata": {
  "kernelspec": {
   "display_name": "Python 3 (ipykernel)",
   "language": "python",
   "name": "python3"
  },
  "language_info": {
   "codemirror_mode": {
    "name": "ipython",
    "version": 3
   },
   "file_extension": ".py",
   "mimetype": "text/x-python",
   "name": "python",
   "nbconvert_exporter": "python",
   "pygments_lexer": "ipython3",
   "version": "3.9.6"
  }
 },
 "nbformat": 4,
 "nbformat_minor": 5
}
