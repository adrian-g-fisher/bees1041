{
 "cells": [
  {
   "cell_type": "code",
   "execution_count": 9,
   "id": "67c9d8e8-8a76-4632-bec4-f9e7af8b3dd8",
   "metadata": {},
   "outputs": [
    {
     "ename": "TypeError",
     "evalue": "only size-1 arrays can be converted to Python scalars",
     "output_type": "error",
     "traceback": [
      "\u001b[1;31m---------------------------------------------------------------------------\u001b[0m",
      "\u001b[1;31mTypeError\u001b[0m                                 Traceback (most recent call last)",
      "\u001b[1;32m<ipython-input-9-a98fc6d6f498>\u001b[0m in \u001b[0;36m<module>\u001b[1;34m\u001b[0m\n\u001b[0;32m     28\u001b[0m         \u001b[0mlongitude\u001b[0m \u001b[1;33m=\u001b[0m \u001b[0mlong\u001b[0m\u001b[1;33m[\u001b[0m\u001b[0mloc_id\u001b[0m \u001b[1;33m==\u001b[0m \u001b[0maus_id\u001b[0m\u001b[1;33m[\u001b[0m\u001b[0mi\u001b[0m\u001b[1;33m]\u001b[0m\u001b[1;33m]\u001b[0m\u001b[1;33m\u001b[0m\u001b[1;33m\u001b[0m\u001b[0m\n\u001b[0;32m     29\u001b[0m         \u001b[0mlatitude\u001b[0m \u001b[1;33m=\u001b[0m \u001b[0mlat\u001b[0m\u001b[1;33m[\u001b[0m\u001b[0mloc_id\u001b[0m \u001b[1;33m==\u001b[0m \u001b[0maus_id\u001b[0m\u001b[1;33m[\u001b[0m\u001b[0mi\u001b[0m\u001b[1;33m]\u001b[0m\u001b[1;33m]\u001b[0m\u001b[1;33m\u001b[0m\u001b[1;33m\u001b[0m\u001b[0m\n\u001b[1;32m---> 30\u001b[1;33m         \u001b[0mline\u001b[0m \u001b[1;33m=\u001b[0m \u001b[1;34m'%.6f,%.6f,%s'\u001b[0m\u001b[1;33m%\u001b[0m\u001b[1;33m(\u001b[0m\u001b[0mlongitude\u001b[0m\u001b[1;33m,\u001b[0m\u001b[0mlatitude\u001b[0m\u001b[1;33m,\u001b[0m\u001b[0mdata\u001b[0m\u001b[1;33m[\u001b[0m\u001b[0mi\u001b[0m\u001b[1;33m]\u001b[0m\u001b[1;33m)\u001b[0m\u001b[1;33m\u001b[0m\u001b[1;33m\u001b[0m\u001b[0m\n\u001b[0m\u001b[0;32m     31\u001b[0m         \u001b[0mf\u001b[0m\u001b[1;33m.\u001b[0m\u001b[0mwrite\u001b[0m\u001b[1;33m(\u001b[0m\u001b[0mline\u001b[0m\u001b[1;33m)\u001b[0m\u001b[1;33m\u001b[0m\u001b[1;33m\u001b[0m\u001b[0m\n",
      "\u001b[1;31mTypeError\u001b[0m: only size-1 arrays can be converted to Python scalars"
     ]
    }
   ],
   "source": [
    "import numpy as np\n",
    "\n",
    "# Read in locations\n",
    "loc_id = []\n",
    "long = []\n",
    "lat = []\n",
    "with open(\"ausplot_forest_locations.csv\", 'r') as f:\n",
    "    f.readline()\n",
    "    for line in f:\n",
    "        loc_id.append(line.split(',')[0])\n",
    "        long.append(float(line.split(',')[1]))\n",
    "        lat.append(float(line.strip().split(',')[2]))\n",
    "loc_id = np.array(loc_id)\n",
    "long = np.array(long)\n",
    "lat = np.array(lat)\n",
    "\n",
    "aus_id = []\n",
    "data = []\n",
    "with open(\"ausplot_forest_data.csv\", 'r') as f:\n",
    "    header = f.readline()\n",
    "    for line in f:\n",
    "        data.append(line)\n",
    "        aus_id.append(line.split(',')[1])\n",
    "        \n",
    "with open(\"ausplot_data_and_location.csv\", 'w') as f:\n",
    "    f.write('longitude,latitude,%s'%header)\n",
    "    for i in range(len(aus_id)):\n",
    "        longitude = long[loc_id == aus_id[i]]\n",
    "        latitude = lat[loc_id == aus_id[i]]\n",
    "        \n",
    "        print(longitude, latitude)\n",
    "        \n",
    "        line = '%.6f,%.6f,%s'%(longitude,latitude,data[i])\n",
    "        f.write(line)"
   ]
  },
  {
   "cell_type": "code",
   "execution_count": null,
   "id": "76e07196-0e99-4779-9027-ed9d6ce571a6",
   "metadata": {},
   "outputs": [],
   "source": []
  }
 ],
 "metadata": {
  "kernelspec": {
   "display_name": "Python 3",
   "language": "python",
   "name": "python3"
  },
  "language_info": {
   "codemirror_mode": {
    "name": "ipython",
    "version": 3
   },
   "file_extension": ".py",
   "mimetype": "text/x-python",
   "name": "python",
   "nbconvert_exporter": "python",
   "pygments_lexer": "ipython3",
   "version": "3.8.8"
  }
 },
 "nbformat": 4,
 "nbformat_minor": 5
}
