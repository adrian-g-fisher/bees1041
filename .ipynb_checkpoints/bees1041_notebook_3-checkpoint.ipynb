{
 "cells": [
  {
   "cell_type": "markdown",
   "metadata": {},
   "source": [
    "# BEES1041 Exploring the Natural World #\n",
    "# Week 2 Computer Exercise - Linear models and vegetation structure #\n",
    "***\n",
    "This week you will run some R code to conduct some analyses of the tree measurement data you collected. You will calculate some statistics and make some plots like you did in Excel, and you will learn to define a linear model to describe the relationship between height and DBH. Then you will look at another dataset of tree measurements from the Ausplots Forests project, and compare that data with our data.\n",
    "\n",
    "Why look at relationships between tree height and DBH?\n",
    "\n",
    "Course learning outcomes...\n",
    "\n",
    "<br><br>\n",
    "***\n",
    "First we will load the tree measurment data. I "
   ]
  },
  {
   "cell_type": "code",
   "execution_count": 18,
   "metadata": {},
   "outputs": [
    {
     "data": {
      "text/html": [
       "<ol class=list-inline>\n",
       "\t<li>'student_name'</li>\n",
       "\t<li>'tree_name'</li>\n",
       "\t<li>'location_method'</li>\n",
       "\t<li>'latitude'</li>\n",
       "\t<li>'longitude'</li>\n",
       "\t<li>'height_method'</li>\n",
       "\t<li>'tree_height_m'</li>\n",
       "\t<li>'dbh_method'</li>\n",
       "\t<li>'dbh_cm'</li>\n",
       "\t<li>'tree_type'</li>\n",
       "\t<li>'euc_or_not'</li>\n",
       "\t<li>'terrain_type'</li>\n",
       "\t<li>'forest_or_alone'</li>\n",
       "\t<li>'other_notes'</li>\n",
       "</ol>\n"
      ],
      "text/latex": [
       "\\begin{enumerate*}\n",
       "\\item 'student\\_name'\n",
       "\\item 'tree\\_name'\n",
       "\\item 'location\\_method'\n",
       "\\item 'latitude'\n",
       "\\item 'longitude'\n",
       "\\item 'height\\_method'\n",
       "\\item 'tree\\_height\\_m'\n",
       "\\item 'dbh\\_method'\n",
       "\\item 'dbh\\_cm'\n",
       "\\item 'tree\\_type'\n",
       "\\item 'euc\\_or\\_not'\n",
       "\\item 'terrain\\_type'\n",
       "\\item 'forest\\_or\\_alone'\n",
       "\\item 'other\\_notes'\n",
       "\\end{enumerate*}\n"
      ],
      "text/markdown": [
       "1. 'student_name'\n",
       "2. 'tree_name'\n",
       "3. 'location_method'\n",
       "4. 'latitude'\n",
       "5. 'longitude'\n",
       "6. 'height_method'\n",
       "7. 'tree_height_m'\n",
       "8. 'dbh_method'\n",
       "9. 'dbh_cm'\n",
       "10. 'tree_type'\n",
       "11. 'euc_or_not'\n",
       "12. 'terrain_type'\n",
       "13. 'forest_or_alone'\n",
       "14. 'other_notes'\n",
       "\n",
       "\n"
      ],
      "text/plain": [
       " [1] \"student_name\"    \"tree_name\"       \"location_method\" \"latitude\"       \n",
       " [5] \"longitude\"       \"height_method\"   \"tree_height_m\"   \"dbh_method\"     \n",
       " [9] \"dbh_cm\"          \"tree_type\"       \"euc_or_not\"      \"terrain_type\"   \n",
       "[13] \"forest_or_alone\" \"other_notes\"    "
      ]
     },
     "metadata": {},
     "output_type": "display_data"
    }
   ],
   "source": [
    "library(ggplot2)\n",
    "\n",
    "tree_data <- read.csv('bees1041_trees_2021.csv')\n",
    "colnames(tree_data)"
   ]
  },
  {
   "cell_type": "code",
   "execution_count": 20,
   "metadata": {},
   "outputs": [
    {
     "data": {
      "text/html": [
       "175"
      ],
      "text/latex": [
       "175"
      ],
      "text/markdown": [
       "175"
      ],
      "text/plain": [
       "[1] 175"
      ]
     },
     "metadata": {},
     "output_type": "display_data"
    },
    {
     "data": {
      "text/html": [
       "5.73"
      ],
      "text/latex": [
       "5.73"
      ],
      "text/markdown": [
       "5.73"
      ],
      "text/plain": [
       "[1] 5.73"
      ]
     },
     "metadata": {},
     "output_type": "display_data"
    },
    {
     "data": {
      "text/html": [
       "146.1"
      ],
      "text/latex": [
       "146.1"
      ],
      "text/markdown": [
       "146.1"
      ],
      "text/plain": [
       "[1] 146.1"
      ]
     },
     "metadata": {},
     "output_type": "display_data"
    },
    {
     "data": {
      "text/html": [
       "2.1"
      ],
      "text/latex": [
       "2.1"
      ],
      "text/markdown": [
       "2.1"
      ],
      "text/plain": [
       "[1] 2.1"
      ]
     },
     "metadata": {},
     "output_type": "display_data"
    },
    {
     "data": {
      "text/html": [
       "38.3"
      ],
      "text/latex": [
       "38.3"
      ],
      "text/markdown": [
       "38.3"
      ],
      "text/plain": [
       "[1] 38.3"
      ]
     },
     "metadata": {},
     "output_type": "display_data"
    }
   ],
   "source": [
    "tree_subset <- subset(tree_data, (euc_or_not == 'Eucalypt'))\n",
    "nrow(tree_subset)\n",
    "min(tree_subset$dbh_cm)\n",
    "max(tree_subset$dbh_cm)\n",
    "min(tree_subset$tree_height_m)\n",
    "max(tree_subset$tree_height_m)"
   ]
  },
  {
   "cell_type": "code",
   "execution_count": 43,
   "metadata": {},
   "outputs": [
    {
     "data": {
      "image/png": "[encoded data removed]",
      "text/plain": [
       "plot without title"
      ]
     },
     "metadata": {},
     "output_type": "display_data"
    }
   ],
   "source": [
    "# Define the size of the plot in inches\n",
    "options(repr.plot.width=4, repr.plot.height=4)\n",
    "\n",
    "# Make a plot of diamter vs height for all eucalypts\n",
    "ggplot(tree_subset, aes(x = dbh_cm, y = tree_height_m)) +\n",
    "       geom_point() +\n",
    "       labs(x = \"Diameter (cm)\", y = \"Height (m)\") +\n",
    "       theme_bw()"
   ]
  },
  {
   "cell_type": "code",
   "execution_count": 24,
   "metadata": {},
   "outputs": [
    {
     "data": {
      "text/html": [
       "<ol class=list-inline>\n",
       "\t<li>'ID'</li>\n",
       "\t<li>'Ausplot_ID'</li>\n",
       "\t<li>'Site_Name'</li>\n",
       "\t<li>'Date'</li>\n",
       "\t<li>'Subplot'</li>\n",
       "\t<li>'Tree_ID'</li>\n",
       "\t<li>'Genus_Species'</li>\n",
       "\t<li>'Tree_Condition'</li>\n",
       "\t<li>'Tree_Status'</li>\n",
       "\t<li>'Mode_Of_Death'</li>\n",
       "\t<li>'Growth_Stage'</li>\n",
       "\t<li>'Crown_Class'</li>\n",
       "\t<li>'Diameter'</li>\n",
       "\t<li>'Point_Of_Measurement'</li>\n",
       "\t<li>'Diameter_2'</li>\n",
       "\t<li>'Point_Of_Measurement_2'</li>\n",
       "\t<li>'Height'</li>\n",
       "\t<li>'Bole_Height'</li>\n",
       "\t<li>'Height_Of_Break'</li>\n",
       "\t<li>'Historic_ID'</li>\n",
       "\t<li>'Comment'</li>\n",
       "</ol>\n"
      ],
      "text/latex": [
       "\\begin{enumerate*}\n",
       "\\item 'ID'\n",
       "\\item 'Ausplot\\_ID'\n",
       "\\item 'Site\\_Name'\n",
       "\\item 'Date'\n",
       "\\item 'Subplot'\n",
       "\\item 'Tree\\_ID'\n",
       "\\item 'Genus\\_Species'\n",
       "\\item 'Tree\\_Condition'\n",
       "\\item 'Tree\\_Status'\n",
       "\\item 'Mode\\_Of\\_Death'\n",
       "\\item 'Growth\\_Stage'\n",
       "\\item 'Crown\\_Class'\n",
       "\\item 'Diameter'\n",
       "\\item 'Point\\_Of\\_Measurement'\n",
       "\\item 'Diameter\\_2'\n",
       "\\item 'Point\\_Of\\_Measurement\\_2'\n",
       "\\item 'Height'\n",
       "\\item 'Bole\\_Height'\n",
       "\\item 'Height\\_Of\\_Break'\n",
       "\\item 'Historic\\_ID'\n",
       "\\item 'Comment'\n",
       "\\end{enumerate*}\n"
      ],
      "text/markdown": [
       "1. 'ID'\n",
       "2. 'Ausplot_ID'\n",
       "3. 'Site_Name'\n",
       "4. 'Date'\n",
       "5. 'Subplot'\n",
       "6. 'Tree_ID'\n",
       "7. 'Genus_Species'\n",
       "8. 'Tree_Condition'\n",
       "9. 'Tree_Status'\n",
       "10. 'Mode_Of_Death'\n",
       "11. 'Growth_Stage'\n",
       "12. 'Crown_Class'\n",
       "13. 'Diameter'\n",
       "14. 'Point_Of_Measurement'\n",
       "15. 'Diameter_2'\n",
       "16. 'Point_Of_Measurement_2'\n",
       "17. 'Height'\n",
       "18. 'Bole_Height'\n",
       "19. 'Height_Of_Break'\n",
       "20. 'Historic_ID'\n",
       "21. 'Comment'\n",
       "\n",
       "\n"
      ],
      "text/plain": [
       " [1] \"ID\"                     \"Ausplot_ID\"             \"Site_Name\"             \n",
       " [4] \"Date\"                   \"Subplot\"                \"Tree_ID\"               \n",
       " [7] \"Genus_Species\"          \"Tree_Condition\"         \"Tree_Status\"           \n",
       "[10] \"Mode_Of_Death\"          \"Growth_Stage\"           \"Crown_Class\"           \n",
       "[13] \"Diameter\"               \"Point_Of_Measurement\"   \"Diameter_2\"            \n",
       "[16] \"Point_Of_Measurement_2\" \"Height\"                 \"Bole_Height\"           \n",
       "[19] \"Height_Of_Break\"        \"Historic_ID\"            \"Comment\"               "
      ]
     },
     "metadata": {},
     "output_type": "display_data"
    },
    {
     "data": {
      "text/html": [
       "24512"
      ],
      "text/latex": [
       "24512"
      ],
      "text/markdown": [
       "24512"
      ],
      "text/plain": [
       "[1] 24512"
      ]
     },
     "metadata": {},
     "output_type": "display_data"
    }
   ],
   "source": [
    "ausplots_data <- read.csv('ausplot_forest_data.csv')\n",
    "colnames(ausplots_data)\n",
    "nrow(ausplots_data)"
   ]
  },
  {
   "cell_type": "markdown",
   "metadata": {},
   "source": [
    "Select only alive trees, where the diameter was measured at 1.3 m, and diameter and height were measured. "
   ]
  },
  {
   "cell_type": "code",
   "execution_count": 25,
   "metadata": {},
   "outputs": [
    {
     "data": {
      "text/html": [
       "2752"
      ],
      "text/latex": [
       "2752"
      ],
      "text/markdown": [
       "2752"
      ],
      "text/plain": [
       "[1] 2752"
      ]
     },
     "metadata": {},
     "output_type": "display_data"
    }
   ],
   "source": [
    "ausplots_subset <- subset(ausplots_data,\n",
    "                          (Point_Of_Measurement == 1.3) &\n",
    "                          (Diameter > 0) &\n",
    "                          (Height > 0) &\n",
    "                          (Tree_Status == 'A'))\n",
    "nrow(ausplots_subset)"
   ]
  },
  {
   "cell_type": "code",
   "execution_count": 44,
   "metadata": {},
   "outputs": [
    {
     "data": {
      "image/png": "[encoded data removed]",
      "text/plain": [
       "plot without title"
      ]
     },
     "metadata": {},
     "output_type": "display_data"
    }
   ],
   "source": [
    "options(repr.plot.width=4, repr.plot.height=4)\n",
    "ggplot(ausplots_subset, aes(x = Diameter, y = Height)) +\n",
    "       geom_point() +\n",
    "       labs(x = \"Diameter (cm)\", y = \"Height (m)\") +\n",
    "       theme_bw()"
   ]
  },
  {
   "cell_type": "code",
   "execution_count": 42,
   "metadata": {},
   "outputs": [
    {
     "data": {
      "image/png": "[encoded data removed]",
      "text/plain": [
       "plot without title"
      ]
     },
     "metadata": {},
     "output_type": "display_data"
    }
   ],
   "source": [
    "library(cowplot)\n",
    "\n",
    "tree_plot <- ggplot(tree_subset, aes(x = dbh_cm, y = tree_height_m)) +\n",
    "                    geom_point() +\n",
    "                    labs(x = \"Diameter (cm)\", y = \"Height (m)\", title = \"(A) BEES1041 Eucalypts\") +\n",
    "                    theme_bw() +\n",
    "                    coord_cartesian(xlim=c(min(tree_subset$dbh_cm), 1.1*max(ausplots_subset$Diameter)),\n",
    "                                    ylim=c(min(tree_subset$tree_height_m), 1.1*max(ausplots_subset$Height)))\n",
    "\n",
    "aus_plot <- ggplot(ausplots_subset, aes(x = Diameter, y = Height)) +\n",
    "                   geom_point() +\n",
    "                   labs(x = \"Diameter (cm)\", y = \"Height (m)\", title = \"(B) Ausplot Forests\") +\n",
    "                   theme_bw() +\n",
    "                   coord_cartesian(xlim=c(min(tree_subset$dbh_cm), 1.02*max(ausplots_subset$Diameter)),\n",
    "                                   ylim=c(min(tree_subset$tree_height_m), 1.02*max(ausplots_subset$Height)))\n",
    "\n",
    "options(repr.plot.width=7.5, repr.plot.height=4)\n",
    "plot_grid(tree_plot, aus_plot, ncol = 2, align = \"h\")"
   ]
  },
  {
   "cell_type": "code",
   "execution_count": null,
   "metadata": {},
   "outputs": [],
   "source": []
  },
  {
   "cell_type": "markdown",
   "metadata": {},
   "source": [
    "Firstly, the data has no locaion information, so we need to merge the dataframe with another dataset"
   ]
  },
  {
   "cell_type": "code",
   "execution_count": 8,
   "metadata": {},
   "outputs": [
    {
     "data": {
      "text/html": [
       "<ol class=list-inline>\n",
       "\t<li>'Ausplot_ID'</li>\n",
       "\t<li>'longitude'</li>\n",
       "\t<li>'latitude'</li>\n",
       "</ol>\n"
      ],
      "text/latex": [
       "\\begin{enumerate*}\n",
       "\\item 'Ausplot\\_ID'\n",
       "\\item 'longitude'\n",
       "\\item 'latitude'\n",
       "\\end{enumerate*}\n"
      ],
      "text/markdown": [
       "1. 'Ausplot_ID'\n",
       "2. 'longitude'\n",
       "3. 'latitude'\n",
       "\n",
       "\n"
      ],
      "text/plain": [
       "[1] \"Ausplot_ID\" \"longitude\"  \"latitude\"  "
      ]
     },
     "metadata": {},
     "output_type": "display_data"
    }
   ],
   "source": [
    "ausplots_locations <- read.csv('ausplot_forest_locations.csv')\n",
    "colnames(ausplots_locations)"
   ]
  },
  {
   "cell_type": "code",
   "execution_count": 14,
   "metadata": {},
   "outputs": [
    {
     "name": "stderr",
     "output_type": "stream",
     "text": [
      "\n",
      "Attaching package: 'dplyr'\n",
      "\n",
      "The following objects are masked from 'package:stats':\n",
      "\n",
      "    filter, lag\n",
      "\n",
      "The following objects are masked from 'package:base':\n",
      "\n",
      "    intersect, setdiff, setequal, union\n",
      "\n",
      "Joining, by = \"Ausplot_ID\"\n",
      "Warning message:\n",
      "\"Column `Ausplot_ID` joining factors with different levels, coercing to character vector\""
     ]
    },
    {
     "data": {
      "text/html": [
       "<ol class=list-inline>\n",
       "\t<li>'Ausplot_ID'</li>\n",
       "\t<li>'ID'</li>\n",
       "\t<li>'Site_Name'</li>\n",
       "\t<li>'Date'</li>\n",
       "\t<li>'Subplot'</li>\n",
       "\t<li>'Tree_ID'</li>\n",
       "\t<li>'Genus_Species'</li>\n",
       "\t<li>'Tree_Condition'</li>\n",
       "\t<li>'Tree_Status'</li>\n",
       "\t<li>'Mode_Of_Death'</li>\n",
       "\t<li>'Growth_Stage'</li>\n",
       "\t<li>'Crown_Class'</li>\n",
       "\t<li>'Diameter'</li>\n",
       "\t<li>'Point_Of_Measurement'</li>\n",
       "\t<li>'Diameter_2'</li>\n",
       "\t<li>'Point_Of_Measurement_2'</li>\n",
       "\t<li>'Height'</li>\n",
       "\t<li>'Bole_Height'</li>\n",
       "\t<li>'Height_Of_Break'</li>\n",
       "\t<li>'Historic_ID'</li>\n",
       "\t<li>'Comment'</li>\n",
       "\t<li>'longitude.x'</li>\n",
       "\t<li>'latitude.x'</li>\n",
       "\t<li>'longitude.y'</li>\n",
       "\t<li>'latitude.y'</li>\n",
       "\t<li>'longitude'</li>\n",
       "\t<li>'latitude'</li>\n",
       "</ol>\n"
      ],
      "text/latex": [
       "\\begin{enumerate*}\n",
       "\\item 'Ausplot\\_ID'\n",
       "\\item 'ID'\n",
       "\\item 'Site\\_Name'\n",
       "\\item 'Date'\n",
       "\\item 'Subplot'\n",
       "\\item 'Tree\\_ID'\n",
       "\\item 'Genus\\_Species'\n",
       "\\item 'Tree\\_Condition'\n",
       "\\item 'Tree\\_Status'\n",
       "\\item 'Mode\\_Of\\_Death'\n",
       "\\item 'Growth\\_Stage'\n",
       "\\item 'Crown\\_Class'\n",
       "\\item 'Diameter'\n",
       "\\item 'Point\\_Of\\_Measurement'\n",
       "\\item 'Diameter\\_2'\n",
       "\\item 'Point\\_Of\\_Measurement\\_2'\n",
       "\\item 'Height'\n",
       "\\item 'Bole\\_Height'\n",
       "\\item 'Height\\_Of\\_Break'\n",
       "\\item 'Historic\\_ID'\n",
       "\\item 'Comment'\n",
       "\\item 'longitude.x'\n",
       "\\item 'latitude.x'\n",
       "\\item 'longitude.y'\n",
       "\\item 'latitude.y'\n",
       "\\item 'longitude'\n",
       "\\item 'latitude'\n",
       "\\end{enumerate*}\n"
      ],
      "text/markdown": [
       "1. 'Ausplot_ID'\n",
       "2. 'ID'\n",
       "3. 'Site_Name'\n",
       "4. 'Date'\n",
       "5. 'Subplot'\n",
       "6. 'Tree_ID'\n",
       "7. 'Genus_Species'\n",
       "8. 'Tree_Condition'\n",
       "9. 'Tree_Status'\n",
       "10. 'Mode_Of_Death'\n",
       "11. 'Growth_Stage'\n",
       "12. 'Crown_Class'\n",
       "13. 'Diameter'\n",
       "14. 'Point_Of_Measurement'\n",
       "15. 'Diameter_2'\n",
       "16. 'Point_Of_Measurement_2'\n",
       "17. 'Height'\n",
       "18. 'Bole_Height'\n",
       "19. 'Height_Of_Break'\n",
       "20. 'Historic_ID'\n",
       "21. 'Comment'\n",
       "22. 'longitude.x'\n",
       "23. 'latitude.x'\n",
       "24. 'longitude.y'\n",
       "25. 'latitude.y'\n",
       "26. 'longitude'\n",
       "27. 'latitude'\n",
       "\n",
       "\n"
      ],
      "text/plain": [
       " [1] \"Ausplot_ID\"             \"ID\"                     \"Site_Name\"             \n",
       " [4] \"Date\"                   \"Subplot\"                \"Tree_ID\"               \n",
       " [7] \"Genus_Species\"          \"Tree_Condition\"         \"Tree_Status\"           \n",
       "[10] \"Mode_Of_Death\"          \"Growth_Stage\"           \"Crown_Class\"           \n",
       "[13] \"Diameter\"               \"Point_Of_Measurement\"   \"Diameter_2\"            \n",
       "[16] \"Point_Of_Measurement_2\" \"Height\"                 \"Bole_Height\"           \n",
       "[19] \"Height_Of_Break\"        \"Historic_ID\"            \"Comment\"               \n",
       "[22] \"longitude.x\"            \"latitude.x\"             \"longitude.y\"           \n",
       "[25] \"latitude.y\"             \"longitude\"              \"latitude\"              "
      ]
     },
     "metadata": {},
     "output_type": "display_data"
    }
   ],
   "source": [
    "library(dplyr)\n",
    "ausplots_subset <- inner_join(ausplots_subset, ausplots_locations)\n",
    "colnames(ausplots_subset)"
   ]
  },
  {
   "cell_type": "code",
   "execution_count": 19,
   "metadata": {},
   "outputs": [
    {
     "data": {
      "text/html": [
       "-30.15757"
      ],
      "text/latex": [
       "-30.15757"
      ],
      "text/markdown": [
       "-30.15757"
      ],
      "text/plain": [
       "[1] -30.15757"
      ]
     },
     "metadata": {},
     "output_type": "display_data"
    }
   ],
   "source": []
  },
  {
   "cell_type": "markdown",
   "metadata": {},
   "source": [
    "## Questions to answer ##\n",
    "\n",
    "How well have the trees of Australia been sampled?\n",
    "- Distribution of heights?\n",
    "- Dates?\n",
    "- Genus?\n",
    "\n",
    "What is the linear relationship between height and diameter?\n",
    "- intercept and slope?\n",
    "- R2?\n",
    "- RMSE?\n",
    "\n",
    "How similar is the Sydney tree data?\n",
    "\n",
    "Comparison of Sydney tree data with lidar data?"
   ]
  },
  {
   "cell_type": "code",
   "execution_count": null,
   "metadata": {},
   "outputs": [],
   "source": []
  }
 ],
 "metadata": {
  "kernelspec": {
   "display_name": "R",
   "language": "R",
   "name": "ir"
  },
  "language_info": {
   "codemirror_mode": "r",
   "file_extension": ".r",
   "mimetype": "text/x-r-source",
   "name": "R",
   "pygments_lexer": "r",
   "version": "3.6.1"
  }
 },
 "nbformat": 4,
 "nbformat_minor": 4
}
