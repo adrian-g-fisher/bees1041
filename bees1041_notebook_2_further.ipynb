{
 "cells": [
  {
   "cell_type": "code",
   "execution_count": 5,
   "id": "328beaa0-0028-4aa4-8781-66082c167daa",
   "metadata": {},
   "outputs": [
    {
     "name": "stderr",
     "output_type": "stream",
     "text": [
      "Saving 6.67 x 6.67 in image\n"
     ]
    }
   ],
   "source": [
    "library(ggplot2)\n",
    "library(cowplot)\n",
    "\n",
    "pejar_data <- read.csv(url('https://data.dea.ga.gov.au/projects/WaterBodies/timeseries/r3f7/r3f77cx2t.csv'))\n",
    "pejar_data <- na.omit(pejar_data)\n",
    "pejar_data$Observation.Date <- as.Date(pejar_data$Observation.Date)\n",
    "pejar_data <- subset(pejar_data, !(Observation.Date > as.Date('2015-01-01') & Wet.pixel.percentage < 10))\n",
    "waterplot1 <- ggplot(pejar_data, aes(x = Observation.Date, y = Wet.pixel.percentage)) +\n",
    "                     geom_line(colour = 'darkblue') +\n",
    "                     labs(title = 'Pejar Dam', x = \"Date\", y = \"Dam water area (%)\") +\n",
    "                     theme_bw()\n",
    "\n",
    "csvFile <- 'https://data.dea.ga.gov.au/projects/WaterBodies/timeseries/r3f7/r3f7e2hcs.csv'\n",
    "water_data <- read.csv(url(csvFile))\n",
    "water_data <- na.omit(water_data)\n",
    "water_data$Observation.Date <- as.Date(water_data$Observation.Date)\n",
    "waterplot2 <- ggplot(water_data, aes(x = Observation.Date, y = Wet.pixel.percentage)) +\n",
    "                     geom_line(colour = 'darkblue') +\n",
    "                     labs(title = basename(csvFile), x = \"Date\", y = \"Dam water area (%)\") +\n",
    "                     theme_bw()\n",
    "    \n",
    "csvFile <- 'https://data.dea.ga.gov.au/projects/WaterBodies/timeseries/r3f7/r3f77rm1u.csv'\n",
    "water_data <- read.csv(url(csvFile))\n",
    "water_data <- na.omit(water_data)\n",
    "water_data$Observation.Date <- as.Date(water_data$Observation.Date)\n",
    "waterplot3 <- ggplot(water_data, aes(x = Observation.Date, y = Wet.pixel.percentage)) +\n",
    "                     geom_line(colour = 'darkblue') +\n",
    "                     labs(title = basename(csvFile), x = \"Date\", y = \"Dam water area (%)\") +\n",
    "                     theme_bw()\n",
    "\n",
    "csvFile <- 'https://data.dea.ga.gov.au/projects/WaterBodies/timeseries/r3f7/r3f7s8t35.csv'\n",
    "water_data <- read.csv(url(csvFile))\n",
    "water_data <- na.omit(water_data)\n",
    "water_data$Observation.Date <- as.Date(water_data$Observation.Date)\n",
    "waterplot4 <- ggplot(water_data, aes(x = Observation.Date, y = Wet.pixel.percentage)) +\n",
    "                     geom_line(colour = 'darkblue') +\n",
    "                     labs(title = basename(csvFile), x = \"Date\", y = \"Dam water area (%)\") +\n",
    "                     theme_bw()\n",
    "\n",
    "combined_graphs <- plot_grid(waterplot1, waterplot2, waterplot3, waterplot4, ncol = 1, align = \"v\")\n",
    "ggsave(\"waterbody_timeseries.png\", combined_graphs)"
   ]
  },
  {
   "cell_type": "code",
   "execution_count": null,
   "id": "cadc1171-ce4e-4976-9cbd-e9b750e3fdbc",
   "metadata": {},
   "outputs": [],
   "source": []
  }
 ],
 "metadata": {
  "kernelspec": {
   "display_name": "R",
   "language": "R",
   "name": "ir"
  },
  "language_info": {
   "codemirror_mode": "r",
   "file_extension": ".r",
   "mimetype": "text/x-r-source",
   "name": "R",
   "pygments_lexer": "r",
   "version": "3.6.1"
  }
 },
 "nbformat": 4,
 "nbformat_minor": 5
}
