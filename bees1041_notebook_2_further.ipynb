{
  "cells": [
    {
      "cell_type": "code",
      "execution_count": null,
      "id": "328beaa0-0028-4aa4-8781-66082c167daa",
      "metadata": {
        "id": "328beaa0-0028-4aa4-8781-66082c167daa"
      },
      "outputs": [],
      "source": [
        "install.packages(\"cowplot\")\n",
        "\n",
        "library(ggplot2)\n",
        "library(cowplot)\n",
        "\n",
        "csvFile <- 'https://data.dea.ga.gov.au/derivative/dea_waterbodies/2-0-0/timeseries/r3f7/r3f77cx2x_v2.csv'\n",
        "pejar_data <- read.csv(url(csvFile))\n",
        "pejar_data <- na.omit(pejar_data)\n",
        "pejar_data$date <- as.Date(pejar_data$date)\n",
        "pejar_data <- subset(pejar_data, !(date > as.Date('2015-01-01') & pc_wet < 10))\n",
        "waterplot1 <- ggplot(pejar_data, aes(x = date, y = pc_wet)) +\n",
        "                     geom_line(colour = 'darkblue') +\n",
        "                     labs(title = 'Pejar Dam', x = \"Date\", y = \"Dam water area (%)\") +\n",
        "                     theme_bw()\n",
        "\n",
        "csvFile <- 'https://data.dea.ga.gov.au/derivative/dea_waterbodies/2-0-0/timeseries/r3f7/r3f7e2hf7_v2.csv'\n",
        "water_data <- read.csv(url(csvFile))\n",
        "water_data <- na.omit(water_data)\n",
        "water_data$date <- as.Date(water_data$date)\n",
        "waterplot2 <- ggplot(water_data, aes(x = date, y = pc_wet)) +\n",
        "                     geom_line(colour = 'darkblue') +\n",
        "                     labs(title = basename(csvFile), x = \"Date\", y = \"Dam water area (%)\") +\n",
        "                     theme_bw()\n",
        "\n",
        "csvFile <- 'https://data.dea.ga.gov.au/derivative/dea_waterbodies/2-0-0/timeseries/r3f7/r3f77rm4z_v2.csv'\n",
        "water_data <- read.csv(url(csvFile))\n",
        "water_data <- na.omit(water_data)\n",
        "water_data$date <- as.Date(water_data$date)\n",
        "waterplot3 <- ggplot(water_data, aes(x = date, y = pc_wet)) +\n",
        "                     geom_line(colour = 'darkblue') +\n",
        "                     labs(title = basename(csvFile), x = \"Date\", y = \"Dam water area (%)\") +\n",
        "                     theme_bw()\n",
        "\n",
        "csvFile <- 'https://data.dea.ga.gov.au/derivative/dea_waterbodies/2-0-0/timeseries/r3f7/r3f7svsnw_v2.csv'\n",
        "water_data <- read.csv(url(csvFile))\n",
        "water_data <- na.omit(water_data)\n",
        "water_data$date <- as.Date(water_data$date)\n",
        "waterplot4 <- ggplot(water_data, aes(x = date, y = pc_wet)) +\n",
        "                     geom_line(colour = 'darkblue') +\n",
        "                     labs(title = basename(csvFile), x = \"Date\", y = \"Dam water area (%)\") +\n",
        "                     theme_bw()\n",
        "\n",
        "combined_graphs <- plot_grid(waterplot1, waterplot2, waterplot3, waterplot4, ncol = 1, align = \"v\")\n",
        "ggsave(\"waterbody_timeseries.png\", combined_graphs)"
      ]
    },
    {
      "cell_type": "code",
      "execution_count": null,
      "id": "cadc1171-ce4e-4976-9cbd-e9b750e3fdbc",
      "metadata": {
        "id": "cadc1171-ce4e-4976-9cbd-e9b750e3fdbc"
      },
      "outputs": [],
      "source": []
    }
  ],
  "metadata": {
    "kernelspec": {
      "display_name": "R",
      "language": "R",
      "name": "ir"
    },
    "language_info": {
      "codemirror_mode": "r",
      "file_extension": ".r",
      "mimetype": "text/x-r-source",
      "name": "R",
      "pygments_lexer": "r",
      "version": "3.6.1"
    },
    "colab": {
      "provenance": []
    }
  },
  "nbformat": 4,
  "nbformat_minor": 5
}