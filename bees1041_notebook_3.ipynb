{
 "cells": [
  {
   "cell_type": "markdown",
   "metadata": {},
   "source": [
    "# BEES1041 Exploring the Natural World #\n",
    "# Week 2 Computer Exercise - Linear models and vegetation structure #\n",
    "***\n",
    "This week notebook \n",
    "\n",
    "Why look at relationships between\n",
    "\n",
    "\n",
    "<br><br>\n",
    "***\n",
    "The..."
   ]
  },
  {
   "cell_type": "code",
   "execution_count": 4,
   "metadata": {},
   "outputs": [
    {
     "data": {
      "text/html": [
       "<ol class=list-inline>\n",
       "\t<li>'ID'</li>\n",
       "\t<li>'Ausplot_ID'</li>\n",
       "\t<li>'Site_Name'</li>\n",
       "\t<li>'Date'</li>\n",
       "\t<li>'Subplot'</li>\n",
       "\t<li>'Tree_ID'</li>\n",
       "\t<li>'Genus_Species'</li>\n",
       "\t<li>'Tree_Condition'</li>\n",
       "\t<li>'Tree_Status'</li>\n",
       "\t<li>'Mode_Of_Death'</li>\n",
       "\t<li>'Growth_Stage'</li>\n",
       "\t<li>'Crown_Class'</li>\n",
       "\t<li>'Diameter'</li>\n",
       "\t<li>'Point_Of_Measurement'</li>\n",
       "\t<li>'Diameter_2'</li>\n",
       "\t<li>'Point_Of_Measurement_2'</li>\n",
       "\t<li>'Height'</li>\n",
       "\t<li>'Bole_Height'</li>\n",
       "\t<li>'Height_Of_Break'</li>\n",
       "\t<li>'Historic_ID'</li>\n",
       "\t<li>'Comment'</li>\n",
       "</ol>\n"
      ],
      "text/latex": [
       "\\begin{enumerate*}\n",
       "\\item 'ID'\n",
       "\\item 'Ausplot\\_ID'\n",
       "\\item 'Site\\_Name'\n",
       "\\item 'Date'\n",
       "\\item 'Subplot'\n",
       "\\item 'Tree\\_ID'\n",
       "\\item 'Genus\\_Species'\n",
       "\\item 'Tree\\_Condition'\n",
       "\\item 'Tree\\_Status'\n",
       "\\item 'Mode\\_Of\\_Death'\n",
       "\\item 'Growth\\_Stage'\n",
       "\\item 'Crown\\_Class'\n",
       "\\item 'Diameter'\n",
       "\\item 'Point\\_Of\\_Measurement'\n",
       "\\item 'Diameter\\_2'\n",
       "\\item 'Point\\_Of\\_Measurement\\_2'\n",
       "\\item 'Height'\n",
       "\\item 'Bole\\_Height'\n",
       "\\item 'Height\\_Of\\_Break'\n",
       "\\item 'Historic\\_ID'\n",
       "\\item 'Comment'\n",
       "\\end{enumerate*}\n"
      ],
      "text/markdown": [
       "1. 'ID'\n",
       "2. 'Ausplot_ID'\n",
       "3. 'Site_Name'\n",
       "4. 'Date'\n",
       "5. 'Subplot'\n",
       "6. 'Tree_ID'\n",
       "7. 'Genus_Species'\n",
       "8. 'Tree_Condition'\n",
       "9. 'Tree_Status'\n",
       "10. 'Mode_Of_Death'\n",
       "11. 'Growth_Stage'\n",
       "12. 'Crown_Class'\n",
       "13. 'Diameter'\n",
       "14. 'Point_Of_Measurement'\n",
       "15. 'Diameter_2'\n",
       "16. 'Point_Of_Measurement_2'\n",
       "17. 'Height'\n",
       "18. 'Bole_Height'\n",
       "19. 'Height_Of_Break'\n",
       "20. 'Historic_ID'\n",
       "21. 'Comment'\n",
       "\n",
       "\n"
      ],
      "text/plain": [
       " [1] \"ID\"                     \"Ausplot_ID\"             \"Site_Name\"             \n",
       " [4] \"Date\"                   \"Subplot\"                \"Tree_ID\"               \n",
       " [7] \"Genus_Species\"          \"Tree_Condition\"         \"Tree_Status\"           \n",
       "[10] \"Mode_Of_Death\"          \"Growth_Stage\"           \"Crown_Class\"           \n",
       "[13] \"Diameter\"               \"Point_Of_Measurement\"   \"Diameter_2\"            \n",
       "[16] \"Point_Of_Measurement_2\" \"Height\"                 \"Bole_Height\"           \n",
       "[19] \"Height_Of_Break\"        \"Historic_ID\"            \"Comment\"               "
      ]
     },
     "metadata": {},
     "output_type": "display_data"
    },
    {
     "data": {
      "text/html": [
       "24512"
      ],
      "text/latex": [
       "24512"
      ],
      "text/markdown": [
       "24512"
      ],
      "text/plain": [
       "[1] 24512"
      ]
     },
     "metadata": {},
     "output_type": "display_data"
    }
   ],
   "source": [
    "ausplots_data <- read.csv('ausplot_forest_data.csv')\n",
    "colnames(ausplots_data)\n",
    "nrow(ausplots_data)"
   ]
  },
  {
   "cell_type": "markdown",
   "metadata": {},
   "source": [
    "Select only alive trees, where the diameter was measured at 1.3 m, and diameter and height were measured. "
   ]
  },
  {
   "cell_type": "code",
   "execution_count": 5,
   "metadata": {},
   "outputs": [
    {
     "data": {
      "text/html": [
       "2752"
      ],
      "text/latex": [
       "2752"
      ],
      "text/markdown": [
       "2752"
      ],
      "text/plain": [
       "[1] 2752"
      ]
     },
     "metadata": {},
     "output_type": "display_data"
    }
   ],
   "source": [
    "ausplots_subset <- subset(ausplots_data,\n",
    "                          (Point_Of_Measurement == 1.3) &\n",
    "                          (Diameter > 0) &\n",
    "                          (Height > 0) &\n",
    "                          (Tree_Status == 'A'))\n",
    "nrow(ausplots_subset)"
   ]
  },
  {
   "cell_type": "code",
   "execution_count": 6,
   "metadata": {},
   "outputs": [
    {
     "data": {
      "image/png": "[encoded data removed]",
      "text/plain": [
       "plot without title"
      ]
     },
     "metadata": {},
     "output_type": "display_data"
    }
   ],
   "source": [
    "library(ggplot2)\n",
    "ggplot(ausplots_subset, aes(x = Diameter, y = Height)) +\n",
    "       geom_point() +\n",
    "       labs(x = \"Diameter (cm)\", y = \"Height (m)\") +\n",
    "       theme_bw()"
   ]
  },
  {
   "cell_type": "markdown",
   "metadata": {},
   "source": [
    "Firstly, the data has no locaion information, so we need to merge the dataframe with another dataset"
   ]
  },
  {
   "cell_type": "code",
   "execution_count": 8,
   "metadata": {},
   "outputs": [
    {
     "data": {
      "text/html": [
       "<ol class=list-inline>\n",
       "\t<li>'Ausplot_ID'</li>\n",
       "\t<li>'longitude'</li>\n",
       "\t<li>'latitude'</li>\n",
       "</ol>\n"
      ],
      "text/latex": [
       "\\begin{enumerate*}\n",
       "\\item 'Ausplot\\_ID'\n",
       "\\item 'longitude'\n",
       "\\item 'latitude'\n",
       "\\end{enumerate*}\n"
      ],
      "text/markdown": [
       "1. 'Ausplot_ID'\n",
       "2. 'longitude'\n",
       "3. 'latitude'\n",
       "\n",
       "\n"
      ],
      "text/plain": [
       "[1] \"Ausplot_ID\" \"longitude\"  \"latitude\"  "
      ]
     },
     "metadata": {},
     "output_type": "display_data"
    }
   ],
   "source": [
    "ausplots_locations <- read.csv('ausplot_forest_locations.csv')\n",
    "colnames(ausplots_locations)"
   ]
  },
  {
   "cell_type": "code",
   "execution_count": 14,
   "metadata": {},
   "outputs": [
    {
     "name": "stderr",
     "output_type": "stream",
     "text": [
      "\n",
      "Attaching package: 'dplyr'\n",
      "\n",
      "The following objects are masked from 'package:stats':\n",
      "\n",
      "    filter, lag\n",
      "\n",
      "The following objects are masked from 'package:base':\n",
      "\n",
      "    intersect, setdiff, setequal, union\n",
      "\n",
      "Joining, by = \"Ausplot_ID\"\n",
      "Warning message:\n",
      "\"Column `Ausplot_ID` joining factors with different levels, coercing to character vector\""
     ]
    },
    {
     "data": {
      "text/html": [
       "<ol class=list-inline>\n",
       "\t<li>'Ausplot_ID'</li>\n",
       "\t<li>'ID'</li>\n",
       "\t<li>'Site_Name'</li>\n",
       "\t<li>'Date'</li>\n",
       "\t<li>'Subplot'</li>\n",
       "\t<li>'Tree_ID'</li>\n",
       "\t<li>'Genus_Species'</li>\n",
       "\t<li>'Tree_Condition'</li>\n",
       "\t<li>'Tree_Status'</li>\n",
       "\t<li>'Mode_Of_Death'</li>\n",
       "\t<li>'Growth_Stage'</li>\n",
       "\t<li>'Crown_Class'</li>\n",
       "\t<li>'Diameter'</li>\n",
       "\t<li>'Point_Of_Measurement'</li>\n",
       "\t<li>'Diameter_2'</li>\n",
       "\t<li>'Point_Of_Measurement_2'</li>\n",
       "\t<li>'Height'</li>\n",
       "\t<li>'Bole_Height'</li>\n",
       "\t<li>'Height_Of_Break'</li>\n",
       "\t<li>'Historic_ID'</li>\n",
       "\t<li>'Comment'</li>\n",
       "\t<li>'longitude.x'</li>\n",
       "\t<li>'latitude.x'</li>\n",
       "\t<li>'longitude.y'</li>\n",
       "\t<li>'latitude.y'</li>\n",
       "\t<li>'longitude'</li>\n",
       "\t<li>'latitude'</li>\n",
       "</ol>\n"
      ],
      "text/latex": [
       "\\begin{enumerate*}\n",
       "\\item 'Ausplot\\_ID'\n",
       "\\item 'ID'\n",
       "\\item 'Site\\_Name'\n",
       "\\item 'Date'\n",
       "\\item 'Subplot'\n",
       "\\item 'Tree\\_ID'\n",
       "\\item 'Genus\\_Species'\n",
       "\\item 'Tree\\_Condition'\n",
       "\\item 'Tree\\_Status'\n",
       "\\item 'Mode\\_Of\\_Death'\n",
       "\\item 'Growth\\_Stage'\n",
       "\\item 'Crown\\_Class'\n",
       "\\item 'Diameter'\n",
       "\\item 'Point\\_Of\\_Measurement'\n",
       "\\item 'Diameter\\_2'\n",
       "\\item 'Point\\_Of\\_Measurement\\_2'\n",
       "\\item 'Height'\n",
       "\\item 'Bole\\_Height'\n",
       "\\item 'Height\\_Of\\_Break'\n",
       "\\item 'Historic\\_ID'\n",
       "\\item 'Comment'\n",
       "\\item 'longitude.x'\n",
       "\\item 'latitude.x'\n",
       "\\item 'longitude.y'\n",
       "\\item 'latitude.y'\n",
       "\\item 'longitude'\n",
       "\\item 'latitude'\n",
       "\\end{enumerate*}\n"
      ],
      "text/markdown": [
       "1. 'Ausplot_ID'\n",
       "2. 'ID'\n",
       "3. 'Site_Name'\n",
       "4. 'Date'\n",
       "5. 'Subplot'\n",
       "6. 'Tree_ID'\n",
       "7. 'Genus_Species'\n",
       "8. 'Tree_Condition'\n",
       "9. 'Tree_Status'\n",
       "10. 'Mode_Of_Death'\n",
       "11. 'Growth_Stage'\n",
       "12. 'Crown_Class'\n",
       "13. 'Diameter'\n",
       "14. 'Point_Of_Measurement'\n",
       "15. 'Diameter_2'\n",
       "16. 'Point_Of_Measurement_2'\n",
       "17. 'Height'\n",
       "18. 'Bole_Height'\n",
       "19. 'Height_Of_Break'\n",
       "20. 'Historic_ID'\n",
       "21. 'Comment'\n",
       "22. 'longitude.x'\n",
       "23. 'latitude.x'\n",
       "24. 'longitude.y'\n",
       "25. 'latitude.y'\n",
       "26. 'longitude'\n",
       "27. 'latitude'\n",
       "\n",
       "\n"
      ],
      "text/plain": [
       " [1] \"Ausplot_ID\"             \"ID\"                     \"Site_Name\"             \n",
       " [4] \"Date\"                   \"Subplot\"                \"Tree_ID\"               \n",
       " [7] \"Genus_Species\"          \"Tree_Condition\"         \"Tree_Status\"           \n",
       "[10] \"Mode_Of_Death\"          \"Growth_Stage\"           \"Crown_Class\"           \n",
       "[13] \"Diameter\"               \"Point_Of_Measurement\"   \"Diameter_2\"            \n",
       "[16] \"Point_Of_Measurement_2\" \"Height\"                 \"Bole_Height\"           \n",
       "[19] \"Height_Of_Break\"        \"Historic_ID\"            \"Comment\"               \n",
       "[22] \"longitude.x\"            \"latitude.x\"             \"longitude.y\"           \n",
       "[25] \"latitude.y\"             \"longitude\"              \"latitude\"              "
      ]
     },
     "metadata": {},
     "output_type": "display_data"
    }
   ],
   "source": [
    "library(dplyr)\n",
    "ausplots_subset <- inner_join(ausplots_subset, ausplots_locations)\n",
    "colnames(ausplots_subset)"
   ]
  },
  {
   "cell_type": "code",
   "execution_count": 19,
   "metadata": {},
   "outputs": [
    {
     "data": {
      "text/html": [
       "-30.15757"
      ],
      "text/latex": [
       "-30.15757"
      ],
      "text/markdown": [
       "-30.15757"
      ],
      "text/plain": [
       "[1] -30.15757"
      ]
     },
     "metadata": {},
     "output_type": "display_data"
    }
   ],
   "source": []
  },
  {
   "cell_type": "markdown",
   "metadata": {},
   "source": [
    "## Questions to answer ##\n",
    "\n",
    "How well have the trees of Australia been sampled?\n",
    "- Distribution of heights?\n",
    "- Dates?\n",
    "- Genus?\n",
    "\n",
    "What is the linear relationship between height and diameter?\n",
    "- intercept and slope?\n",
    "- R2?\n",
    "- RMSE?\n",
    "\n",
    "How similar is the Sydney tree data?\n",
    "\n",
    "Comparison of Sydney tree data with lidar data?"
   ]
  },
  {
   "cell_type": "code",
   "execution_count": null,
   "metadata": {},
   "outputs": [],
   "source": []
  }
 ],
 "metadata": {
  "kernelspec": {
   "display_name": "R",
   "language": "R",
   "name": "ir"
  },
  "language_info": {
   "codemirror_mode": "r",
   "file_extension": ".r",
   "mimetype": "text/x-r-source",
   "name": "R",
   "pygments_lexer": "r",
   "version": "3.6.1"
  }
 },
 "nbformat": 4,
 "nbformat_minor": 4
}
