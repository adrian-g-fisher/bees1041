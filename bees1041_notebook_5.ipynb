{
  "cells": [
    {
      "cell_type": "markdown",
      "metadata": {
        "id": "pbh399I-QR-Y"
      },
      "source": [
        "# BEES1041 Exploring the Natural World #\n",
        "# Week 5 Computer Exercise - Introduction to Python and Spatial Data #\n",
        "***\n",
        "This week you will use Python in this Jupyter notebook rather than R. The notebook shows that it is using `Python 3` in the top right corner. It sepcifies version `3` as there was a big change from version 2, and some people still like to use 'Python 2'. Python is very similar to R in many ways, as it is commonly used for scientific coding, it has lots of packages with specialist functions available, which are also refered to as libraries or modules. It also has some key differences to R, such as:\n",
        "- Python doesn't use the `<-` symbol, it just uses the equal sign `=`.\n",
        "- When counting, Python starts from 0 rather than 1.\n",
        "- Python doesn't let you import functions with the same name.\n",
        "- In Python you normally call a function from a module using the format `module.function()`.\n",
        "- It is a general-purpose programming language, while R has its roots in statistical analysis.\n",
        "\n",
        "The notebook is split into two exercises. First you will be introduced to some basic python code, to see how it works. Secondly, we will use spatial data to make some global maps, to learn how you can code with spatial data as well as spreadsheet data, and to see how different projections change the shape of the globe. Some of the cells in the latter part of the notebook might take a couple of minutes to run, but just wait until the `[*]` finishes to see the output.\n",
        "\n",
        "***\n",
        "## Part 1. Introduction to Python ##\n",
        "First you will see some common Python objects and functions. In Python and R, a text object is refered to as a `string` and is defined using either the single `''` or double quotes `\"\"`. You can easily create variables to store strings. For example, in the next code cell, you create a variable called `x` which stores the string `\"Hello world!\"`. You can then print the string in the output using the function `print()`."
      ]
    },
    {
      "cell_type": "code",
      "execution_count": null,
      "metadata": {
        "id": "j-_rk4rmQR-d"
      },
      "outputs": [],
      "source": [
        "x = \"Hello World!\"\n",
        "print(x)"
      ]
    },
    {
      "cell_type": "markdown",
      "metadata": {
        "id": "P4Jb7RxSQR-f"
      },
      "source": [
        "Printing a string that you have just defined like this may not seem very useful, but it illustrates the idea of storing strings in a variable. You can also create variables to store numbers, which you can then do calculations on. For example, the following code cell creates a variable called `a` that stores the value `23.56`, while variable `b` stores the value `2`, which we can multiply together."
      ]
    },
    {
      "cell_type": "code",
      "execution_count": null,
      "metadata": {
        "id": "5uhD2nYnQR-g"
      },
      "outputs": [],
      "source": [
        "a = 23.56\n",
        "b = 2\n",
        "a * b"
      ]
    },
    {
      "cell_type": "markdown",
      "metadata": {
        "id": "Kmc8eMhRQR-h"
      },
      "source": [
        "A common python object is called a `list`, which you can create with the square brackets `[]`. Python lists can store anything, so you can make a list called `c`, which will contain the values for `x`, `a` and `b` that we have already created. You can use the `print()` function to see what is in the list `c`. Functions like `print()` use round brackets, while lists use square brackets."
      ]
    },
    {
      "cell_type": "code",
      "execution_count": null,
      "metadata": {
        "id": "Bsb44nYIQR-i"
      },
      "outputs": [],
      "source": [
        "c = [x, a, b]\n",
        "print(c)"
      ]
    },
    {
      "cell_type": "markdown",
      "metadata": {
        "id": "_-hlLocDQR-j"
      },
      "source": [
        "The position of each item in a list is determined by its `index`, which is just a sequence of integer numbers starting from 0. To access the first item in list `c`, we can use `c[0]`."
      ]
    },
    {
      "cell_type": "code",
      "execution_count": null,
      "metadata": {
        "id": "Y0IBxujgQR-j"
      },
      "outputs": [],
      "source": [
        "c[0]"
      ]
    },
    {
      "cell_type": "markdown",
      "metadata": {
        "id": "pEgk_tVqQR-k"
      },
      "source": [
        "You can add items to a list so that it grows. Lets add the number 42 to our list `c`."
      ]
    },
    {
      "cell_type": "code",
      "execution_count": null,
      "metadata": {
        "id": "8_UbPwb3QR-l"
      },
      "outputs": [],
      "source": [
        "c.append(45)\n",
        "print(c)"
      ]
    },
    {
      "cell_type": "markdown",
      "metadata": {
        "id": "OJVRzAKZQR-m"
      },
      "source": [
        "You can also change items in a list. Lets replace the number 23.56 in `c` with the word \"Goodbye\"."
      ]
    },
    {
      "cell_type": "code",
      "execution_count": null,
      "metadata": {
        "id": "jfmJCVUvQR-m"
      },
      "outputs": [],
      "source": [
        "c[1] = \"Goodbye\"\n",
        "print(c)"
      ]
    },
    {
      "cell_type": "markdown",
      "metadata": {
        "id": "VHD7r8fDQR-m"
      },
      "source": [
        "A python object similar to a list, but which cannot be changed, is called a `tuple`. These are sometimes used by programmers to store groups of values, such as the coordinates of the corners of an image. The following cell creates a tuple called `t`, which stores two values, just by useing round brackets `()`. Values in tuples are indexed the same as lists, using square brackets. If you try and change the value in a tuple you will get an error."
      ]
    },
    {
      "cell_type": "code",
      "execution_count": null,
      "metadata": {
        "id": "HnV4gWJdQR-n"
      },
      "outputs": [],
      "source": [
        "t = (56, 87)\n",
        "print(t[0])"
      ]
    },
    {
      "cell_type": "markdown",
      "metadata": {
        "id": "zyzHU8V0QR-n"
      },
      "source": [
        "The most common Python objects used in scientific coding are `numpy` arrays. A `numpy` array is like a matrix, with rows and columns of numerical values, which is defined using functions from the `numpy` module. For example, when you read a satellite image into memory, the pixel values are stored as a `numpy` array. The following code creates a small array with 3 rows and 3 columns."
      ]
    },
    {
      "cell_type": "code",
      "execution_count": null,
      "metadata": {
        "id": "xHq4-nNFQR-n"
      },
      "outputs": [],
      "source": [
        "import numpy\n",
        "\n",
        "a = numpy.array([[1, 2, 3], [4, 5, 6], [7, 8, 9]])\n",
        "print(a)"
      ]
    },
    {
      "cell_type": "markdown",
      "metadata": {
        "id": "sValge5FQR-n"
      },
      "source": [
        "To access values in a `numpy` array you can use the index position inside square brackets. Because the array called `a` has rows and columns, it needs 2 indexes. The following code prints the value in the first row and first column. Numpy arrays, like lists, start counting from zero."
      ]
    },
    {
      "cell_type": "code",
      "execution_count": null,
      "metadata": {
        "id": "UNXcrNp-QR-o"
      },
      "outputs": [],
      "source": [
        "a[0, 0]"
      ]
    },
    {
      "cell_type": "markdown",
      "metadata": {
        "id": "3kPY2jD1QR-o"
      },
      "source": [
        "You can do mathematical and statistical operations on numpy arrays. The following cell adds 2 to all values in the the array `a`."
      ]
    },
    {
      "cell_type": "code",
      "execution_count": null,
      "metadata": {
        "id": "37z9BXzPQR-o"
      },
      "outputs": [],
      "source": [
        "a + 2"
      ]
    },
    {
      "cell_type": "markdown",
      "metadata": {
        "id": "yY_RidnvQR-p"
      },
      "source": [
        "You can add arrays together, like in the next cell."
      ]
    },
    {
      "cell_type": "code",
      "execution_count": null,
      "metadata": {
        "id": "Sd09gp0iQR-p"
      },
      "outputs": [],
      "source": [
        "b = numpy.array([[12, 11, 10], [9, 8, 7], [6, 5, 4]])\n",
        "a + b"
      ]
    },
    {
      "cell_type": "markdown",
      "metadata": {
        "id": "1Zm0-sHRQR-p"
      },
      "source": [
        "And you can calulate the average of an array, using the `numpy.mean()` function."
      ]
    },
    {
      "cell_type": "code",
      "execution_count": null,
      "metadata": {
        "id": "v-X9P0vnQR-p"
      },
      "outputs": [],
      "source": [
        "numpy.mean(a)"
      ]
    },
    {
      "cell_type": "markdown",
      "metadata": {
        "id": "QarMbrxMQR-q"
      },
      "source": [
        "***\n",
        "## Part 2. Plotting spatial data ##\n",
        "Now that you have seen some Python code, you will use it to plot some spatial data. I could have shown you how to read data from CSV files, conduct statistical analyses, and make plots using Python, just like you've learned in R. Instead of showing how to do the same thing, I thought you could look at plotting spatial data, which is an area where Python is really good. For example, the [Digital Earth Australia Sandbox](https://www.dea.ga.gov.au/) uses Python in Jupyter Notebooks to allow users to access and analyse spatial data all over Australia, using a special Python module called `datacube`.\n",
        "\n",
        "You should have downloaded a file called `global_gebco.tif` from Moodle, and uploaded it into your Jupyter lab environment. This file is a raster dataset of global topography and bathymetry (elevation above and below sea level) that I downloaded from [GEBCO](https://www.gebco.net/data_and_products/gridded_bathymetry_data/). I processed the data to make it a smaller file size, and easier to work with. Raster data is stored as a grid, or image, where the grid cells (or image pixels) are just numbers arranged in rows and columns. This makes them perfect to be read as `numpy` arrays. In order to read the GEBCO data with python, we need to import the `gdal` module. [GDAL](https://gdal.org/) is a translator library for raster and vector geospatial data formats, and is used by QGIS and ArcGIS. The following code imports the `gdal` library, then opens the GEBCO data and reads it in as a `numpy array`."
      ]
    },
    {
      "cell_type": "code",
      "execution_count": null,
      "metadata": {
        "id": "_kiZ8DMBQR-q"
      },
      "outputs": [],
      "source": [
        "from osgeo import gdal\n",
        "\n",
        "demFile = \"global_gebco.tif\"\n",
        "ds = gdal.Open(demFile)\n",
        "demArray = ds.ReadAsArray()\n",
        "print(demArray)"
      ]
    },
    {
      "cell_type": "markdown",
      "metadata": {
        "id": "8hXDaT6NQR-q"
      },
      "source": [
        "From the print statement, we can see that the GEBCO data was read as a grid of numbers, which are the elevation of the Earth's surface. Negative and positive numbers correspond to metres below and above sea level. You can see the number of rows and columns that the array has by using the `numpy.shape()` function."
      ]
    },
    {
      "cell_type": "code",
      "execution_count": null,
      "metadata": {
        "id": "gwZhiVy8QR-q"
      },
      "outputs": [],
      "source": [
        "numpy.shape(demArray)"
      ]
    },
    {
      "cell_type": "markdown",
      "metadata": {
        "id": "x4VlYsYyQR-r"
      },
      "source": [
        "You can calculate the average elevation of the Earth using the `numpy.mean()` function."
      ]
    },
    {
      "cell_type": "code",
      "execution_count": null,
      "metadata": {
        "id": "PZUsbTKyQR-r"
      },
      "outputs": [],
      "source": [
        "numpy.mean(demArray)"
      ]
    },
    {
      "cell_type": "markdown",
      "metadata": {
        "id": "2mZpTfnTQR-r"
      },
      "source": [
        "You can use Pythons main plotting library, called `matplotlib`, to plot the image, using the following code. This first defines a plot size (in inches), then adds an axes object, then adds the image. It colours the image with the `jet` colormap, which goes from blue to yelow to red as the values get larger."
      ]
    },
    {
      "cell_type": "code",
      "execution_count": null,
      "metadata": {
        "id": "8b0jlAUdQR-r"
      },
      "outputs": [],
      "source": [
        "import matplotlib.pyplot as plt\n",
        "\n",
        "fig = plt.figure(figsize=(10, 5))\n",
        "ax = fig.add_subplot(1, 1, 1)\n",
        "ax.imshow(demArray, cmap='jet')\n",
        "plt.show()"
      ]
    },
    {
      "cell_type": "markdown",
      "metadata": {
        "id": "IuFS3ccLQR-r"
      },
      "source": [
        "The axes of the plotted image above are labeled with the row and column numbers of the array, and it is not a proper map. In order to make a proper map, you need to define the coordinate reference system, just like you did in QGIS. The Python module called `cartopy` makes doing this easy. Run the following cell to install the package."
      ]
    },
    {
      "cell_type": "code",
      "source": [
        "%pip install cartopy"
      ],
      "metadata": {
        "id": "H8BcWJjqRBOf"
      },
      "execution_count": null,
      "outputs": []
    },
    {
      "cell_type": "markdown",
      "source": [
        "The following cell creates a plot of the globe in the Mercator projection. It uses an image of the globe that is part of the cartopy library."
      ],
      "metadata": {
        "id": "i41u-Um4RNeT"
      }
    },
    {
      "cell_type": "code",
      "execution_count": null,
      "metadata": {
        "id": "StVeyrnqQR-r"
      },
      "outputs": [],
      "source": [
        "import cartopy.crs as ccrs\n",
        "\n",
        "fig = plt.figure(figsize=(10, 5))\n",
        "ax = fig.add_subplot(1, 1, 1, projection=ccrs.Mercator())\n",
        "ax.set_global()\n",
        "ax.stock_img()\n",
        "plt.show()"
      ]
    },
    {
      "cell_type": "markdown",
      "metadata": {
        "id": "RCwWgYjCQR-s"
      },
      "source": [
        "The next cell lets you explore the way different projections change the shape of the globe. Projections are required because the globe is a sphere but maps are flat. The code creates a plot with three subplots, which each use different projections. The main function used is `add_subplot(rows, columns, index, projection)`, which controls the layout of the plot."
      ]
    },
    {
      "cell_type": "code",
      "execution_count": null,
      "metadata": {
        "id": "fxz9vPtpQR-s"
      },
      "outputs": [],
      "source": [
        "fig = plt.figure(figsize=(10, 5))\n",
        "\n",
        "ax1 = fig.add_subplot(1, 3, 1, projection=ccrs.Robinson())\n",
        "ax1.set_title('Robinson')\n",
        "ax1.set_global()\n",
        "ax1.stock_img()\n",
        "\n",
        "ax2 = fig.add_subplot(1, 3, 2, projection=ccrs.Mercator())\n",
        "ax2.set_title('Mercator')\n",
        "ax2.set_global()\n",
        "ax2.stock_img()\n",
        "\n",
        "ax3 = fig.add_subplot(1, 3, 3, projection=ccrs.Mollweide())\n",
        "ax3.set_title('Mollweide')\n",
        "ax3.set_global()\n",
        "ax3.stock_img()\n",
        "\n",
        "plt.show()"
      ]
    },
    {
      "cell_type": "markdown",
      "metadata": {
        "id": "VXCfqWL2QR-s"
      },
      "source": [
        "In order to plot the GEBCO data on the global map we need to know the CRS and the extent of the data. The CRS was listed on the website as being unprojected, which means it is defined by a grid of latitude and longitude. This is known by various names, such as a geographic projection, while `cartopy` uses the name plate carrée projection (which means flat square in French). The extents of the GEBCO data can be read using the GDAL function `GetGeoTransform()`, which returns a tuple."
      ]
    },
    {
      "cell_type": "code",
      "execution_count": null,
      "metadata": {
        "id": "2M5--9pEQR-s"
      },
      "outputs": [],
      "source": [
        "gt = ds.GetGeoTransform()\n",
        "print(gt)"
      ]
    },
    {
      "cell_type": "markdown",
      "metadata": {
        "id": "55ckdK48QR-s"
      },
      "source": [
        "The variable gt is a set of [6 values that define the geometry of the image](https://gdal.org/tutorials/geotransforms_tut.html).\n",
        "- `gt[0]` is the x-coordinate of the upper-left corner of the upper-left pixel.\n",
        "- `gt[1]` is the w-e pixel resolution (pixel width).\n",
        "- `gt[2]` is the row rotation (typically zero).\n",
        "- `gt[3`  is the y-coordinate of the upper-left corner of the upper-left pixel.\n",
        "- `gt[4]` is the column rotation (typically zero).\n",
        "- `gt[5]` is the n-s pixel resolution (pixel height), which is negative for a north-up image.\n",
        "\n",
        "Cartopy needs the coordinates of the bottom, top, left and right of the image, which we can calculate from the values in gt, to create a tuple called extent. To make these calculations we also need the number of columns and rows, which we can get from the `numpy.shape()` function."
      ]
    },
    {
      "cell_type": "code",
      "execution_count": null,
      "metadata": {
        "id": "E9QGc0gCQR-t"
      },
      "outputs": [],
      "source": [
        "(rows, columns) = numpy.shape(demArray)\n",
        "extent = (gt[0], gt[0] +  columns * gt[1],\n",
        "          gt[3] +  rows * gt[5], gt[3])\n",
        "print(extent)"
      ]
    },
    {
      "cell_type": "markdown",
      "metadata": {
        "id": "IQwxV6VVQR-t"
      },
      "source": [
        "Now we have enough information to project the GEBCO data on a cartopy map. Lets see what it looks like when the map has the Robinson projection. We need to define the `extent` and the `transform` of the image, but we can define any projection for the axes of the map. If you want to see what other projections look like, you can find the full list of possible projections on the [Cartopy](https://scitools.org.uk/cartopy/docs/v0.15/crs/projections.html) website. Try some of them out by changing `ccrs.Robinson()` to some other projections, such as `ccrs.Sinusoidal()` or `ccrs.InterruptedGoodeHomolosine()`."
      ]
    },
    {
      "cell_type": "code",
      "execution_count": null,
      "metadata": {
        "id": "3k7T_7RhQR-t"
      },
      "outputs": [],
      "source": [
        "fig = plt.figure(figsize=(10, 5))\n",
        "ax = fig.add_subplot(1, 1, 1, projection=ccrs.Robinson())\n",
        "ax.set_global()\n",
        "ax.imshow(demArray, cmap='jet', origin='upper', extent=extent, transform=ccrs.PlateCarree())\n",
        "plt.show()"
      ]
    },
    {
      "cell_type": "markdown",
      "metadata": {
        "id": "N7EhGb8WQR-t"
      },
      "source": [
        "In the map above it is hard to see the coastlines, where elevation is zero. To show these easier, I downloaded a dataset of global coastlines from the US [National Oceanic and Atmospheric Administration](https://www.ngdc.noaa.gov/mgg/shorelines/). I had to convert the data to a shapefile, and simplify it to reduce its size, but it is great to overlay on the GEBCO data. This shapefile consists of the following four files, which you need to download from Moodle and upload to your notebook environment.\n",
        "- world-coastline.shp\n",
        "- world-coastline.shx\n",
        "- world-coastline.dbf\n",
        "- world-coastline.prj\n",
        "\n",
        "You can open this shapefile and the GEBCO image in QGIS and see what they look like. We can also add the shapefile to the Cartopy map using the following code."
      ]
    },
    {
      "cell_type": "code",
      "execution_count": null,
      "metadata": {
        "id": "VG9Qx247QR-t"
      },
      "outputs": [],
      "source": [
        "from cartopy.io.shapereader import Reader\n",
        "from cartopy.feature import ShapelyFeature\n",
        "\n",
        "shapefile = \"world-coastline.shp\"\n",
        "shape_feature = ShapelyFeature(Reader(shapefile).geometries(), ccrs.PlateCarree(),\n",
        "                               facecolor='none', edgecolor='black', linewidth=0.5)\n",
        "\n",
        "fig = plt.figure(figsize=(10, 5))\n",
        "ax = fig.add_subplot(1, 1, 1, projection=ccrs.Robinson())\n",
        "ax.set_global()\n",
        "ax.imshow(demArray, cmap='jet', origin='upper', extent=extent, transform=ccrs.PlateCarree())\n",
        "ax.add_feature(shape_feature)\n",
        "plt.show()"
      ]
    },
    {
      "cell_type": "markdown",
      "metadata": {
        "id": "K1Przjs8QR-u"
      },
      "source": [
        "Although this map is starting to look good, there a few other things you can do to improve it.\n",
        "- Adding grid lines to show latitude and longitude would help.\n",
        "- Including a scale bar to show what values the colours represent would be good.\n",
        "- Lets also change the projection so the map highlights Australia in in the centre.\n",
        "\n",
        "The following code cell shows how adding grid lines is very easy with the `gridlines()` function. The `Orthographic()` projection shows the globe as from space, and setting the `central_longitude=135` and `central_latitude=-30` centres the map on Australia. Adding a colour scale bar is a little trickier, as it requires creating another axis and defining the maximum and minimum elevation values. The second last line of code saves the map as a PNG image, which you can download and keep."
      ]
    },
    {
      "cell_type": "code",
      "execution_count": null,
      "metadata": {
        "id": "I6jcE4nKQR-u"
      },
      "outputs": [],
      "source": [
        "fig = plt.figure(figsize=(5, 5))\n",
        "ax = fig.add_subplot(1, 1, 1, projection=ccrs.Orthographic(central_longitude=135, central_latitude=-30))\n",
        "ax.set_global()\n",
        "im = ax.imshow(demArray, cmap='jet', origin='upper', extent=extent, transform=ccrs.PlateCarree(), vmin=-6000, vmax=4000)\n",
        "ax.add_feature(shape_feature)\n",
        "ax.gridlines()\n",
        "\n",
        "cbaxes = fig.add_axes([0.7, 0.1, 0.2, 0.01])\n",
        "cbar = plt.colorbar(im, orientation='horizontal', cax=cbaxes, ticks=[-6000, 0, 4000])\n",
        "cbar.set_label('Elevation (m)')\n",
        "\n",
        "plt.savefig(\"globe_jet.png\", dpi=300)\n",
        "plt.show()"
      ]
    },
    {
      "cell_type": "markdown",
      "metadata": {
        "tags": [],
        "id": "REtz2s48QR-u"
      },
      "source": [
        "This is the end of the exercise. You have learned about some basic Python objects and functions that can be used for scientific analysis. You have also learned how spatial data can be plotted in Python using the gdal, matplotlib and cartopy modules. By experimenting with different projections, you have also seen how all global maps need to distort the round surface to a flat plane. That is why I like using the orthographic projection, which maintains the spherical shape, even if it can't show the whole world.\n",
        "\n",
        "***\n",
        "# Final instructions #\n",
        "There are a few things you need to do:\n",
        "- Dont forget to answer the Moodle quiz questions for this exercise.\n",
        "- If you have any problems, or questions, please post on the Moodle forum.\n",
        "- Save the completed notebook and download it to your computer, as SWAN scratch directories get emptied. Or you can move the files into your Cloustor directory.\n",
        "\n",
        "***\n",
        "# Further exercises #\n",
        "It would be interesting to create a similar map to the one above, but zoomed in on Australia. Have a go at doing this by adding a code cell, copying the cell that made the last map, and make the following changes to the code:\n",
        "- Make the figure size 8 x 8 inches.\n",
        "- Instead of using `ax.set_global()` use `ax.set_extent([110, 155, -5, -45], crs=ccrs.PlateCarree())`, to zoom in on Australia.\n",
        "- Change the maximum elevation to 2000 m, as Australia's highest mountain is only 2228 m.\n",
        "\n",
        "Go to the website for more information on using [Cartopy](https://scitools.org.uk/cartopy/docs/latest/index.html). The [Gallery](https://scitools.org.uk/cartopy/docs/latest/gallery/index.html) is particularly good to see what is possible."
      ]
    }
  ],
  "metadata": {
    "kernelspec": {
      "display_name": "Python 3 (ipykernel)",
      "language": "python",
      "name": "python3"
    },
    "language_info": {
      "codemirror_mode": {
        "name": "ipython",
        "version": 3
      },
      "file_extension": ".py",
      "mimetype": "text/x-python",
      "name": "python",
      "nbconvert_exporter": "python",
      "pygments_lexer": "ipython3",
      "version": "3.12.5"
    },
    "colab": {
      "provenance": []
    }
  },
  "nbformat": 4,
  "nbformat_minor": 0
}